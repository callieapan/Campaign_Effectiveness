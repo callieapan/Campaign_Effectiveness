{
 "cells": [
  {
   "cell_type": "code",
   "execution_count": 1,
   "metadata": {},
   "outputs": [],
   "source": [
    "import numpy as np\n",
    "import pandas as pd\n",
    "import matplotlib.pyplot as plt"
   ]
  },
  {
   "cell_type": "code",
   "execution_count": 2,
   "metadata": {},
   "outputs": [
    {
     "name": "stderr",
     "output_type": "stream",
     "text": [
      "C:\\Users\\80160001\\AppData\\Local\\Continuum\\anaconda3\\lib\\site-packages\\IPython\\core\\interactiveshell.py:3044: DtypeWarning: Columns (15) have mixed types. Specify dtype option on import or set low_memory=False.\n",
      "  interactivity=interactivity, compiler=compiler, result=result)\n"
     ]
    }
   ],
   "source": [
    "#read General sales file\n",
    "Target_Sales = pd.read_csv(\"Target_Sales_2017-2018.csv\", encoding = \"ISO-8859-1\")\n",
    "\n",
    "dropInd=Target_Sales[Target_Sales['UPC']=='Filler'].index\n",
    "Target_Sales.drop(index = dropInd, inplace=True)\n",
    "\n",
    "Target_Sales[\"UPC\"] = Target_Sales[\"UPC\"].astype(np.int64)\n",
    "Target_Sales[\"Wk End\"] = pd.to_datetime(Target_Sales['Wk End'], infer_datetime_format=True)\n",
    "#Target_Sales[\"DayofWeek\"] = Target_Sales[\"Wk End\"].dt.dayofweek\n",
    "Target_Sales[\"YEAR\"] = Target_Sales[\"Wk End\"].dt.year\n",
    "Target_Sales[\"WeekNum\"] = Target_Sales[\"Wk End\"].dt.week\n",
    "Target_Sales[\"YEARWeekNum\"] = Target_Sales[\"YEAR\"].astype(str)+\"-\"+Target_Sales[\"WeekNum\"].astype(str)"
   ]
  },
  {
   "cell_type": "code",
   "execution_count": 3,
   "metadata": {},
   "outputs": [
    {
     "data": {
      "text/plain": [
       "Index(['Filter BU 1', 'BU', 'BU (VisualizationFactView)', 'Brand Name',\n",
       "       'UPC Title', 'Wk End', 'Filter Year', 'Fiscal Year Number',\n",
       "       'Gross Sales', 'IRI Category (UPCHierarchyView)',\n",
       "       'IRI SubCategory (UPCHierarchyView)', 'Filter Parent Name',\n",
       "       'Pepsi Quarter', 'Period Number', 'Shipped Units', 'UPC',\n",
       "       'UPC (VisualizationFactView)', 'YEAR', 'WeekNum', 'YEARWeekNum'],\n",
       "      dtype='object')"
      ]
     },
     "execution_count": 3,
     "metadata": {},
     "output_type": "execute_result"
    }
   ],
   "source": [
    "Target_Sales.columns"
   ]
  },
  {
   "cell_type": "code",
   "execution_count": 4,
   "metadata": {},
   "outputs": [],
   "source": [
    "TSalesLt = Target_Sales[[\"UPC\",\"Gross Sales\",\"YEAR\", \"WeekNum\", \"YEARWeekNum\"]].copy()"
   ]
  },
  {
   "cell_type": "code",
   "execution_count": 5,
   "metadata": {},
   "outputs": [
    {
     "data": {
      "text/html": [
       "<div>\n",
       "<style scoped>\n",
       "    .dataframe tbody tr th:only-of-type {\n",
       "        vertical-align: middle;\n",
       "    }\n",
       "\n",
       "    .dataframe tbody tr th {\n",
       "        vertical-align: top;\n",
       "    }\n",
       "\n",
       "    .dataframe thead th {\n",
       "        text-align: right;\n",
       "    }\n",
       "</style>\n",
       "<table border=\"1\" class=\"dataframe\">\n",
       "  <thead>\n",
       "    <tr style=\"text-align: right;\">\n",
       "      <th></th>\n",
       "      <th>UPC</th>\n",
       "      <th>Gross Sales</th>\n",
       "      <th>YEAR</th>\n",
       "      <th>WeekNum</th>\n",
       "      <th>YEARWeekNum</th>\n",
       "    </tr>\n",
       "  </thead>\n",
       "  <tbody>\n",
       "    <tr>\n",
       "      <th>0</th>\n",
       "      <td>28400243490</td>\n",
       "      <td>13.96</td>\n",
       "      <td>2017</td>\n",
       "      <td>45</td>\n",
       "      <td>2017-45</td>\n",
       "    </tr>\n",
       "    <tr>\n",
       "      <th>1</th>\n",
       "      <td>876063002035</td>\n",
       "      <td>13.16</td>\n",
       "      <td>2017</td>\n",
       "      <td>42</td>\n",
       "      <td>2017-42</td>\n",
       "    </tr>\n",
       "    <tr>\n",
       "      <th>2</th>\n",
       "      <td>876063002806</td>\n",
       "      <td>3.29</td>\n",
       "      <td>2017</td>\n",
       "      <td>51</td>\n",
       "      <td>2017-51</td>\n",
       "    </tr>\n",
       "  </tbody>\n",
       "</table>\n",
       "</div>"
      ],
      "text/plain": [
       "            UPC  Gross Sales  YEAR  WeekNum YEARWeekNum\n",
       "0   28400243490        13.96  2017       45     2017-45\n",
       "1  876063002035        13.16  2017       42     2017-42\n",
       "2  876063002806         3.29  2017       51     2017-51"
      ]
     },
     "execution_count": 5,
     "metadata": {},
     "output_type": "execute_result"
    }
   ],
   "source": [
    "TSalesLt.head(3)"
   ]
  },
  {
   "cell_type": "code",
   "execution_count": 6,
   "metadata": {},
   "outputs": [
    {
     "data": {
      "text/plain": [
       "UPC               0\n",
       "Gross Sales    9630\n",
       "YEAR              0\n",
       "WeekNum           0\n",
       "YEARWeekNum       0\n",
       "dtype: int64"
      ]
     },
     "execution_count": 6,
     "metadata": {},
     "output_type": "execute_result"
    }
   ],
   "source": [
    "TSalesLt.isnull().sum() #there were some sales were null, fill them"
   ]
  },
  {
   "cell_type": "code",
   "execution_count": 7,
   "metadata": {},
   "outputs": [
    {
     "data": {
      "text/plain": [
       "UPC            0\n",
       "Gross Sales    0\n",
       "YEAR           0\n",
       "WeekNum        0\n",
       "YEARWeekNum    0\n",
       "dtype: int64"
      ]
     },
     "execution_count": 7,
     "metadata": {},
     "output_type": "execute_result"
    }
   ],
   "source": [
    "TSalesLt.fillna(0, inplace = True)\n",
    "TSalesLt.isnull().sum()"
   ]
  },
  {
   "cell_type": "code",
   "execution_count": 8,
   "metadata": {},
   "outputs": [],
   "source": [
    "#read campaign data\n",
    "TargetCamp = pd.read_csv(\"TGT_PM_Pepsi_Wrap_Up_Report_4.1.19.csv\", encoding = \"ISO-8859-1\")\n",
    "\n",
    "TargetCamp.rename(columns = {' Spend ': 'Spend'}, inplace=True)\n",
    "TargetCamp[\"UPC\"] = TargetCamp[\"UPC\"].astype(np.int64)\n",
    "TargetCamp[\"Date\"] = pd.to_datetime(TargetCamp['Date'], infer_datetime_format=True)\n",
    "#TargetCamp[\"DayofWeek\"] = TargetCamp[\"Date\"].dt.dayofweek\n",
    "TargetCamp[\"YEAR\"] = TargetCamp[\"Date\"].dt.year\n",
    "TargetCamp[\"WeekNum\"] = TargetCamp[\"Date\"].dt.week\n",
    "TargetCamp[\"YEARWeekNum\"] = TargetCamp[\"YEAR\"].astype(str)+\"-\"+TargetCamp[\"WeekNum\"].astype(str)\n",
    "TargetCampLt = TargetCamp.drop(columns=['Account Id', 'Account Name', 'Campaign Id', 'Campaign Name', 'Date',\n",
    "                        'TCIN Name', 'Impressions', 'Clicks']).copy()"
   ]
  },
  {
   "cell_type": "code",
   "execution_count": 9,
   "metadata": {},
   "outputs": [
    {
     "data": {
      "text/html": [
       "<div>\n",
       "<style scoped>\n",
       "    .dataframe tbody tr th:only-of-type {\n",
       "        vertical-align: middle;\n",
       "    }\n",
       "\n",
       "    .dataframe tbody tr th {\n",
       "        vertical-align: top;\n",
       "    }\n",
       "\n",
       "    .dataframe thead th {\n",
       "        text-align: right;\n",
       "    }\n",
       "</style>\n",
       "<table border=\"1\" class=\"dataframe\">\n",
       "  <thead>\n",
       "    <tr style=\"text-align: right;\">\n",
       "      <th></th>\n",
       "      <th>UPC</th>\n",
       "      <th>TCIN</th>\n",
       "      <th>Spend</th>\n",
       "      <th>YEAR</th>\n",
       "      <th>WeekNum</th>\n",
       "      <th>YEARWeekNum</th>\n",
       "    </tr>\n",
       "  </thead>\n",
       "  <tbody>\n",
       "    <tr>\n",
       "      <th>0</th>\n",
       "      <td>12000142086</td>\n",
       "      <td>16958332</td>\n",
       "      <td>4</td>\n",
       "      <td>2018</td>\n",
       "      <td>34</td>\n",
       "      <td>2018-34</td>\n",
       "    </tr>\n",
       "    <tr>\n",
       "      <th>1</th>\n",
       "      <td>12000142086</td>\n",
       "      <td>16958332</td>\n",
       "      <td>0</td>\n",
       "      <td>2018</td>\n",
       "      <td>34</td>\n",
       "      <td>2018-34</td>\n",
       "    </tr>\n",
       "    <tr>\n",
       "      <th>2</th>\n",
       "      <td>12000142086</td>\n",
       "      <td>16958332</td>\n",
       "      <td>10</td>\n",
       "      <td>2018</td>\n",
       "      <td>34</td>\n",
       "      <td>2018-34</td>\n",
       "    </tr>\n",
       "  </tbody>\n",
       "</table>\n",
       "</div>"
      ],
      "text/plain": [
       "           UPC      TCIN  Spend  YEAR  WeekNum YEARWeekNum\n",
       "0  12000142086  16958332      4  2018       34     2018-34\n",
       "1  12000142086  16958332      0  2018       34     2018-34\n",
       "2  12000142086  16958332     10  2018       34     2018-34"
      ]
     },
     "execution_count": 9,
     "metadata": {},
     "output_type": "execute_result"
    }
   ],
   "source": [
    "TargetCampLt.head(3)"
   ]
  },
  {
   "cell_type": "code",
   "execution_count": 10,
   "metadata": {},
   "outputs": [],
   "source": [
    "#some variables for campaign year and campaign weeks\n",
    "campYear = 2018\n",
    "campWeeks = np.sort(TargetCamp[\"WeekNum\"].unique())"
   ]
  },
  {
   "cell_type": "code",
   "execution_count": 11,
   "metadata": {},
   "outputs": [
    {
     "name": "stdout",
     "output_type": "stream",
     "text": [
      "unique UPCs 174\n",
      "unique TCINs 181\n"
     ]
    }
   ],
   "source": [
    "print(\"unique UPCs {}\".format(len(TargetCamp.UPC.unique())))\n",
    "print(\"unique TCINs {}\".format(len(TargetCamp.TCIN.unique())))"
   ]
  },
  {
   "cell_type": "code",
   "execution_count": 12,
   "metadata": {},
   "outputs": [],
   "source": [
    "## Optional ##\n",
    "#since there are some UPC with multiple TCINs, we need to merge those spends for the single UPC\n",
    "UPCtoTCIN = TargetCamp.groupby([\"UPC\",\"TCIN\"])[\"Account Id\"].count().reset_index().groupby([\"UPC\"])[\"TCIN\"].count()"
   ]
  },
  {
   "cell_type": "code",
   "execution_count": 13,
   "metadata": {},
   "outputs": [
    {
     "data": {
      "text/plain": [
       "UPC\n",
       "492717000000    3\n",
       "818094000000    5\n",
       "836093000000    2\n",
       "Name: TCIN, dtype: int64"
      ]
     },
     "execution_count": 13,
     "metadata": {},
     "output_type": "execute_result"
    }
   ],
   "source": [
    "#spot check that the 1  UPC to many TCIN cases\n",
    "UPCtoTCIN[UPCtoTCIN>1]"
   ]
  },
  {
   "cell_type": "code",
   "execution_count": 14,
   "metadata": {},
   "outputs": [
    {
     "data": {
      "text/plain": [
       "Int64Index([492717000000, 818094000000, 836093000000], dtype='int64', name='UPC')"
      ]
     },
     "execution_count": 14,
     "metadata": {},
     "output_type": "execute_result"
    }
   ],
   "source": [
    "UPCtoTCIN[UPCtoTCIN>1].index"
   ]
  },
  {
   "cell_type": "code",
   "execution_count": 15,
   "metadata": {},
   "outputs": [
    {
     "data": {
      "text/plain": [
       "array([12958487, 14771376, 15275597, 14771377, 12958668], dtype=int64)"
      ]
     },
     "execution_count": 15,
     "metadata": {},
     "output_type": "execute_result"
    }
   ],
   "source": [
    "TargetCamp[TargetCamp[\"UPC\"]==818094000000.0][\"TCIN\"].unique()"
   ]
  },
  {
   "cell_type": "code",
   "execution_count": 16,
   "metadata": {},
   "outputs": [
    {
     "data": {
      "text/html": [
       "<div>\n",
       "<style scoped>\n",
       "    .dataframe tbody tr th:only-of-type {\n",
       "        vertical-align: middle;\n",
       "    }\n",
       "\n",
       "    .dataframe tbody tr th {\n",
       "        vertical-align: top;\n",
       "    }\n",
       "\n",
       "    .dataframe thead th {\n",
       "        text-align: right;\n",
       "    }\n",
       "</style>\n",
       "<table border=\"1\" class=\"dataframe\">\n",
       "  <thead>\n",
       "    <tr style=\"text-align: right;\">\n",
       "      <th></th>\n",
       "      <th>Account Id</th>\n",
       "      <th>Account Name</th>\n",
       "      <th>Campaign Id</th>\n",
       "      <th>Campaign Name</th>\n",
       "      <th>Date</th>\n",
       "      <th>UPC</th>\n",
       "      <th>TCIN</th>\n",
       "      <th>TCIN Name</th>\n",
       "      <th>Impressions</th>\n",
       "      <th>Clicks</th>\n",
       "      <th>Spend</th>\n",
       "      <th>YEAR</th>\n",
       "      <th>WeekNum</th>\n",
       "      <th>YEARWeekNum</th>\n",
       "    </tr>\n",
       "  </thead>\n",
       "  <tbody>\n",
       "    <tr>\n",
       "      <th>265</th>\n",
       "      <td>2121480</td>\n",
       "      <td>PepsiCo - Target</td>\n",
       "      <td>43903</td>\n",
       "      <td>NATL_Brand Direct_PepsiCo AON Search_Flight_Ca...</td>\n",
       "      <td>2018-08-21</td>\n",
       "      <td>818094000000</td>\n",
       "      <td>12958487</td>\n",
       "      <td>Rockstar Sugar Free Double Strength Energy Dri...</td>\n",
       "      <td>160</td>\n",
       "      <td>1</td>\n",
       "      <td>2</td>\n",
       "      <td>2018</td>\n",
       "      <td>34</td>\n",
       "      <td>2018-34</td>\n",
       "    </tr>\n",
       "  </tbody>\n",
       "</table>\n",
       "</div>"
      ],
      "text/plain": [
       "     Account Id      Account Name  Campaign Id  \\\n",
       "265     2121480  PepsiCo - Target        43903   \n",
       "\n",
       "                                         Campaign Name       Date  \\\n",
       "265  NATL_Brand Direct_PepsiCo AON Search_Flight_Ca... 2018-08-21   \n",
       "\n",
       "              UPC      TCIN  \\\n",
       "265  818094000000  12958487   \n",
       "\n",
       "                                             TCIN Name  Impressions  Clicks  \\\n",
       "265  Rockstar Sugar Free Double Strength Energy Dri...          160       1   \n",
       "\n",
       "     Spend  YEAR  WeekNum YEARWeekNum  \n",
       "265      2  2018       34     2018-34  "
      ]
     },
     "execution_count": 16,
     "metadata": {},
     "output_type": "execute_result"
    }
   ],
   "source": [
    "TargetCamp[TargetCamp[\"TCIN\"]==12958487].head(1) #the first two TCINs for UPC 818094000000"
   ]
  },
  {
   "cell_type": "code",
   "execution_count": 17,
   "metadata": {},
   "outputs": [
    {
     "data": {
      "text/html": [
       "<div>\n",
       "<style scoped>\n",
       "    .dataframe tbody tr th:only-of-type {\n",
       "        vertical-align: middle;\n",
       "    }\n",
       "\n",
       "    .dataframe tbody tr th {\n",
       "        vertical-align: top;\n",
       "    }\n",
       "\n",
       "    .dataframe thead th {\n",
       "        text-align: right;\n",
       "    }\n",
       "</style>\n",
       "<table border=\"1\" class=\"dataframe\">\n",
       "  <thead>\n",
       "    <tr style=\"text-align: right;\">\n",
       "      <th></th>\n",
       "      <th>Account Id</th>\n",
       "      <th>Account Name</th>\n",
       "      <th>Campaign Id</th>\n",
       "      <th>Campaign Name</th>\n",
       "      <th>Date</th>\n",
       "      <th>UPC</th>\n",
       "      <th>TCIN</th>\n",
       "      <th>TCIN Name</th>\n",
       "      <th>Impressions</th>\n",
       "      <th>Clicks</th>\n",
       "      <th>Spend</th>\n",
       "      <th>YEAR</th>\n",
       "      <th>WeekNum</th>\n",
       "      <th>YEARWeekNum</th>\n",
       "    </tr>\n",
       "  </thead>\n",
       "  <tbody>\n",
       "    <tr>\n",
       "      <th>337</th>\n",
       "      <td>2121480</td>\n",
       "      <td>PepsiCo - Target</td>\n",
       "      <td>43903</td>\n",
       "      <td>NATL_Brand Direct_PepsiCo AON Search_Flight_Ca...</td>\n",
       "      <td>2018-08-21</td>\n",
       "      <td>818094000000</td>\n",
       "      <td>14771376</td>\n",
       "      <td>Rockstar Pure Zero Silver Ice Energy Drink - 1...</td>\n",
       "      <td>13</td>\n",
       "      <td>0</td>\n",
       "      <td>0</td>\n",
       "      <td>2018</td>\n",
       "      <td>34</td>\n",
       "      <td>2018-34</td>\n",
       "    </tr>\n",
       "  </tbody>\n",
       "</table>\n",
       "</div>"
      ],
      "text/plain": [
       "     Account Id      Account Name  Campaign Id  \\\n",
       "337     2121480  PepsiCo - Target        43903   \n",
       "\n",
       "                                         Campaign Name       Date  \\\n",
       "337  NATL_Brand Direct_PepsiCo AON Search_Flight_Ca... 2018-08-21   \n",
       "\n",
       "              UPC      TCIN  \\\n",
       "337  818094000000  14771376   \n",
       "\n",
       "                                             TCIN Name  Impressions  Clicks  \\\n",
       "337  Rockstar Pure Zero Silver Ice Energy Drink - 1...           13       0   \n",
       "\n",
       "     Spend  YEAR  WeekNum YEARWeekNum  \n",
       "337      0  2018       34     2018-34  "
      ]
     },
     "execution_count": 17,
     "metadata": {},
     "output_type": "execute_result"
    }
   ],
   "source": [
    "TargetCamp[TargetCamp[\"TCIN\"]==14771376].head(1) #there are similar product but slightly different\n",
    "## Optional END"
   ]
  },
  {
   "cell_type": "code",
   "execution_count": 18,
   "metadata": {},
   "outputs": [],
   "source": [
    "#roll the Campaign data into weekly so it matches with the time series frequency of Target Sales data\n",
    "#also the one UPC to many TCIN cases,  those spend will be summed to the single UPC\n",
    "#TCgroup=TargetCamp.groupby([\"TCIN\", \"UPC\", \"YEAR\", \"WeekNum\"]).agg({\"Impressions\": \"sum\", \"Clicks\": \"sum\", \"Spend\":\"sum\" })\n",
    "TCWeekly = TargetCampLt.groupby([\"UPC\", \"YEAR\", \"WeekNum\", \"YEARWeekNum\"], as_index=False)[\"Spend\"].sum()"
   ]
  },
  {
   "cell_type": "code",
   "execution_count": 19,
   "metadata": {},
   "outputs": [
    {
     "data": {
      "text/plain": [
       "174"
      ]
     },
     "execution_count": 19,
     "metadata": {},
     "output_type": "execute_result"
    }
   ],
   "source": [
    "len(TCWeekly.UPC.unique()) #should be 181"
   ]
  },
  {
   "cell_type": "code",
   "execution_count": 20,
   "metadata": {},
   "outputs": [
    {
     "data": {
      "text/html": [
       "<div>\n",
       "<style scoped>\n",
       "    .dataframe tbody tr th:only-of-type {\n",
       "        vertical-align: middle;\n",
       "    }\n",
       "\n",
       "    .dataframe tbody tr th {\n",
       "        vertical-align: top;\n",
       "    }\n",
       "\n",
       "    .dataframe thead th {\n",
       "        text-align: right;\n",
       "    }\n",
       "</style>\n",
       "<table border=\"1\" class=\"dataframe\">\n",
       "  <thead>\n",
       "    <tr style=\"text-align: right;\">\n",
       "      <th></th>\n",
       "      <th>UPC</th>\n",
       "      <th>YEAR</th>\n",
       "      <th>WeekNum</th>\n",
       "      <th>YEARWeekNum</th>\n",
       "      <th>Spend</th>\n",
       "    </tr>\n",
       "  </thead>\n",
       "  <tbody>\n",
       "    <tr>\n",
       "      <th>0</th>\n",
       "      <td>12000002304</td>\n",
       "      <td>2018</td>\n",
       "      <td>35</td>\n",
       "      <td>2018-35</td>\n",
       "      <td>0</td>\n",
       "    </tr>\n",
       "    <tr>\n",
       "      <th>1</th>\n",
       "      <td>12000002304</td>\n",
       "      <td>2018</td>\n",
       "      <td>36</td>\n",
       "      <td>2018-36</td>\n",
       "      <td>8</td>\n",
       "    </tr>\n",
       "    <tr>\n",
       "      <th>2</th>\n",
       "      <td>12000002304</td>\n",
       "      <td>2018</td>\n",
       "      <td>37</td>\n",
       "      <td>2018-37</td>\n",
       "      <td>5</td>\n",
       "    </tr>\n",
       "  </tbody>\n",
       "</table>\n",
       "</div>"
      ],
      "text/plain": [
       "           UPC  YEAR  WeekNum YEARWeekNum  Spend\n",
       "0  12000002304  2018       35     2018-35      0\n",
       "1  12000002304  2018       36     2018-36      8\n",
       "2  12000002304  2018       37     2018-37      5"
      ]
     },
     "execution_count": 20,
     "metadata": {},
     "output_type": "execute_result"
    }
   ],
   "source": [
    "TCWeekly.head(3)#check that it works"
   ]
  },
  {
   "cell_type": "code",
   "execution_count": 21,
   "metadata": {},
   "outputs": [
    {
     "data": {
      "text/plain": [
       "44797"
      ]
     },
     "execution_count": 21,
     "metadata": {},
     "output_type": "execute_result"
    }
   ],
   "source": [
    "TCWeekly[\"Spend\"].sum() # should be 44797"
   ]
  },
  {
   "cell_type": "code",
   "execution_count": 22,
   "metadata": {},
   "outputs": [
    {
     "data": {
      "text/plain": [
       "array([27, 28, 29, 30, 31, 32, 33, 34, 35, 36, 37, 38, 39, 40, 41, 42, 43,\n",
       "       44], dtype=int64)"
      ]
     },
     "execution_count": 22,
     "metadata": {},
     "output_type": "execute_result"
    }
   ],
   "source": [
    "campWeeks"
   ]
  },
  {
   "cell_type": "code",
   "execution_count": 23,
   "metadata": {},
   "outputs": [],
   "source": [
    "#make YearWkNumdf\n",
    "YearWkNum17 = list(map(lambda x: \"2017-\"+str(x),campWeeks))\n",
    "YearWkNum18 = list(map(lambda x: \"2018-\"+str(x),campWeeks))\n",
    "YearWkNumdf = pd.DataFrame({\"YEAR\": [2017]*18 + [2018]*18, \"WeekNum\": list(campWeeks)*2,\n",
    "                            \"YEARWeekNum\":YearWkNum17+YearWkNum18})"
   ]
  },
  {
   "cell_type": "code",
   "execution_count": 24,
   "metadata": {},
   "outputs": [
    {
     "data": {
      "text/html": [
       "<div>\n",
       "<style scoped>\n",
       "    .dataframe tbody tr th:only-of-type {\n",
       "        vertical-align: middle;\n",
       "    }\n",
       "\n",
       "    .dataframe tbody tr th {\n",
       "        vertical-align: top;\n",
       "    }\n",
       "\n",
       "    .dataframe thead th {\n",
       "        text-align: right;\n",
       "    }\n",
       "</style>\n",
       "<table border=\"1\" class=\"dataframe\">\n",
       "  <thead>\n",
       "    <tr style=\"text-align: right;\">\n",
       "      <th></th>\n",
       "      <th>YEAR</th>\n",
       "      <th>WeekNum</th>\n",
       "      <th>YEARWeekNum</th>\n",
       "    </tr>\n",
       "  </thead>\n",
       "  <tbody>\n",
       "    <tr>\n",
       "      <th>31</th>\n",
       "      <td>2018</td>\n",
       "      <td>40</td>\n",
       "      <td>2018-40</td>\n",
       "    </tr>\n",
       "    <tr>\n",
       "      <th>32</th>\n",
       "      <td>2018</td>\n",
       "      <td>41</td>\n",
       "      <td>2018-41</td>\n",
       "    </tr>\n",
       "    <tr>\n",
       "      <th>33</th>\n",
       "      <td>2018</td>\n",
       "      <td>42</td>\n",
       "      <td>2018-42</td>\n",
       "    </tr>\n",
       "    <tr>\n",
       "      <th>34</th>\n",
       "      <td>2018</td>\n",
       "      <td>43</td>\n",
       "      <td>2018-43</td>\n",
       "    </tr>\n",
       "    <tr>\n",
       "      <th>35</th>\n",
       "      <td>2018</td>\n",
       "      <td>44</td>\n",
       "      <td>2018-44</td>\n",
       "    </tr>\n",
       "  </tbody>\n",
       "</table>\n",
       "</div>"
      ],
      "text/plain": [
       "    YEAR  WeekNum YEARWeekNum\n",
       "31  2018       40     2018-40\n",
       "32  2018       41     2018-41\n",
       "33  2018       42     2018-42\n",
       "34  2018       43     2018-43\n",
       "35  2018       44     2018-44"
      ]
     },
     "execution_count": 24,
     "metadata": {},
     "output_type": "execute_result"
    }
   ],
   "source": [
    "YearWkNumdf.tail()"
   ]
  },
  {
   "cell_type": "code",
   "execution_count": 25,
   "metadata": {},
   "outputs": [
    {
     "data": {
      "text/plain": [
       "YEAR            int64\n",
       "WeekNum         int64\n",
       "YEARWeekNum    object\n",
       "dtype: object"
      ]
     },
     "execution_count": 25,
     "metadata": {},
     "output_type": "execute_result"
    }
   ],
   "source": [
    "YearWkNumdf.dtypes"
   ]
  },
  {
   "cell_type": "code",
   "execution_count": 26,
   "metadata": {},
   "outputs": [
    {
     "data": {
      "text/plain": [
       "(36, 3)"
      ]
     },
     "execution_count": 26,
     "metadata": {},
     "output_type": "execute_result"
    }
   ],
   "source": [
    "YearWkNumdf.shape"
   ]
  },
  {
   "cell_type": "code",
   "execution_count": 27,
   "metadata": {},
   "outputs": [],
   "source": [
    "#check that all Target Campaign UPC  is in sales\n",
    "#there are actually soome Campaign UPCs that are msising from sales UPCs\n",
    "SalesUPC = set(TSalesLt.UPC.unique())"
   ]
  },
  {
   "cell_type": "code",
   "execution_count": 28,
   "metadata": {},
   "outputs": [],
   "source": [
    "CampUPC = set(TCWeekly.UPC.unique())"
   ]
  },
  {
   "cell_type": "code",
   "execution_count": 29,
   "metadata": {},
   "outputs": [
    {
     "data": {
      "text/plain": [
       "{28400154406,\n",
       " 28400154437,\n",
       " 28400154550,\n",
       " 28400154659,\n",
       " 28400155861,\n",
       " 28400655927,\n",
       " 30000018804,\n",
       " 492717000000,\n",
       " 493000000000,\n",
       " 818094000000,\n",
       " 836093000000}"
      ]
     },
     "execution_count": 29,
     "metadata": {},
     "output_type": "execute_result"
    }
   ],
   "source": [
    "CampUPC - SalesUPC \n",
    "#these are the UPCs that are missing from Sales file \n",
    "#check if they have large revenue later"
   ]
  },
  {
   "cell_type": "code",
   "execution_count": 30,
   "metadata": {},
   "outputs": [
    {
     "name": "stdout",
     "output_type": "stream",
     "text": [
      "<class 'set'>\n",
      "163\n"
     ]
    }
   ],
   "source": [
    "joinUPC = CampUPC & SalesUPC #there are 163 UPCs in both files\n",
    "print(type(joinUPC))\n",
    "print(len(joinUPC))"
   ]
  },
  {
   "cell_type": "code",
   "execution_count": 31,
   "metadata": {},
   "outputs": [],
   "source": [
    "#checkpoint copy DF\n",
    "TCWeeklyold = TCWeekly.copy() #for checkpoint"
   ]
  },
  {
   "cell_type": "code",
   "execution_count": 32,
   "metadata": {},
   "outputs": [
    {
     "data": {
      "text/plain": [
       "1"
      ]
     },
     "execution_count": 32,
     "metadata": {},
     "output_type": "execute_result"
    }
   ],
   "source": [
    "TCWeekly.groupby(\"UPC\")[\"YEARWeekNum\"].count().min() #some only had 1 week that had promotional spend\n",
    "#max() is 18, which means that most of them do not have all 18 weeks of promotion spend>0 "
   ]
  },
  {
   "cell_type": "code",
   "execution_count": 33,
   "metadata": {},
   "outputs": [
    {
     "data": {
      "text/plain": [
       "(67168, 5)"
      ]
     },
     "execution_count": 33,
     "metadata": {},
     "output_type": "execute_result"
    }
   ],
   "source": [
    "TSalesLt.shape #"
   ]
  },
  {
   "cell_type": "code",
   "execution_count": 34,
   "metadata": {},
   "outputs": [
    {
     "data": {
      "text/plain": [
       "1124"
      ]
     },
     "execution_count": 34,
     "metadata": {},
     "output_type": "execute_result"
    }
   ],
   "source": [
    "len(TSalesLt.UPC.unique()) #TSales has 1124 UPCS, so the result df should have 1124*36 = 40464 rows"
   ]
  },
  {
   "cell_type": "code",
   "execution_count": 35,
   "metadata": {},
   "outputs": [
    {
     "data": {
      "text/plain": [
       "40464"
      ]
     },
     "execution_count": 35,
     "metadata": {},
     "output_type": "execute_result"
    }
   ],
   "source": [
    "1124*36"
   ]
  },
  {
   "cell_type": "code",
   "execution_count": 36,
   "metadata": {},
   "outputs": [
    {
     "data": {
      "text/plain": [
       "5868"
      ]
     },
     "execution_count": 36,
     "metadata": {},
     "output_type": "execute_result"
    }
   ],
   "source": [
    "163*36 #post joining both TSalesSlice and TClight it should have 5868 rows"
   ]
  },
  {
   "cell_type": "code",
   "execution_count": 37,
   "metadata": {},
   "outputs": [],
   "source": [
    "def mergeYWN(df):\n",
    "    #each df is of a single UPC df\n",
    "    df2 = df.merge(YearWkNumdf, how = \"right\", left_on=\"YEARWeekNum\", right_on=\"YEARWeekNum\")\n",
    "    return df2"
   ]
  },
  {
   "cell_type": "code",
   "execution_count": 38,
   "metadata": {},
   "outputs": [],
   "source": [
    "SalesSlicedf = TSalesLt.groupby([\"UPC\"]).apply(mergeYWN)"
   ]
  },
  {
   "cell_type": "code",
   "execution_count": 39,
   "metadata": {},
   "outputs": [
    {
     "data": {
      "text/plain": [
       "(40464, 7)"
      ]
     },
     "execution_count": 39,
     "metadata": {},
     "output_type": "execute_result"
    }
   ],
   "source": [
    "SalesSlicedf.shape #check that shape is correct"
   ]
  },
  {
   "cell_type": "code",
   "execution_count": 40,
   "metadata": {},
   "outputs": [
    {
     "data": {
      "text/html": [
       "<div>\n",
       "<style scoped>\n",
       "    .dataframe tbody tr th:only-of-type {\n",
       "        vertical-align: middle;\n",
       "    }\n",
       "\n",
       "    .dataframe tbody tr th {\n",
       "        vertical-align: top;\n",
       "    }\n",
       "\n",
       "    .dataframe thead th {\n",
       "        text-align: right;\n",
       "    }\n",
       "</style>\n",
       "<table border=\"1\" class=\"dataframe\">\n",
       "  <thead>\n",
       "    <tr style=\"text-align: right;\">\n",
       "      <th></th>\n",
       "      <th></th>\n",
       "      <th>UPC</th>\n",
       "      <th>Gross Sales</th>\n",
       "      <th>YEAR_x</th>\n",
       "      <th>WeekNum_x</th>\n",
       "      <th>YEARWeekNum</th>\n",
       "      <th>YEAR_y</th>\n",
       "      <th>WeekNum_y</th>\n",
       "    </tr>\n",
       "    <tr>\n",
       "      <th>UPC</th>\n",
       "      <th></th>\n",
       "      <th></th>\n",
       "      <th></th>\n",
       "      <th></th>\n",
       "      <th></th>\n",
       "      <th></th>\n",
       "      <th></th>\n",
       "      <th></th>\n",
       "    </tr>\n",
       "  </thead>\n",
       "  <tbody>\n",
       "    <tr>\n",
       "      <th rowspan=\"10\" valign=\"top\">71090098</th>\n",
       "      <th>17</th>\n",
       "      <td>NaN</td>\n",
       "      <td>NaN</td>\n",
       "      <td>NaN</td>\n",
       "      <td>NaN</td>\n",
       "      <td>2017-27</td>\n",
       "      <td>2017</td>\n",
       "      <td>27</td>\n",
       "    </tr>\n",
       "    <tr>\n",
       "      <th>18</th>\n",
       "      <td>NaN</td>\n",
       "      <td>NaN</td>\n",
       "      <td>NaN</td>\n",
       "      <td>NaN</td>\n",
       "      <td>2017-28</td>\n",
       "      <td>2017</td>\n",
       "      <td>28</td>\n",
       "    </tr>\n",
       "    <tr>\n",
       "      <th>19</th>\n",
       "      <td>NaN</td>\n",
       "      <td>NaN</td>\n",
       "      <td>NaN</td>\n",
       "      <td>NaN</td>\n",
       "      <td>2017-29</td>\n",
       "      <td>2017</td>\n",
       "      <td>29</td>\n",
       "    </tr>\n",
       "    <tr>\n",
       "      <th>20</th>\n",
       "      <td>NaN</td>\n",
       "      <td>NaN</td>\n",
       "      <td>NaN</td>\n",
       "      <td>NaN</td>\n",
       "      <td>2017-30</td>\n",
       "      <td>2017</td>\n",
       "      <td>30</td>\n",
       "    </tr>\n",
       "    <tr>\n",
       "      <th>21</th>\n",
       "      <td>NaN</td>\n",
       "      <td>NaN</td>\n",
       "      <td>NaN</td>\n",
       "      <td>NaN</td>\n",
       "      <td>2017-31</td>\n",
       "      <td>2017</td>\n",
       "      <td>31</td>\n",
       "    </tr>\n",
       "    <tr>\n",
       "      <th>22</th>\n",
       "      <td>NaN</td>\n",
       "      <td>NaN</td>\n",
       "      <td>NaN</td>\n",
       "      <td>NaN</td>\n",
       "      <td>2017-32</td>\n",
       "      <td>2017</td>\n",
       "      <td>32</td>\n",
       "    </tr>\n",
       "    <tr>\n",
       "      <th>23</th>\n",
       "      <td>NaN</td>\n",
       "      <td>NaN</td>\n",
       "      <td>NaN</td>\n",
       "      <td>NaN</td>\n",
       "      <td>2017-43</td>\n",
       "      <td>2017</td>\n",
       "      <td>43</td>\n",
       "    </tr>\n",
       "    <tr>\n",
       "      <th>24</th>\n",
       "      <td>NaN</td>\n",
       "      <td>NaN</td>\n",
       "      <td>NaN</td>\n",
       "      <td>NaN</td>\n",
       "      <td>2017-44</td>\n",
       "      <td>2017</td>\n",
       "      <td>44</td>\n",
       "    </tr>\n",
       "    <tr>\n",
       "      <th>25</th>\n",
       "      <td>NaN</td>\n",
       "      <td>NaN</td>\n",
       "      <td>NaN</td>\n",
       "      <td>NaN</td>\n",
       "      <td>2018-27</td>\n",
       "      <td>2018</td>\n",
       "      <td>27</td>\n",
       "    </tr>\n",
       "    <tr>\n",
       "      <th>26</th>\n",
       "      <td>NaN</td>\n",
       "      <td>NaN</td>\n",
       "      <td>NaN</td>\n",
       "      <td>NaN</td>\n",
       "      <td>2018-28</td>\n",
       "      <td>2018</td>\n",
       "      <td>28</td>\n",
       "    </tr>\n",
       "  </tbody>\n",
       "</table>\n",
       "</div>"
      ],
      "text/plain": [
       "             UPC  Gross Sales  YEAR_x  WeekNum_x YEARWeekNum  YEAR_y  \\\n",
       "UPC                                                                    \n",
       "71090098 17  NaN          NaN     NaN        NaN     2017-27    2017   \n",
       "         18  NaN          NaN     NaN        NaN     2017-28    2017   \n",
       "         19  NaN          NaN     NaN        NaN     2017-29    2017   \n",
       "         20  NaN          NaN     NaN        NaN     2017-30    2017   \n",
       "         21  NaN          NaN     NaN        NaN     2017-31    2017   \n",
       "         22  NaN          NaN     NaN        NaN     2017-32    2017   \n",
       "         23  NaN          NaN     NaN        NaN     2017-43    2017   \n",
       "         24  NaN          NaN     NaN        NaN     2017-44    2017   \n",
       "         25  NaN          NaN     NaN        NaN     2018-27    2018   \n",
       "         26  NaN          NaN     NaN        NaN     2018-28    2018   \n",
       "\n",
       "             WeekNum_y  \n",
       "UPC                     \n",
       "71090098 17         27  \n",
       "         18         28  \n",
       "         19         29  \n",
       "         20         30  \n",
       "         21         31  \n",
       "         22         32  \n",
       "         23         43  \n",
       "         24         44  \n",
       "         25         27  \n",
       "         26         28  "
      ]
     },
     "execution_count": 40,
     "metadata": {},
     "output_type": "execute_result"
    }
   ],
   "source": [
    "SalesSlicedf[SalesSlicedf[\"UPC\"].isnull()][:10]"
   ]
  },
  {
   "cell_type": "code",
   "execution_count": 41,
   "metadata": {},
   "outputs": [
    {
     "data": {
      "text/plain": [
       "UPC            17056\n",
       "Gross Sales    17056\n",
       "YEAR_x         17056\n",
       "WeekNum_x      17056\n",
       "YEARWeekNum        0\n",
       "YEAR_y             0\n",
       "WeekNum_y          0\n",
       "dtype: int64"
      ]
     },
     "execution_count": 41,
     "metadata": {},
     "output_type": "execute_result"
    }
   ],
   "source": [
    "SalesSlicedf.isnull().sum()"
   ]
  },
  {
   "cell_type": "code",
   "execution_count": 42,
   "metadata": {},
   "outputs": [],
   "source": [
    "SalesSlicedf.drop(columns = [\"UPC\",\"YEAR_x\", \"WeekNum_x\"], inplace = True) #drop the extra UPC columns that has null values\n",
    "SalesSlicedf.reset_index(inplace = True) #reset index so true UPC is acolumns\n",
    "SalesSlicedf.drop(columns = [\"level_1\"], inplace = True) #drop extra column\n",
    "\n",
    "#fillnas Sales with 0\n",
    "SalesSlicedf[\"Gross Sales\"].fillna(0, inplace = True)\n",
    "\n",
    "\n",
    "SalesSlicedf.rename(columns={\"YEAR_y\": \"YEAR\", \"WeekNum_y\": \"WeekNum\"}, inplace=True)"
   ]
  },
  {
   "cell_type": "code",
   "execution_count": 43,
   "metadata": {},
   "outputs": [
    {
     "data": {
      "text/plain": [
       "(40464, 5)"
      ]
     },
     "execution_count": 43,
     "metadata": {},
     "output_type": "execute_result"
    }
   ],
   "source": [
    "SalesSlicedf.shape"
   ]
  },
  {
   "cell_type": "code",
   "execution_count": 44,
   "metadata": {},
   "outputs": [
    {
     "data": {
      "text/plain": [
       "Index(['UPC', 'Gross Sales', 'YEARWeekNum', 'YEAR', 'WeekNum'], dtype='object')"
      ]
     },
     "execution_count": 44,
     "metadata": {},
     "output_type": "execute_result"
    }
   ],
   "source": [
    "SalesSlicedf.columns"
   ]
  },
  {
   "cell_type": "code",
   "execution_count": 45,
   "metadata": {},
   "outputs": [
    {
     "data": {
      "text/plain": [
       "Index(['UPC', 'YEAR', 'WeekNum', 'YEARWeekNum', 'Spend'], dtype='object')"
      ]
     },
     "execution_count": 45,
     "metadata": {},
     "output_type": "execute_result"
    }
   ],
   "source": [
    "TCWeekly.columns"
   ]
  },
  {
   "cell_type": "code",
   "execution_count": 46,
   "metadata": {},
   "outputs": [
    {
     "data": {
      "text/plain": [
       "174"
      ]
     },
     "execution_count": 46,
     "metadata": {},
     "output_type": "execute_result"
    }
   ],
   "source": [
    "len(TCWeekly.UPC.unique())"
   ]
  },
  {
   "cell_type": "code",
   "execution_count": 47,
   "metadata": {},
   "outputs": [
    {
     "data": {
      "text/plain": [
       "6264"
      ]
     },
     "execution_count": 47,
     "metadata": {},
     "output_type": "execute_result"
    }
   ],
   "source": [
    "174*36 #post merge it should have 6264 rows"
   ]
  },
  {
   "cell_type": "code",
   "execution_count": 48,
   "metadata": {},
   "outputs": [],
   "source": [
    "#merge TCWeekly with all the YEARWeekNumdf\n",
    "TCWeeklyFull = TCWeekly.groupby([\"UPC\"]).apply(mergeYWN)"
   ]
  },
  {
   "cell_type": "code",
   "execution_count": 49,
   "metadata": {},
   "outputs": [
    {
     "data": {
      "text/plain": [
       "(6264, 7)"
      ]
     },
     "execution_count": 49,
     "metadata": {},
     "output_type": "execute_result"
    }
   ],
   "source": [
    "TCWeeklyFull.shape #checked length correct"
   ]
  },
  {
   "cell_type": "code",
   "execution_count": 50,
   "metadata": {},
   "outputs": [
    {
     "data": {
      "text/plain": [
       "UPC            4365\n",
       "YEAR_x         4365\n",
       "WeekNum_x      4365\n",
       "YEARWeekNum       0\n",
       "Spend          4365\n",
       "YEAR_y            0\n",
       "WeekNum_y         0\n",
       "dtype: int64"
      ]
     },
     "execution_count": 50,
     "metadata": {},
     "output_type": "execute_result"
    }
   ],
   "source": [
    "TCWeeklyFull.isnull().sum()"
   ]
  },
  {
   "cell_type": "code",
   "execution_count": 51,
   "metadata": {},
   "outputs": [
    {
     "data": {
      "text/html": [
       "<div>\n",
       "<style scoped>\n",
       "    .dataframe tbody tr th:only-of-type {\n",
       "        vertical-align: middle;\n",
       "    }\n",
       "\n",
       "    .dataframe tbody tr th {\n",
       "        vertical-align: top;\n",
       "    }\n",
       "\n",
       "    .dataframe thead th {\n",
       "        text-align: right;\n",
       "    }\n",
       "</style>\n",
       "<table border=\"1\" class=\"dataframe\">\n",
       "  <thead>\n",
       "    <tr style=\"text-align: right;\">\n",
       "      <th></th>\n",
       "      <th></th>\n",
       "      <th>UPC</th>\n",
       "      <th>YEAR_x</th>\n",
       "      <th>WeekNum_x</th>\n",
       "      <th>YEARWeekNum</th>\n",
       "      <th>Spend</th>\n",
       "      <th>YEAR_y</th>\n",
       "      <th>WeekNum_y</th>\n",
       "    </tr>\n",
       "    <tr>\n",
       "      <th>UPC</th>\n",
       "      <th></th>\n",
       "      <th></th>\n",
       "      <th></th>\n",
       "      <th></th>\n",
       "      <th></th>\n",
       "      <th></th>\n",
       "      <th></th>\n",
       "      <th></th>\n",
       "    </tr>\n",
       "  </thead>\n",
       "  <tbody>\n",
       "    <tr>\n",
       "      <th rowspan=\"3\" valign=\"top\">836093000000</th>\n",
       "      <th>33</th>\n",
       "      <td>NaN</td>\n",
       "      <td>NaN</td>\n",
       "      <td>NaN</td>\n",
       "      <td>2018-42</td>\n",
       "      <td>NaN</td>\n",
       "      <td>2018</td>\n",
       "      <td>42</td>\n",
       "    </tr>\n",
       "    <tr>\n",
       "      <th>34</th>\n",
       "      <td>NaN</td>\n",
       "      <td>NaN</td>\n",
       "      <td>NaN</td>\n",
       "      <td>2018-43</td>\n",
       "      <td>NaN</td>\n",
       "      <td>2018</td>\n",
       "      <td>43</td>\n",
       "    </tr>\n",
       "    <tr>\n",
       "      <th>35</th>\n",
       "      <td>NaN</td>\n",
       "      <td>NaN</td>\n",
       "      <td>NaN</td>\n",
       "      <td>2018-44</td>\n",
       "      <td>NaN</td>\n",
       "      <td>2018</td>\n",
       "      <td>44</td>\n",
       "    </tr>\n",
       "  </tbody>\n",
       "</table>\n",
       "</div>"
      ],
      "text/plain": [
       "                 UPC  YEAR_x  WeekNum_x YEARWeekNum  Spend  YEAR_y  WeekNum_y\n",
       "UPC                                                                          \n",
       "836093000000 33  NaN     NaN        NaN     2018-42    NaN    2018         42\n",
       "             34  NaN     NaN        NaN     2018-43    NaN    2018         43\n",
       "             35  NaN     NaN        NaN     2018-44    NaN    2018         44"
      ]
     },
     "execution_count": 51,
     "metadata": {},
     "output_type": "execute_result"
    }
   ],
   "source": [
    "TCWeeklyFull.tail(3)"
   ]
  },
  {
   "cell_type": "code",
   "execution_count": 52,
   "metadata": {},
   "outputs": [],
   "source": [
    "#do the same reorg as SalesSlicedf\n",
    "TCWeeklyFull.drop(columns = [\"UPC\",\"YEAR_x\", \"WeekNum_x\"], inplace = True) #drop the extra UPC columns that has null values\n",
    "TCWeeklyFull.reset_index(inplace = True) #reset index so true UPC is acolumns\n",
    "TCWeeklyFull.drop(columns = [\"level_1\"], inplace = True) #drop extra column\n",
    "TCWeeklyFull[\"Spend\"].fillna(0, inplace = True)"
   ]
  },
  {
   "cell_type": "code",
   "execution_count": 53,
   "metadata": {},
   "outputs": [],
   "source": [
    "TCWeeklyFull.rename(columns={\"YEAR_y\": \"YEAR\", \"WeekNum_y\": \"WeekNum\"}, inplace=True)"
   ]
  },
  {
   "cell_type": "code",
   "execution_count": 54,
   "metadata": {},
   "outputs": [
    {
     "data": {
      "text/html": [
       "<div>\n",
       "<style scoped>\n",
       "    .dataframe tbody tr th:only-of-type {\n",
       "        vertical-align: middle;\n",
       "    }\n",
       "\n",
       "    .dataframe tbody tr th {\n",
       "        vertical-align: top;\n",
       "    }\n",
       "\n",
       "    .dataframe thead th {\n",
       "        text-align: right;\n",
       "    }\n",
       "</style>\n",
       "<table border=\"1\" class=\"dataframe\">\n",
       "  <thead>\n",
       "    <tr style=\"text-align: right;\">\n",
       "      <th></th>\n",
       "      <th>UPC</th>\n",
       "      <th>YEARWeekNum</th>\n",
       "      <th>Spend</th>\n",
       "      <th>YEAR</th>\n",
       "      <th>WeekNum</th>\n",
       "    </tr>\n",
       "  </thead>\n",
       "  <tbody>\n",
       "    <tr>\n",
       "      <th>6259</th>\n",
       "      <td>836093000000</td>\n",
       "      <td>2018-31</td>\n",
       "      <td>0.0</td>\n",
       "      <td>2018</td>\n",
       "      <td>31</td>\n",
       "    </tr>\n",
       "    <tr>\n",
       "      <th>6260</th>\n",
       "      <td>836093000000</td>\n",
       "      <td>2018-41</td>\n",
       "      <td>0.0</td>\n",
       "      <td>2018</td>\n",
       "      <td>41</td>\n",
       "    </tr>\n",
       "    <tr>\n",
       "      <th>6261</th>\n",
       "      <td>836093000000</td>\n",
       "      <td>2018-42</td>\n",
       "      <td>0.0</td>\n",
       "      <td>2018</td>\n",
       "      <td>42</td>\n",
       "    </tr>\n",
       "    <tr>\n",
       "      <th>6262</th>\n",
       "      <td>836093000000</td>\n",
       "      <td>2018-43</td>\n",
       "      <td>0.0</td>\n",
       "      <td>2018</td>\n",
       "      <td>43</td>\n",
       "    </tr>\n",
       "    <tr>\n",
       "      <th>6263</th>\n",
       "      <td>836093000000</td>\n",
       "      <td>2018-44</td>\n",
       "      <td>0.0</td>\n",
       "      <td>2018</td>\n",
       "      <td>44</td>\n",
       "    </tr>\n",
       "  </tbody>\n",
       "</table>\n",
       "</div>"
      ],
      "text/plain": [
       "               UPC YEARWeekNum  Spend  YEAR  WeekNum\n",
       "6259  836093000000     2018-31    0.0  2018       31\n",
       "6260  836093000000     2018-41    0.0  2018       41\n",
       "6261  836093000000     2018-42    0.0  2018       42\n",
       "6262  836093000000     2018-43    0.0  2018       43\n",
       "6263  836093000000     2018-44    0.0  2018       44"
      ]
     },
     "execution_count": 54,
     "metadata": {},
     "output_type": "execute_result"
    }
   ],
   "source": [
    "TCWeeklyFull.tail()"
   ]
  },
  {
   "cell_type": "code",
   "execution_count": 55,
   "metadata": {},
   "outputs": [],
   "source": [
    "Tmerge = TCWeeklyFull.merge(SalesSlicedf, how =\"inner\", left_on = [\"UPC\", \"YEARWeekNum\"], right_on = [\"UPC\", \"YEARWeekNum\"])"
   ]
  },
  {
   "cell_type": "code",
   "execution_count": 56,
   "metadata": {},
   "outputs": [
    {
     "data": {
      "text/plain": [
       "(5868, 8)"
      ]
     },
     "execution_count": 56,
     "metadata": {},
     "output_type": "execute_result"
    }
   ],
   "source": [
    "Tmerge.shape"
   ]
  },
  {
   "cell_type": "code",
   "execution_count": 57,
   "metadata": {},
   "outputs": [
    {
     "data": {
      "text/plain": [
       "36.0"
      ]
     },
     "execution_count": 57,
     "metadata": {},
     "output_type": "execute_result"
    }
   ],
   "source": [
    "5868/163 #this si correct"
   ]
  },
  {
   "cell_type": "code",
   "execution_count": 58,
   "metadata": {},
   "outputs": [
    {
     "data": {
      "text/html": [
       "<div>\n",
       "<style scoped>\n",
       "    .dataframe tbody tr th:only-of-type {\n",
       "        vertical-align: middle;\n",
       "    }\n",
       "\n",
       "    .dataframe tbody tr th {\n",
       "        vertical-align: top;\n",
       "    }\n",
       "\n",
       "    .dataframe thead th {\n",
       "        text-align: right;\n",
       "    }\n",
       "</style>\n",
       "<table border=\"1\" class=\"dataframe\">\n",
       "  <thead>\n",
       "    <tr style=\"text-align: right;\">\n",
       "      <th></th>\n",
       "      <th>UPC</th>\n",
       "      <th>YEARWeekNum</th>\n",
       "      <th>Spend</th>\n",
       "      <th>YEAR_x</th>\n",
       "      <th>WeekNum_x</th>\n",
       "      <th>Gross Sales</th>\n",
       "      <th>YEAR_y</th>\n",
       "      <th>WeekNum_y</th>\n",
       "    </tr>\n",
       "  </thead>\n",
       "  <tbody>\n",
       "    <tr>\n",
       "      <th>0</th>\n",
       "      <td>12000002304</td>\n",
       "      <td>2018-35</td>\n",
       "      <td>0.0</td>\n",
       "      <td>2018</td>\n",
       "      <td>35</td>\n",
       "      <td>102.20</td>\n",
       "      <td>2018</td>\n",
       "      <td>35</td>\n",
       "    </tr>\n",
       "    <tr>\n",
       "      <th>1</th>\n",
       "      <td>12000002304</td>\n",
       "      <td>2018-36</td>\n",
       "      <td>8.0</td>\n",
       "      <td>2018</td>\n",
       "      <td>36</td>\n",
       "      <td>99.39</td>\n",
       "      <td>2018</td>\n",
       "      <td>36</td>\n",
       "    </tr>\n",
       "  </tbody>\n",
       "</table>\n",
       "</div>"
      ],
      "text/plain": [
       "           UPC YEARWeekNum  Spend  YEAR_x  WeekNum_x  Gross Sales  YEAR_y  \\\n",
       "0  12000002304     2018-35    0.0    2018         35       102.20    2018   \n",
       "1  12000002304     2018-36    8.0    2018         36        99.39    2018   \n",
       "\n",
       "   WeekNum_y  \n",
       "0         35  \n",
       "1         36  "
      ]
     },
     "execution_count": 58,
     "metadata": {},
     "output_type": "execute_result"
    }
   ],
   "source": [
    "Tmerge.head(2)"
   ]
  },
  {
   "cell_type": "code",
   "execution_count": 60,
   "metadata": {},
   "outputs": [],
   "source": [
    "Tmerge.to_csv(\"Tmerge.csv\")"
   ]
  },
  {
   "cell_type": "code",
   "execution_count": 61,
   "metadata": {},
   "outputs": [
    {
     "data": {
      "text/plain": [
       "UPC            0\n",
       "YEARWeekNum    0\n",
       "Spend          0\n",
       "YEAR_x         0\n",
       "WeekNum_x      0\n",
       "Gross Sales    0\n",
       "YEAR_y         0\n",
       "WeekNum_y      0\n",
       "dtype: int64"
      ]
     },
     "execution_count": 61,
     "metadata": {},
     "output_type": "execute_result"
    }
   ],
   "source": [
    "Tmerge.isnull().sum()"
   ]
  },
  {
   "cell_type": "code",
   "execution_count": 62,
   "metadata": {},
   "outputs": [],
   "source": [
    "Tmerge.drop(columns=[\"YEAR_x\", \"WeekNum_x\"], inplace=True)"
   ]
  },
  {
   "cell_type": "code",
   "execution_count": 63,
   "metadata": {},
   "outputs": [],
   "source": [
    "Tmerge.rename(columns={\"YEAR_y\": \"YEAR\", \"WeekNum_y\": \"WeekNum\"}, inplace=True)"
   ]
  },
  {
   "cell_type": "code",
   "execution_count": 64,
   "metadata": {},
   "outputs": [
    {
     "data": {
      "text/html": [
       "<div>\n",
       "<style scoped>\n",
       "    .dataframe tbody tr th:only-of-type {\n",
       "        vertical-align: middle;\n",
       "    }\n",
       "\n",
       "    .dataframe tbody tr th {\n",
       "        vertical-align: top;\n",
       "    }\n",
       "\n",
       "    .dataframe thead th {\n",
       "        text-align: right;\n",
       "    }\n",
       "</style>\n",
       "<table border=\"1\" class=\"dataframe\">\n",
       "  <thead>\n",
       "    <tr style=\"text-align: right;\">\n",
       "      <th></th>\n",
       "      <th>UPC</th>\n",
       "      <th>YEARWeekNum</th>\n",
       "      <th>Spend</th>\n",
       "      <th>Gross Sales</th>\n",
       "      <th>YEAR</th>\n",
       "      <th>WeekNum</th>\n",
       "    </tr>\n",
       "  </thead>\n",
       "  <tbody>\n",
       "    <tr>\n",
       "      <th>0</th>\n",
       "      <td>12000002304</td>\n",
       "      <td>2018-35</td>\n",
       "      <td>0.0</td>\n",
       "      <td>102.20</td>\n",
       "      <td>2018</td>\n",
       "      <td>35</td>\n",
       "    </tr>\n",
       "    <tr>\n",
       "      <th>1</th>\n",
       "      <td>12000002304</td>\n",
       "      <td>2018-36</td>\n",
       "      <td>8.0</td>\n",
       "      <td>99.39</td>\n",
       "      <td>2018</td>\n",
       "      <td>36</td>\n",
       "    </tr>\n",
       "    <tr>\n",
       "      <th>2</th>\n",
       "      <td>12000002304</td>\n",
       "      <td>2018-37</td>\n",
       "      <td>5.0</td>\n",
       "      <td>102.56</td>\n",
       "      <td>2018</td>\n",
       "      <td>37</td>\n",
       "    </tr>\n",
       "  </tbody>\n",
       "</table>\n",
       "</div>"
      ],
      "text/plain": [
       "           UPC YEARWeekNum  Spend  Gross Sales  YEAR  WeekNum\n",
       "0  12000002304     2018-35    0.0       102.20  2018       35\n",
       "1  12000002304     2018-36    8.0        99.39  2018       36\n",
       "2  12000002304     2018-37    5.0       102.56  2018       37"
      ]
     },
     "execution_count": 64,
     "metadata": {},
     "output_type": "execute_result"
    }
   ],
   "source": [
    "Tmerge.head(3)"
   ]
  },
  {
   "cell_type": "code",
   "execution_count": 65,
   "metadata": {},
   "outputs": [],
   "source": [
    "def sidetoside(df):\n",
    "    #each df is by individual UPC\n",
    "    df2017 = df[df[\"YEAR\"].isin([2017])].copy()\n",
    "    df2017.rename(columns={\"Spend\": \"2017Spend\", \"Gross Sales\": \"2017 Sales\"}, inplace= True)\n",
    "    df2018= df[df[\"YEAR\"].isin([2018])].copy()\n",
    "    df2018.rename(columns={\"Spend\": \"2018Spend\", \"Gross Sales\": \"2018 Sales\"}, inplace= True)\n",
    "    result = df2017.merge(df2018, how=\"inner\", left_on=\"WeekNum\", right_on=\"WeekNum\")\n",
    "    return result"
   ]
  },
  {
   "cell_type": "code",
   "execution_count": 66,
   "metadata": {},
   "outputs": [],
   "source": [
    "TS2S = Tmerge.groupby([\"UPC\"]).apply(sidetoside)"
   ]
  },
  {
   "cell_type": "code",
   "execution_count": 67,
   "metadata": {},
   "outputs": [
    {
     "data": {
      "text/html": [
       "<div>\n",
       "<style scoped>\n",
       "    .dataframe tbody tr th:only-of-type {\n",
       "        vertical-align: middle;\n",
       "    }\n",
       "\n",
       "    .dataframe tbody tr th {\n",
       "        vertical-align: top;\n",
       "    }\n",
       "\n",
       "    .dataframe thead th {\n",
       "        text-align: right;\n",
       "    }\n",
       "</style>\n",
       "<table border=\"1\" class=\"dataframe\">\n",
       "  <thead>\n",
       "    <tr style=\"text-align: right;\">\n",
       "      <th></th>\n",
       "      <th></th>\n",
       "      <th>UPC_x</th>\n",
       "      <th>YEARWeekNum_x</th>\n",
       "      <th>2017Spend</th>\n",
       "      <th>2017 Sales</th>\n",
       "      <th>YEAR_x</th>\n",
       "      <th>WeekNum</th>\n",
       "      <th>UPC_y</th>\n",
       "      <th>YEARWeekNum_y</th>\n",
       "      <th>2018Spend</th>\n",
       "      <th>2018 Sales</th>\n",
       "      <th>YEAR_y</th>\n",
       "    </tr>\n",
       "    <tr>\n",
       "      <th>UPC</th>\n",
       "      <th></th>\n",
       "      <th></th>\n",
       "      <th></th>\n",
       "      <th></th>\n",
       "      <th></th>\n",
       "      <th></th>\n",
       "      <th></th>\n",
       "      <th></th>\n",
       "      <th></th>\n",
       "      <th></th>\n",
       "      <th></th>\n",
       "      <th></th>\n",
       "    </tr>\n",
       "  </thead>\n",
       "  <tbody>\n",
       "    <tr>\n",
       "      <th rowspan=\"10\" valign=\"top\">12000002304</th>\n",
       "      <th>0</th>\n",
       "      <td>12000002304</td>\n",
       "      <td>2017-27</td>\n",
       "      <td>0.0</td>\n",
       "      <td>0.0</td>\n",
       "      <td>2017</td>\n",
       "      <td>27</td>\n",
       "      <td>12000002304</td>\n",
       "      <td>2018-27</td>\n",
       "      <td>0.0</td>\n",
       "      <td>98.82</td>\n",
       "      <td>2018</td>\n",
       "    </tr>\n",
       "    <tr>\n",
       "      <th>1</th>\n",
       "      <td>12000002304</td>\n",
       "      <td>2017-28</td>\n",
       "      <td>0.0</td>\n",
       "      <td>0.0</td>\n",
       "      <td>2017</td>\n",
       "      <td>28</td>\n",
       "      <td>12000002304</td>\n",
       "      <td>2018-28</td>\n",
       "      <td>0.0</td>\n",
       "      <td>93.72</td>\n",
       "      <td>2018</td>\n",
       "    </tr>\n",
       "    <tr>\n",
       "      <th>2</th>\n",
       "      <td>12000002304</td>\n",
       "      <td>2017-29</td>\n",
       "      <td>0.0</td>\n",
       "      <td>0.0</td>\n",
       "      <td>2017</td>\n",
       "      <td>29</td>\n",
       "      <td>12000002304</td>\n",
       "      <td>2018-29</td>\n",
       "      <td>0.0</td>\n",
       "      <td>127.80</td>\n",
       "      <td>2018</td>\n",
       "    </tr>\n",
       "    <tr>\n",
       "      <th>3</th>\n",
       "      <td>12000002304</td>\n",
       "      <td>2017-30</td>\n",
       "      <td>0.0</td>\n",
       "      <td>0.0</td>\n",
       "      <td>2017</td>\n",
       "      <td>30</td>\n",
       "      <td>12000002304</td>\n",
       "      <td>2018-30</td>\n",
       "      <td>0.0</td>\n",
       "      <td>101.30</td>\n",
       "      <td>2018</td>\n",
       "    </tr>\n",
       "    <tr>\n",
       "      <th>4</th>\n",
       "      <td>12000002304</td>\n",
       "      <td>2017-31</td>\n",
       "      <td>0.0</td>\n",
       "      <td>0.0</td>\n",
       "      <td>2017</td>\n",
       "      <td>31</td>\n",
       "      <td>12000002304</td>\n",
       "      <td>2018-31</td>\n",
       "      <td>0.0</td>\n",
       "      <td>110.30</td>\n",
       "      <td>2018</td>\n",
       "    </tr>\n",
       "    <tr>\n",
       "      <th>5</th>\n",
       "      <td>12000002304</td>\n",
       "      <td>2017-32</td>\n",
       "      <td>0.0</td>\n",
       "      <td>0.0</td>\n",
       "      <td>2017</td>\n",
       "      <td>32</td>\n",
       "      <td>12000002304</td>\n",
       "      <td>2018-32</td>\n",
       "      <td>0.0</td>\n",
       "      <td>127.09</td>\n",
       "      <td>2018</td>\n",
       "    </tr>\n",
       "    <tr>\n",
       "      <th>6</th>\n",
       "      <td>12000002304</td>\n",
       "      <td>2017-33</td>\n",
       "      <td>0.0</td>\n",
       "      <td>0.0</td>\n",
       "      <td>2017</td>\n",
       "      <td>33</td>\n",
       "      <td>12000002304</td>\n",
       "      <td>2018-33</td>\n",
       "      <td>0.0</td>\n",
       "      <td>112.38</td>\n",
       "      <td>2018</td>\n",
       "    </tr>\n",
       "    <tr>\n",
       "      <th>7</th>\n",
       "      <td>12000002304</td>\n",
       "      <td>2017-34</td>\n",
       "      <td>0.0</td>\n",
       "      <td>0.0</td>\n",
       "      <td>2017</td>\n",
       "      <td>34</td>\n",
       "      <td>12000002304</td>\n",
       "      <td>2018-34</td>\n",
       "      <td>0.0</td>\n",
       "      <td>112.62</td>\n",
       "      <td>2018</td>\n",
       "    </tr>\n",
       "    <tr>\n",
       "      <th>8</th>\n",
       "      <td>12000002304</td>\n",
       "      <td>2017-35</td>\n",
       "      <td>0.0</td>\n",
       "      <td>0.0</td>\n",
       "      <td>2017</td>\n",
       "      <td>35</td>\n",
       "      <td>12000002304</td>\n",
       "      <td>2018-35</td>\n",
       "      <td>0.0</td>\n",
       "      <td>102.20</td>\n",
       "      <td>2018</td>\n",
       "    </tr>\n",
       "    <tr>\n",
       "      <th>9</th>\n",
       "      <td>12000002304</td>\n",
       "      <td>2017-36</td>\n",
       "      <td>0.0</td>\n",
       "      <td>0.0</td>\n",
       "      <td>2017</td>\n",
       "      <td>36</td>\n",
       "      <td>12000002304</td>\n",
       "      <td>2018-36</td>\n",
       "      <td>8.0</td>\n",
       "      <td>99.39</td>\n",
       "      <td>2018</td>\n",
       "    </tr>\n",
       "  </tbody>\n",
       "</table>\n",
       "</div>"
      ],
      "text/plain": [
       "                     UPC_x YEARWeekNum_x  2017Spend  2017 Sales  YEAR_x  \\\n",
       "UPC                                                                       \n",
       "12000002304 0  12000002304       2017-27        0.0         0.0    2017   \n",
       "            1  12000002304       2017-28        0.0         0.0    2017   \n",
       "            2  12000002304       2017-29        0.0         0.0    2017   \n",
       "            3  12000002304       2017-30        0.0         0.0    2017   \n",
       "            4  12000002304       2017-31        0.0         0.0    2017   \n",
       "            5  12000002304       2017-32        0.0         0.0    2017   \n",
       "            6  12000002304       2017-33        0.0         0.0    2017   \n",
       "            7  12000002304       2017-34        0.0         0.0    2017   \n",
       "            8  12000002304       2017-35        0.0         0.0    2017   \n",
       "            9  12000002304       2017-36        0.0         0.0    2017   \n",
       "\n",
       "               WeekNum        UPC_y YEARWeekNum_y  2018Spend  2018 Sales  \\\n",
       "UPC                                                                        \n",
       "12000002304 0       27  12000002304       2018-27        0.0       98.82   \n",
       "            1       28  12000002304       2018-28        0.0       93.72   \n",
       "            2       29  12000002304       2018-29        0.0      127.80   \n",
       "            3       30  12000002304       2018-30        0.0      101.30   \n",
       "            4       31  12000002304       2018-31        0.0      110.30   \n",
       "            5       32  12000002304       2018-32        0.0      127.09   \n",
       "            6       33  12000002304       2018-33        0.0      112.38   \n",
       "            7       34  12000002304       2018-34        0.0      112.62   \n",
       "            8       35  12000002304       2018-35        0.0      102.20   \n",
       "            9       36  12000002304       2018-36        8.0       99.39   \n",
       "\n",
       "               YEAR_y  \n",
       "UPC                    \n",
       "12000002304 0    2018  \n",
       "            1    2018  \n",
       "            2    2018  \n",
       "            3    2018  \n",
       "            4    2018  \n",
       "            5    2018  \n",
       "            6    2018  \n",
       "            7    2018  \n",
       "            8    2018  \n",
       "            9    2018  "
      ]
     },
     "execution_count": 67,
     "metadata": {},
     "output_type": "execute_result"
    }
   ],
   "source": [
    "TS2S.head(10)"
   ]
  },
  {
   "cell_type": "code",
   "execution_count": 68,
   "metadata": {},
   "outputs": [],
   "source": [
    "TS2S.reset_index(inplace=True)"
   ]
  },
  {
   "cell_type": "code",
   "execution_count": 69,
   "metadata": {},
   "outputs": [
    {
     "data": {
      "text/plain": [
       "Index(['UPC', 'level_1', 'UPC_x', 'YEARWeekNum_x', '2017Spend', '2017 Sales',\n",
       "       'YEAR_x', 'WeekNum', 'UPC_y', 'YEARWeekNum_y', '2018Spend',\n",
       "       '2018 Sales', 'YEAR_y'],\n",
       "      dtype='object')"
      ]
     },
     "execution_count": 69,
     "metadata": {},
     "output_type": "execute_result"
    }
   ],
   "source": [
    "TS2S.columns"
   ]
  },
  {
   "cell_type": "code",
   "execution_count": 70,
   "metadata": {},
   "outputs": [],
   "source": [
    "TS2S.drop(columns=['level_1', 'UPC_x','YEARWeekNum_x','YEAR_x','UPC_y', 'YEARWeekNum_y','YEAR_y'], inplace=True)"
   ]
  },
  {
   "cell_type": "code",
   "execution_count": null,
   "metadata": {},
   "outputs": [],
   "source": [
    "#TS2S.to_csv(\"TS2S.csv\")\n",
    "#already have written the file"
   ]
  },
  {
   "cell_type": "code",
   "execution_count": 71,
   "metadata": {},
   "outputs": [],
   "source": [
    "TS2StotSales = TS2S.groupby([\"UPC\"], as_index=False)[\"2018 Sales\"].sum()"
   ]
  },
  {
   "cell_type": "code",
   "execution_count": 72,
   "metadata": {},
   "outputs": [],
   "source": [
    "TS2StotSales.sort_values(by = [\"2018 Sales\"], ascending=False, inplace=True)"
   ]
  },
  {
   "cell_type": "code",
   "execution_count": 73,
   "metadata": {},
   "outputs": [],
   "source": [
    "top20UPC = list(TS2StotSales[\"UPC\"][:20])"
   ]
  },
  {
   "cell_type": "code",
   "execution_count": 74,
   "metadata": {},
   "outputs": [],
   "source": [
    "TS2Stop = TS2S[TS2S[\"UPC\"].isin(top20UPC)]"
   ]
  },
  {
   "cell_type": "code",
   "execution_count": 75,
   "metadata": {},
   "outputs": [
    {
     "data": {
      "text/plain": [
       "(360, 6)"
      ]
     },
     "execution_count": 75,
     "metadata": {},
     "output_type": "execute_result"
    }
   ],
   "source": [
    "TS2Stop.shape"
   ]
  },
  {
   "cell_type": "code",
   "execution_count": 77,
   "metadata": {},
   "outputs": [],
   "source": [
    "#TS2Stop.to_csv(\"TS2Stop.csv\")\n",
    "#already written\n",
    "#realized that 2017 had a lot of no sales, so if you want to check delta sales between 2017 and 2018 \n",
    "#over the campaign period, it is not very telling"
   ]
  },
  {
   "cell_type": "code",
   "execution_count": null,
   "metadata": {},
   "outputs": [],
   "source": [
    "##4/5/2019\n",
    "## find the prior period where there is sales but no spend, and check for correlation btween sales and spend"
   ]
  },
  {
   "cell_type": "code",
   "execution_count": 81,
   "metadata": {},
   "outputs": [
    {
     "data": {
      "text/html": [
       "<div>\n",
       "<style scoped>\n",
       "    .dataframe tbody tr th:only-of-type {\n",
       "        vertical-align: middle;\n",
       "    }\n",
       "\n",
       "    .dataframe tbody tr th {\n",
       "        vertical-align: top;\n",
       "    }\n",
       "\n",
       "    .dataframe thead th {\n",
       "        text-align: right;\n",
       "    }\n",
       "</style>\n",
       "<table border=\"1\" class=\"dataframe\">\n",
       "  <thead>\n",
       "    <tr style=\"text-align: right;\">\n",
       "      <th></th>\n",
       "      <th>UPC</th>\n",
       "      <th>YEARWeekNum</th>\n",
       "      <th>Spend</th>\n",
       "      <th>Gross Sales</th>\n",
       "      <th>YEAR</th>\n",
       "      <th>WeekNum</th>\n",
       "    </tr>\n",
       "  </thead>\n",
       "  <tbody>\n",
       "    <tr>\n",
       "      <th>0</th>\n",
       "      <td>12000002304</td>\n",
       "      <td>2018-35</td>\n",
       "      <td>0.0</td>\n",
       "      <td>102.20</td>\n",
       "      <td>2018</td>\n",
       "      <td>35</td>\n",
       "    </tr>\n",
       "    <tr>\n",
       "      <th>1</th>\n",
       "      <td>12000002304</td>\n",
       "      <td>2018-36</td>\n",
       "      <td>8.0</td>\n",
       "      <td>99.39</td>\n",
       "      <td>2018</td>\n",
       "      <td>36</td>\n",
       "    </tr>\n",
       "    <tr>\n",
       "      <th>2</th>\n",
       "      <td>12000002304</td>\n",
       "      <td>2018-37</td>\n",
       "      <td>5.0</td>\n",
       "      <td>102.56</td>\n",
       "      <td>2018</td>\n",
       "      <td>37</td>\n",
       "    </tr>\n",
       "  </tbody>\n",
       "</table>\n",
       "</div>"
      ],
      "text/plain": [
       "           UPC YEARWeekNum  Spend  Gross Sales  YEAR  WeekNum\n",
       "0  12000002304     2018-35    0.0       102.20  2018       35\n",
       "1  12000002304     2018-36    8.0        99.39  2018       36\n",
       "2  12000002304     2018-37    5.0       102.56  2018       37"
      ]
     },
     "execution_count": 81,
     "metadata": {},
     "output_type": "execute_result"
    }
   ],
   "source": [
    "#for the top 20 products, find the weeks there spend was 0 and when spend >0abs\n",
    "Tmerge.head(3)"
   ]
  },
  {
   "cell_type": "code",
   "execution_count": 83,
   "metadata": {},
   "outputs": [
    {
     "data": {
      "text/plain": [
       "array([35, 36, 37, 38, 39, 40, 41, 42, 43, 27, 28, 29, 30, 31, 32, 33, 34,\n",
       "       44], dtype=int64)"
      ]
     },
     "execution_count": 83,
     "metadata": {},
     "output_type": "execute_result"
    }
   ],
   "source": [
    "Tmerge.WeekNum.unique()\n"
   ]
  },
  {
   "cell_type": "code",
   "execution_count": 84,
   "metadata": {},
   "outputs": [],
   "source": [
    "Tmerge[\"Spend>0\"] = (Tmerge[\"Spend\"]>0).astype(int)"
   ]
  },
  {
   "cell_type": "code",
   "execution_count": 88,
   "metadata": {},
   "outputs": [],
   "source": [
    "Tmerge2018 = Tmerge[Tmerge[\"YEAR\"].isin([2018])].copy()\n"
   ]
  },
  {
   "cell_type": "code",
   "execution_count": 90,
   "metadata": {},
   "outputs": [],
   "source": [
    "df2018 = Tmerge2018.groupby([\"UPC\", \"Spend>0\"], as_index=False).agg({\"WeekNum\":\"count\", \"Spend\": \"sum\", \"Gross Sales\": \"sum\"})"
   ]
  },
  {
   "cell_type": "code",
   "execution_count": 91,
   "metadata": {},
   "outputs": [
    {
     "data": {
      "text/plain": [
       "Index(['UPC', 'Spend>0', 'WeekNum', 'Spend', 'Gross Sales'], dtype='object')"
      ]
     },
     "execution_count": 91,
     "metadata": {},
     "output_type": "execute_result"
    }
   ],
   "source": [
    "df2018.columns"
   ]
  },
  {
   "cell_type": "code",
   "execution_count": 92,
   "metadata": {},
   "outputs": [],
   "source": [
    "df2018.rename(columns={\"WeekNum\": \"WeekNumCnt\", \"Spend\": \"totSpend\", \"Gross Sales\": \"totSales\"}, inplace=True)"
   ]
  },
  {
   "cell_type": "code",
   "execution_count": 93,
   "metadata": {},
   "outputs": [
    {
     "data": {
      "text/html": [
       "<div>\n",
       "<style scoped>\n",
       "    .dataframe tbody tr th:only-of-type {\n",
       "        vertical-align: middle;\n",
       "    }\n",
       "\n",
       "    .dataframe tbody tr th {\n",
       "        vertical-align: top;\n",
       "    }\n",
       "\n",
       "    .dataframe thead th {\n",
       "        text-align: right;\n",
       "    }\n",
       "</style>\n",
       "<table border=\"1\" class=\"dataframe\">\n",
       "  <thead>\n",
       "    <tr style=\"text-align: right;\">\n",
       "      <th></th>\n",
       "      <th>UPC</th>\n",
       "      <th>Spend&gt;0</th>\n",
       "      <th>WeekNumCnt</th>\n",
       "      <th>totSpend</th>\n",
       "      <th>totSales</th>\n",
       "    </tr>\n",
       "  </thead>\n",
       "  <tbody>\n",
       "    <tr>\n",
       "      <th>0</th>\n",
       "      <td>12000002304</td>\n",
       "      <td>0</td>\n",
       "      <td>12</td>\n",
       "      <td>0.0</td>\n",
       "      <td>1647.02</td>\n",
       "    </tr>\n",
       "    <tr>\n",
       "      <th>1</th>\n",
       "      <td>12000002304</td>\n",
       "      <td>1</td>\n",
       "      <td>6</td>\n",
       "      <td>33.0</td>\n",
       "      <td>794.36</td>\n",
       "    </tr>\n",
       "    <tr>\n",
       "      <th>2</th>\n",
       "      <td>12000012761</td>\n",
       "      <td>0</td>\n",
       "      <td>8</td>\n",
       "      <td>0.0</td>\n",
       "      <td>516.13</td>\n",
       "    </tr>\n",
       "  </tbody>\n",
       "</table>\n",
       "</div>"
      ],
      "text/plain": [
       "           UPC  Spend>0  WeekNumCnt  totSpend  totSales\n",
       "0  12000002304        0          12       0.0   1647.02\n",
       "1  12000002304        1           6      33.0    794.36\n",
       "2  12000012761        0           8       0.0    516.13"
      ]
     },
     "execution_count": 93,
     "metadata": {},
     "output_type": "execute_result"
    }
   ],
   "source": [
    "df2018.head(3)"
   ]
  },
  {
   "cell_type": "code",
   "execution_count": 94,
   "metadata": {},
   "outputs": [],
   "source": [
    "df2018[\"weeklySales\"]=df2018[\"totSales\"]/df2018[\"WeekNumCnt\"]\n",
    "df2018[\"weeklySpend\"]=df2018[\"totSpend\"]/df2018[\"WeekNumCnt\"]"
   ]
  },
  {
   "cell_type": "code",
   "execution_count": 95,
   "metadata": {},
   "outputs": [
    {
     "data": {
      "text/html": [
       "<div>\n",
       "<style scoped>\n",
       "    .dataframe tbody tr th:only-of-type {\n",
       "        vertical-align: middle;\n",
       "    }\n",
       "\n",
       "    .dataframe tbody tr th {\n",
       "        vertical-align: top;\n",
       "    }\n",
       "\n",
       "    .dataframe thead th {\n",
       "        text-align: right;\n",
       "    }\n",
       "</style>\n",
       "<table border=\"1\" class=\"dataframe\">\n",
       "  <thead>\n",
       "    <tr style=\"text-align: right;\">\n",
       "      <th></th>\n",
       "      <th>UPC</th>\n",
       "      <th>Spend&gt;0</th>\n",
       "      <th>WeekNumCnt</th>\n",
       "      <th>totSpend</th>\n",
       "      <th>totSales</th>\n",
       "      <th>weeklySales</th>\n",
       "      <th>weeklySpend</th>\n",
       "    </tr>\n",
       "  </thead>\n",
       "  <tbody>\n",
       "    <tr>\n",
       "      <th>0</th>\n",
       "      <td>12000002304</td>\n",
       "      <td>0</td>\n",
       "      <td>12</td>\n",
       "      <td>0.0</td>\n",
       "      <td>1647.02</td>\n",
       "      <td>137.251667</td>\n",
       "      <td>0.0</td>\n",
       "    </tr>\n",
       "    <tr>\n",
       "      <th>1</th>\n",
       "      <td>12000002304</td>\n",
       "      <td>1</td>\n",
       "      <td>6</td>\n",
       "      <td>33.0</td>\n",
       "      <td>794.36</td>\n",
       "      <td>132.393333</td>\n",
       "      <td>5.5</td>\n",
       "    </tr>\n",
       "    <tr>\n",
       "      <th>2</th>\n",
       "      <td>12000012761</td>\n",
       "      <td>0</td>\n",
       "      <td>8</td>\n",
       "      <td>0.0</td>\n",
       "      <td>516.13</td>\n",
       "      <td>64.516250</td>\n",
       "      <td>0.0</td>\n",
       "    </tr>\n",
       "  </tbody>\n",
       "</table>\n",
       "</div>"
      ],
      "text/plain": [
       "           UPC  Spend>0  WeekNumCnt  totSpend  totSales  weeklySales  \\\n",
       "0  12000002304        0          12       0.0   1647.02   137.251667   \n",
       "1  12000002304        1           6      33.0    794.36   132.393333   \n",
       "2  12000012761        0           8       0.0    516.13    64.516250   \n",
       "\n",
       "   weeklySpend  \n",
       "0          0.0  \n",
       "1          5.5  \n",
       "2          0.0  "
      ]
     },
     "execution_count": 95,
     "metadata": {},
     "output_type": "execute_result"
    }
   ],
   "source": [
    "df2018.head(3)"
   ]
  },
  {
   "cell_type": "code",
   "execution_count": 99,
   "metadata": {},
   "outputs": [
    {
     "data": {
      "text/html": [
       "<div>\n",
       "<style scoped>\n",
       "    .dataframe tbody tr th:only-of-type {\n",
       "        vertical-align: middle;\n",
       "    }\n",
       "\n",
       "    .dataframe tbody tr th {\n",
       "        vertical-align: top;\n",
       "    }\n",
       "\n",
       "    .dataframe thead th {\n",
       "        text-align: right;\n",
       "    }\n",
       "</style>\n",
       "<table border=\"1\" class=\"dataframe\">\n",
       "  <thead>\n",
       "    <tr style=\"text-align: right;\">\n",
       "      <th></th>\n",
       "      <th>UPC</th>\n",
       "      <th>Spend&gt;0</th>\n",
       "      <th>WeekNumCnt</th>\n",
       "      <th>totSpend</th>\n",
       "      <th>totSales</th>\n",
       "      <th>weeklySales</th>\n",
       "      <th>weeklySpend</th>\n",
       "    </tr>\n",
       "  </thead>\n",
       "  <tbody>\n",
       "    <tr>\n",
       "      <th>253</th>\n",
       "      <td>30000318355</td>\n",
       "      <td>0</td>\n",
       "      <td>11</td>\n",
       "      <td>0.0</td>\n",
       "      <td>0.0</td>\n",
       "      <td>0.0</td>\n",
       "      <td>0.000000</td>\n",
       "    </tr>\n",
       "    <tr>\n",
       "      <th>254</th>\n",
       "      <td>30000318355</td>\n",
       "      <td>1</td>\n",
       "      <td>7</td>\n",
       "      <td>130.0</td>\n",
       "      <td>0.0</td>\n",
       "      <td>0.0</td>\n",
       "      <td>18.571429</td>\n",
       "    </tr>\n",
       "    <tr>\n",
       "      <th>264</th>\n",
       "      <td>30000322420</td>\n",
       "      <td>0</td>\n",
       "      <td>16</td>\n",
       "      <td>0.0</td>\n",
       "      <td>0.0</td>\n",
       "      <td>0.0</td>\n",
       "      <td>0.000000</td>\n",
       "    </tr>\n",
       "    <tr>\n",
       "      <th>265</th>\n",
       "      <td>30000322420</td>\n",
       "      <td>1</td>\n",
       "      <td>2</td>\n",
       "      <td>54.0</td>\n",
       "      <td>0.0</td>\n",
       "      <td>0.0</td>\n",
       "      <td>27.000000</td>\n",
       "    </tr>\n",
       "    <tr>\n",
       "      <th>283</th>\n",
       "      <td>30000562772</td>\n",
       "      <td>0</td>\n",
       "      <td>14</td>\n",
       "      <td>0.0</td>\n",
       "      <td>0.0</td>\n",
       "      <td>0.0</td>\n",
       "      <td>0.000000</td>\n",
       "    </tr>\n",
       "    <tr>\n",
       "      <th>284</th>\n",
       "      <td>30000562772</td>\n",
       "      <td>1</td>\n",
       "      <td>4</td>\n",
       "      <td>32.0</td>\n",
       "      <td>0.0</td>\n",
       "      <td>0.0</td>\n",
       "      <td>8.000000</td>\n",
       "    </tr>\n",
       "  </tbody>\n",
       "</table>\n",
       "</div>"
      ],
      "text/plain": [
       "             UPC  Spend>0  WeekNumCnt  totSpend  totSales  weeklySales  \\\n",
       "253  30000318355        0          11       0.0       0.0          0.0   \n",
       "254  30000318355        1           7     130.0       0.0          0.0   \n",
       "264  30000322420        0          16       0.0       0.0          0.0   \n",
       "265  30000322420        1           2      54.0       0.0          0.0   \n",
       "283  30000562772        0          14       0.0       0.0          0.0   \n",
       "284  30000562772        1           4      32.0       0.0          0.0   \n",
       "\n",
       "     weeklySpend  \n",
       "253     0.000000  \n",
       "254    18.571429  \n",
       "264     0.000000  \n",
       "265    27.000000  \n",
       "283     0.000000  \n",
       "284     8.000000  "
      ]
     },
     "execution_count": 99,
     "metadata": {},
     "output_type": "execute_result"
    }
   ],
   "source": [
    "#first check if there are any no spend that did not have any sales\n",
    "df2018[df2018[\"totSales\"]==0]"
   ]
  },
  {
   "cell_type": "code",
   "execution_count": 100,
   "metadata": {},
   "outputs": [],
   "source": [
    "df2018zeroSales = df2018[df2018[\"totSales\"]==0].copy() #these will be removed from the table"
   ]
  },
  {
   "cell_type": "code",
   "execution_count": 152,
   "metadata": {},
   "outputs": [
    {
     "data": {
      "text/html": [
       "<div>\n",
       "<style scoped>\n",
       "    .dataframe tbody tr th:only-of-type {\n",
       "        vertical-align: middle;\n",
       "    }\n",
       "\n",
       "    .dataframe tbody tr th {\n",
       "        vertical-align: top;\n",
       "    }\n",
       "\n",
       "    .dataframe thead th {\n",
       "        text-align: right;\n",
       "    }\n",
       "</style>\n",
       "<table border=\"1\" class=\"dataframe\">\n",
       "  <thead>\n",
       "    <tr style=\"text-align: right;\">\n",
       "      <th></th>\n",
       "      <th>UPC</th>\n",
       "      <th>Spend&gt;0</th>\n",
       "      <th>WeekNumCnt</th>\n",
       "      <th>totSpend</th>\n",
       "      <th>totSales</th>\n",
       "      <th>weeklySales</th>\n",
       "      <th>weeklySpend</th>\n",
       "    </tr>\n",
       "  </thead>\n",
       "  <tbody>\n",
       "    <tr>\n",
       "      <th>253</th>\n",
       "      <td>30000318355</td>\n",
       "      <td>0</td>\n",
       "      <td>11</td>\n",
       "      <td>0.0</td>\n",
       "      <td>0.0</td>\n",
       "      <td>0.0</td>\n",
       "      <td>0.000000</td>\n",
       "    </tr>\n",
       "    <tr>\n",
       "      <th>254</th>\n",
       "      <td>30000318355</td>\n",
       "      <td>1</td>\n",
       "      <td>7</td>\n",
       "      <td>130.0</td>\n",
       "      <td>0.0</td>\n",
       "      <td>0.0</td>\n",
       "      <td>18.571429</td>\n",
       "    </tr>\n",
       "    <tr>\n",
       "      <th>264</th>\n",
       "      <td>30000322420</td>\n",
       "      <td>0</td>\n",
       "      <td>16</td>\n",
       "      <td>0.0</td>\n",
       "      <td>0.0</td>\n",
       "      <td>0.0</td>\n",
       "      <td>0.000000</td>\n",
       "    </tr>\n",
       "    <tr>\n",
       "      <th>265</th>\n",
       "      <td>30000322420</td>\n",
       "      <td>1</td>\n",
       "      <td>2</td>\n",
       "      <td>54.0</td>\n",
       "      <td>0.0</td>\n",
       "      <td>0.0</td>\n",
       "      <td>27.000000</td>\n",
       "    </tr>\n",
       "    <tr>\n",
       "      <th>283</th>\n",
       "      <td>30000562772</td>\n",
       "      <td>0</td>\n",
       "      <td>14</td>\n",
       "      <td>0.0</td>\n",
       "      <td>0.0</td>\n",
       "      <td>0.0</td>\n",
       "      <td>0.000000</td>\n",
       "    </tr>\n",
       "    <tr>\n",
       "      <th>284</th>\n",
       "      <td>30000562772</td>\n",
       "      <td>1</td>\n",
       "      <td>4</td>\n",
       "      <td>32.0</td>\n",
       "      <td>0.0</td>\n",
       "      <td>0.0</td>\n",
       "      <td>8.000000</td>\n",
       "    </tr>\n",
       "  </tbody>\n",
       "</table>\n",
       "</div>"
      ],
      "text/plain": [
       "             UPC  Spend>0  WeekNumCnt  totSpend  totSales  weeklySales  \\\n",
       "253  30000318355        0          11       0.0       0.0          0.0   \n",
       "254  30000318355        1           7     130.0       0.0          0.0   \n",
       "264  30000322420        0          16       0.0       0.0          0.0   \n",
       "265  30000322420        1           2      54.0       0.0          0.0   \n",
       "283  30000562772        0          14       0.0       0.0          0.0   \n",
       "284  30000562772        1           4      32.0       0.0          0.0   \n",
       "\n",
       "     weeklySpend  \n",
       "253     0.000000  \n",
       "254    18.571429  \n",
       "264     0.000000  \n",
       "265    27.000000  \n",
       "283     0.000000  \n",
       "284     8.000000  "
      ]
     },
     "execution_count": 152,
     "metadata": {},
     "output_type": "execute_result"
    }
   ],
   "source": [
    "df2018zeroSales"
   ]
  },
  {
   "cell_type": "code",
   "execution_count": 102,
   "metadata": {},
   "outputs": [],
   "source": [
    "df2018.drop(df2018[df2018[\"totSales\"]==0].index, inplace=True) #drop the no sales UPCs"
   ]
  },
  {
   "cell_type": "code",
   "execution_count": 111,
   "metadata": {},
   "outputs": [],
   "source": [
    "checkmiss=df2018.groupby([\"UPC\"])[\"Spend>0\"].count()<2"
   ]
  },
  {
   "cell_type": "code",
   "execution_count": 116,
   "metadata": {},
   "outputs": [],
   "source": [
    "oneRowUPC = list(checkmiss[checkmiss].index)"
   ]
  },
  {
   "cell_type": "code",
   "execution_count": 118,
   "metadata": {},
   "outputs": [],
   "source": [
    "df2018noZeroSales = df2018[df2018[\"UPC\"].isin(oneRowUPC)].copy() \n",
    "#these only have weeks that have sales\n",
    "#have to drop these too"
   ]
  },
  {
   "cell_type": "code",
   "execution_count": 119,
   "metadata": {},
   "outputs": [],
   "source": [
    "df2018.drop(df2018[df2018[\"UPC\"].isin(oneRowUPC)].index, inplace=True) #drop the no sales UPCs"
   ]
  },
  {
   "cell_type": "code",
   "execution_count": 120,
   "metadata": {},
   "outputs": [],
   "source": [
    "checkmiss2=df2018.groupby([\"UPC\"])[\"Spend>0\"].count()<2"
   ]
  },
  {
   "cell_type": "code",
   "execution_count": 122,
   "metadata": {},
   "outputs": [
    {
     "data": {
      "text/plain": [
       "Series([], Name: Spend>0, dtype: bool)"
      ]
     },
     "execution_count": 122,
     "metadata": {},
     "output_type": "execute_result"
    }
   ],
   "source": [
    "checkmiss2[checkmiss2] #checked that all have been droped"
   ]
  },
  {
   "cell_type": "code",
   "execution_count": 124,
   "metadata": {},
   "outputs": [
    {
     "data": {
      "text/html": [
       "<div>\n",
       "<style scoped>\n",
       "    .dataframe tbody tr th:only-of-type {\n",
       "        vertical-align: middle;\n",
       "    }\n",
       "\n",
       "    .dataframe tbody tr th {\n",
       "        vertical-align: top;\n",
       "    }\n",
       "\n",
       "    .dataframe thead th {\n",
       "        text-align: right;\n",
       "    }\n",
       "</style>\n",
       "<table border=\"1\" class=\"dataframe\">\n",
       "  <thead>\n",
       "    <tr style=\"text-align: right;\">\n",
       "      <th></th>\n",
       "      <th>UPC</th>\n",
       "      <th>Spend&gt;0</th>\n",
       "      <th>WeekNumCnt</th>\n",
       "      <th>totSpend</th>\n",
       "      <th>totSales</th>\n",
       "      <th>weeklySales</th>\n",
       "      <th>weeklySpend</th>\n",
       "    </tr>\n",
       "  </thead>\n",
       "  <tbody>\n",
       "    <tr>\n",
       "      <th>0</th>\n",
       "      <td>12000002304</td>\n",
       "      <td>0</td>\n",
       "      <td>12</td>\n",
       "      <td>0.0</td>\n",
       "      <td>1647.02</td>\n",
       "      <td>137.251667</td>\n",
       "      <td>0.0</td>\n",
       "    </tr>\n",
       "    <tr>\n",
       "      <th>1</th>\n",
       "      <td>12000002304</td>\n",
       "      <td>1</td>\n",
       "      <td>6</td>\n",
       "      <td>33.0</td>\n",
       "      <td>794.36</td>\n",
       "      <td>132.393333</td>\n",
       "      <td>5.5</td>\n",
       "    </tr>\n",
       "    <tr>\n",
       "      <th>2</th>\n",
       "      <td>12000012761</td>\n",
       "      <td>0</td>\n",
       "      <td>8</td>\n",
       "      <td>0.0</td>\n",
       "      <td>516.13</td>\n",
       "      <td>64.516250</td>\n",
       "      <td>0.0</td>\n",
       "    </tr>\n",
       "  </tbody>\n",
       "</table>\n",
       "</div>"
      ],
      "text/plain": [
       "           UPC  Spend>0  WeekNumCnt  totSpend  totSales  weeklySales  \\\n",
       "0  12000002304        0          12       0.0   1647.02   137.251667   \n",
       "1  12000002304        1           6      33.0    794.36   132.393333   \n",
       "2  12000012761        0           8       0.0    516.13    64.516250   \n",
       "\n",
       "   weeklySpend  \n",
       "0          0.0  \n",
       "1          5.5  \n",
       "2          0.0  "
      ]
     },
     "execution_count": 124,
     "metadata": {},
     "output_type": "execute_result"
    }
   ],
   "source": [
    "df2018.head(3)"
   ]
  },
  {
   "cell_type": "code",
   "execution_count": 129,
   "metadata": {},
   "outputs": [
    {
     "data": {
      "text/plain": [
       "137.25166666666664"
      ]
     },
     "execution_count": 129,
     "metadata": {},
     "output_type": "execute_result"
    }
   ],
   "source": [
    "df2018.iloc[0][\"weeklySales\"]"
   ]
  },
  {
   "cell_type": "code",
   "execution_count": 130,
   "metadata": {},
   "outputs": [],
   "source": [
    "df2018.sort_values(by=[\"UPC\", \"Spend>0\"], inplace = True)"
   ]
  },
  {
   "cell_type": "code",
   "execution_count": 134,
   "metadata": {},
   "outputs": [
    {
     "data": {
      "text/html": [
       "<div>\n",
       "<style scoped>\n",
       "    .dataframe tbody tr th:only-of-type {\n",
       "        vertical-align: middle;\n",
       "    }\n",
       "\n",
       "    .dataframe tbody tr th {\n",
       "        vertical-align: top;\n",
       "    }\n",
       "\n",
       "    .dataframe thead th {\n",
       "        text-align: right;\n",
       "    }\n",
       "</style>\n",
       "<table border=\"1\" class=\"dataframe\">\n",
       "  <thead>\n",
       "    <tr style=\"text-align: right;\">\n",
       "      <th></th>\n",
       "      <th>UPC</th>\n",
       "      <th>Spend&gt;0</th>\n",
       "      <th>WeekNumCnt</th>\n",
       "      <th>totSpend</th>\n",
       "      <th>totSales</th>\n",
       "      <th>weeklySales</th>\n",
       "      <th>weeklySpend</th>\n",
       "    </tr>\n",
       "  </thead>\n",
       "  <tbody>\n",
       "    <tr>\n",
       "      <th>313</th>\n",
       "      <td>52000506402</td>\n",
       "      <td>0</td>\n",
       "      <td>6</td>\n",
       "      <td>0.0</td>\n",
       "      <td>1699.43</td>\n",
       "      <td>283.238333</td>\n",
       "      <td>0.000000</td>\n",
       "    </tr>\n",
       "    <tr>\n",
       "      <th>314</th>\n",
       "      <td>52000506402</td>\n",
       "      <td>1</td>\n",
       "      <td>12</td>\n",
       "      <td>840.0</td>\n",
       "      <td>4905.01</td>\n",
       "      <td>408.750833</td>\n",
       "      <td>70.000000</td>\n",
       "    </tr>\n",
       "    <tr>\n",
       "      <th>315</th>\n",
       "      <td>52000506488</td>\n",
       "      <td>0</td>\n",
       "      <td>6</td>\n",
       "      <td>0.0</td>\n",
       "      <td>1998.80</td>\n",
       "      <td>333.133333</td>\n",
       "      <td>0.000000</td>\n",
       "    </tr>\n",
       "    <tr>\n",
       "      <th>316</th>\n",
       "      <td>52000506488</td>\n",
       "      <td>1</td>\n",
       "      <td>12</td>\n",
       "      <td>538.0</td>\n",
       "      <td>5743.50</td>\n",
       "      <td>478.625000</td>\n",
       "      <td>44.833333</td>\n",
       "    </tr>\n",
       "  </tbody>\n",
       "</table>\n",
       "</div>"
      ],
      "text/plain": [
       "             UPC  Spend>0  WeekNumCnt  totSpend  totSales  weeklySales  \\\n",
       "313  52000506402        0           6       0.0   1699.43   283.238333   \n",
       "314  52000506402        1          12     840.0   4905.01   408.750833   \n",
       "315  52000506488        0           6       0.0   1998.80   333.133333   \n",
       "316  52000506488        1          12     538.0   5743.50   478.625000   \n",
       "\n",
       "     weeklySpend  \n",
       "313     0.000000  \n",
       "314    70.000000  \n",
       "315     0.000000  \n",
       "316    44.833333  "
      ]
     },
     "execution_count": 134,
     "metadata": {},
     "output_type": "execute_result"
    }
   ],
   "source": [
    "df2018.tail(4)"
   ]
  },
  {
   "cell_type": "code",
   "execution_count": 157,
   "metadata": {},
   "outputs": [],
   "source": [
    "#split and merge\n",
    "df2018left = df2018[df2018[\"Spend>0\"]==0].copy()"
   ]
  },
  {
   "cell_type": "code",
   "execution_count": 158,
   "metadata": {},
   "outputs": [
    {
     "data": {
      "text/html": [
       "<div>\n",
       "<style scoped>\n",
       "    .dataframe tbody tr th:only-of-type {\n",
       "        vertical-align: middle;\n",
       "    }\n",
       "\n",
       "    .dataframe tbody tr th {\n",
       "        vertical-align: top;\n",
       "    }\n",
       "\n",
       "    .dataframe thead th {\n",
       "        text-align: right;\n",
       "    }\n",
       "</style>\n",
       "<table border=\"1\" class=\"dataframe\">\n",
       "  <thead>\n",
       "    <tr style=\"text-align: right;\">\n",
       "      <th></th>\n",
       "      <th>UPC</th>\n",
       "      <th>Spend&gt;0</th>\n",
       "      <th>WeekNumCnt</th>\n",
       "      <th>totSpend</th>\n",
       "      <th>totSales</th>\n",
       "      <th>weeklySales</th>\n",
       "      <th>weeklySpend</th>\n",
       "    </tr>\n",
       "  </thead>\n",
       "  <tbody>\n",
       "    <tr>\n",
       "      <th>0</th>\n",
       "      <td>12000002304</td>\n",
       "      <td>0</td>\n",
       "      <td>12</td>\n",
       "      <td>0.0</td>\n",
       "      <td>1647.02</td>\n",
       "      <td>137.251667</td>\n",
       "      <td>0.0</td>\n",
       "    </tr>\n",
       "    <tr>\n",
       "      <th>2</th>\n",
       "      <td>12000012761</td>\n",
       "      <td>0</td>\n",
       "      <td>8</td>\n",
       "      <td>0.0</td>\n",
       "      <td>516.13</td>\n",
       "      <td>64.516250</td>\n",
       "      <td>0.0</td>\n",
       "    </tr>\n",
       "    <tr>\n",
       "      <th>4</th>\n",
       "      <td>12000012792</td>\n",
       "      <td>0</td>\n",
       "      <td>11</td>\n",
       "      <td>0.0</td>\n",
       "      <td>2050.84</td>\n",
       "      <td>186.440000</td>\n",
       "      <td>0.0</td>\n",
       "    </tr>\n",
       "  </tbody>\n",
       "</table>\n",
       "</div>"
      ],
      "text/plain": [
       "           UPC  Spend>0  WeekNumCnt  totSpend  totSales  weeklySales  \\\n",
       "0  12000002304        0          12       0.0   1647.02   137.251667   \n",
       "2  12000012761        0           8       0.0    516.13    64.516250   \n",
       "4  12000012792        0          11       0.0   2050.84   186.440000   \n",
       "\n",
       "   weeklySpend  \n",
       "0          0.0  \n",
       "2          0.0  \n",
       "4          0.0  "
      ]
     },
     "execution_count": 158,
     "metadata": {},
     "output_type": "execute_result"
    }
   ],
   "source": [
    "df2018left.head(3)"
   ]
  },
  {
   "cell_type": "code",
   "execution_count": 159,
   "metadata": {},
   "outputs": [],
   "source": [
    "df2018left.drop(columns=[\"Spend>0\", \"totSpend\", \"weeklySpend\"], inplace = True)"
   ]
  },
  {
   "cell_type": "code",
   "execution_count": 162,
   "metadata": {},
   "outputs": [],
   "source": [
    "df2018left.rename(columns={\"WeekNumCnt\": \"noSpendWeekCnt\", \"totSales\":\"noSpendtotSales\", \n",
    "                   \"weeklySales\": \"noSpendweeklySales\"}, inplace = True)"
   ]
  },
  {
   "cell_type": "code",
   "execution_count": 163,
   "metadata": {},
   "outputs": [
    {
     "data": {
      "text/html": [
       "<div>\n",
       "<style scoped>\n",
       "    .dataframe tbody tr th:only-of-type {\n",
       "        vertical-align: middle;\n",
       "    }\n",
       "\n",
       "    .dataframe tbody tr th {\n",
       "        vertical-align: top;\n",
       "    }\n",
       "\n",
       "    .dataframe thead th {\n",
       "        text-align: right;\n",
       "    }\n",
       "</style>\n",
       "<table border=\"1\" class=\"dataframe\">\n",
       "  <thead>\n",
       "    <tr style=\"text-align: right;\">\n",
       "      <th></th>\n",
       "      <th>UPC</th>\n",
       "      <th>noSpendWeekCnt</th>\n",
       "      <th>noSpendtotSales</th>\n",
       "      <th>noSpendweeklySales</th>\n",
       "    </tr>\n",
       "  </thead>\n",
       "  <tbody>\n",
       "    <tr>\n",
       "      <th>0</th>\n",
       "      <td>12000002304</td>\n",
       "      <td>12</td>\n",
       "      <td>1647.02</td>\n",
       "      <td>137.251667</td>\n",
       "    </tr>\n",
       "    <tr>\n",
       "      <th>2</th>\n",
       "      <td>12000012761</td>\n",
       "      <td>8</td>\n",
       "      <td>516.13</td>\n",
       "      <td>64.516250</td>\n",
       "    </tr>\n",
       "    <tr>\n",
       "      <th>4</th>\n",
       "      <td>12000012792</td>\n",
       "      <td>11</td>\n",
       "      <td>2050.84</td>\n",
       "      <td>186.440000</td>\n",
       "    </tr>\n",
       "  </tbody>\n",
       "</table>\n",
       "</div>"
      ],
      "text/plain": [
       "           UPC  noSpendWeekCnt  noSpendtotSales  noSpendweeklySales\n",
       "0  12000002304              12          1647.02          137.251667\n",
       "2  12000012761               8           516.13           64.516250\n",
       "4  12000012792              11          2050.84          186.440000"
      ]
     },
     "execution_count": 163,
     "metadata": {},
     "output_type": "execute_result"
    }
   ],
   "source": [
    "df2018left.head(3)"
   ]
  },
  {
   "cell_type": "code",
   "execution_count": 164,
   "metadata": {},
   "outputs": [],
   "source": [
    "df2018right = df2018[df2018[\"Spend>0\"]==1].copy()"
   ]
  },
  {
   "cell_type": "code",
   "execution_count": 165,
   "metadata": {},
   "outputs": [
    {
     "data": {
      "text/html": [
       "<div>\n",
       "<style scoped>\n",
       "    .dataframe tbody tr th:only-of-type {\n",
       "        vertical-align: middle;\n",
       "    }\n",
       "\n",
       "    .dataframe tbody tr th {\n",
       "        vertical-align: top;\n",
       "    }\n",
       "\n",
       "    .dataframe thead th {\n",
       "        text-align: right;\n",
       "    }\n",
       "</style>\n",
       "<table border=\"1\" class=\"dataframe\">\n",
       "  <thead>\n",
       "    <tr style=\"text-align: right;\">\n",
       "      <th></th>\n",
       "      <th>UPC</th>\n",
       "      <th>Spend&gt;0</th>\n",
       "      <th>WeekNumCnt</th>\n",
       "      <th>totSpend</th>\n",
       "      <th>totSales</th>\n",
       "      <th>weeklySales</th>\n",
       "      <th>weeklySpend</th>\n",
       "    </tr>\n",
       "  </thead>\n",
       "  <tbody>\n",
       "    <tr>\n",
       "      <th>1</th>\n",
       "      <td>12000002304</td>\n",
       "      <td>1</td>\n",
       "      <td>6</td>\n",
       "      <td>33.0</td>\n",
       "      <td>794.36</td>\n",
       "      <td>132.393333</td>\n",
       "      <td>5.5</td>\n",
       "    </tr>\n",
       "    <tr>\n",
       "      <th>3</th>\n",
       "      <td>12000012761</td>\n",
       "      <td>1</td>\n",
       "      <td>10</td>\n",
       "      <td>57.0</td>\n",
       "      <td>1000.22</td>\n",
       "      <td>100.022000</td>\n",
       "      <td>5.7</td>\n",
       "    </tr>\n",
       "    <tr>\n",
       "      <th>5</th>\n",
       "      <td>12000012792</td>\n",
       "      <td>1</td>\n",
       "      <td>7</td>\n",
       "      <td>28.0</td>\n",
       "      <td>1079.30</td>\n",
       "      <td>154.185714</td>\n",
       "      <td>4.0</td>\n",
       "    </tr>\n",
       "  </tbody>\n",
       "</table>\n",
       "</div>"
      ],
      "text/plain": [
       "           UPC  Spend>0  WeekNumCnt  totSpend  totSales  weeklySales  \\\n",
       "1  12000002304        1           6      33.0    794.36   132.393333   \n",
       "3  12000012761        1          10      57.0   1000.22   100.022000   \n",
       "5  12000012792        1           7      28.0   1079.30   154.185714   \n",
       "\n",
       "   weeklySpend  \n",
       "1          5.5  \n",
       "3          5.7  \n",
       "5          4.0  "
      ]
     },
     "execution_count": 165,
     "metadata": {},
     "output_type": "execute_result"
    }
   ],
   "source": [
    "df2018right.head(3)"
   ]
  },
  {
   "cell_type": "code",
   "execution_count": 166,
   "metadata": {},
   "outputs": [],
   "source": [
    "df2018right.rename(columns={\"WeekNumCnt\": \"SpendWeekCnt\", \"totSales\":\"SpendtotSales\", \n",
    "                   \"weeklySales\": \"SpendweeklySales\"}, inplace = True)\n",
    "df2018right.drop(columns=[\"Spend>0\"], inplace=True)"
   ]
  },
  {
   "cell_type": "code",
   "execution_count": 168,
   "metadata": {},
   "outputs": [
    {
     "data": {
      "text/html": [
       "<div>\n",
       "<style scoped>\n",
       "    .dataframe tbody tr th:only-of-type {\n",
       "        vertical-align: middle;\n",
       "    }\n",
       "\n",
       "    .dataframe tbody tr th {\n",
       "        vertical-align: top;\n",
       "    }\n",
       "\n",
       "    .dataframe thead th {\n",
       "        text-align: right;\n",
       "    }\n",
       "</style>\n",
       "<table border=\"1\" class=\"dataframe\">\n",
       "  <thead>\n",
       "    <tr style=\"text-align: right;\">\n",
       "      <th></th>\n",
       "      <th>UPC</th>\n",
       "      <th>SpendWeekCnt</th>\n",
       "      <th>totSpend</th>\n",
       "      <th>SpendtotSales</th>\n",
       "      <th>SpendweeklySales</th>\n",
       "      <th>weeklySpend</th>\n",
       "    </tr>\n",
       "  </thead>\n",
       "  <tbody>\n",
       "    <tr>\n",
       "      <th>1</th>\n",
       "      <td>12000002304</td>\n",
       "      <td>6</td>\n",
       "      <td>33.0</td>\n",
       "      <td>794.36</td>\n",
       "      <td>132.393333</td>\n",
       "      <td>5.5</td>\n",
       "    </tr>\n",
       "    <tr>\n",
       "      <th>3</th>\n",
       "      <td>12000012761</td>\n",
       "      <td>10</td>\n",
       "      <td>57.0</td>\n",
       "      <td>1000.22</td>\n",
       "      <td>100.022000</td>\n",
       "      <td>5.7</td>\n",
       "    </tr>\n",
       "    <tr>\n",
       "      <th>5</th>\n",
       "      <td>12000012792</td>\n",
       "      <td>7</td>\n",
       "      <td>28.0</td>\n",
       "      <td>1079.30</td>\n",
       "      <td>154.185714</td>\n",
       "      <td>4.0</td>\n",
       "    </tr>\n",
       "  </tbody>\n",
       "</table>\n",
       "</div>"
      ],
      "text/plain": [
       "           UPC  SpendWeekCnt  totSpend  SpendtotSales  SpendweeklySales  \\\n",
       "1  12000002304             6      33.0         794.36        132.393333   \n",
       "3  12000012761            10      57.0        1000.22        100.022000   \n",
       "5  12000012792             7      28.0        1079.30        154.185714   \n",
       "\n",
       "   weeklySpend  \n",
       "1          5.5  \n",
       "3          5.7  \n",
       "5          4.0  "
      ]
     },
     "execution_count": 168,
     "metadata": {},
     "output_type": "execute_result"
    }
   ],
   "source": [
    "df2018right.head(3)"
   ]
  },
  {
   "cell_type": "code",
   "execution_count": 169,
   "metadata": {},
   "outputs": [
    {
     "data": {
      "text/plain": [
       "(151, 4)"
      ]
     },
     "execution_count": 169,
     "metadata": {},
     "output_type": "execute_result"
    }
   ],
   "source": [
    "df2018left.shape"
   ]
  },
  {
   "cell_type": "code",
   "execution_count": 170,
   "metadata": {},
   "outputs": [
    {
     "data": {
      "text/plain": [
       "(151, 6)"
      ]
     },
     "execution_count": 170,
     "metadata": {},
     "output_type": "execute_result"
    }
   ],
   "source": [
    "df2018right.shape"
   ]
  },
  {
   "cell_type": "code",
   "execution_count": 171,
   "metadata": {},
   "outputs": [],
   "source": [
    "df2018M = df2018left.merge(df2018right, how = \"outer\", left_on=[\"UPC\"], right_on =[\"UPC\"])"
   ]
  },
  {
   "cell_type": "code",
   "execution_count": 172,
   "metadata": {},
   "outputs": [
    {
     "data": {
      "text/html": [
       "<div>\n",
       "<style scoped>\n",
       "    .dataframe tbody tr th:only-of-type {\n",
       "        vertical-align: middle;\n",
       "    }\n",
       "\n",
       "    .dataframe tbody tr th {\n",
       "        vertical-align: top;\n",
       "    }\n",
       "\n",
       "    .dataframe thead th {\n",
       "        text-align: right;\n",
       "    }\n",
       "</style>\n",
       "<table border=\"1\" class=\"dataframe\">\n",
       "  <thead>\n",
       "    <tr style=\"text-align: right;\">\n",
       "      <th></th>\n",
       "      <th>UPC</th>\n",
       "      <th>noSpendWeekCnt</th>\n",
       "      <th>noSpendtotSales</th>\n",
       "      <th>noSpendweeklySales</th>\n",
       "      <th>SpendWeekCnt</th>\n",
       "      <th>totSpend</th>\n",
       "      <th>SpendtotSales</th>\n",
       "      <th>SpendweeklySales</th>\n",
       "      <th>weeklySpend</th>\n",
       "    </tr>\n",
       "  </thead>\n",
       "  <tbody>\n",
       "    <tr>\n",
       "      <th>0</th>\n",
       "      <td>12000002304</td>\n",
       "      <td>12</td>\n",
       "      <td>1647.02</td>\n",
       "      <td>137.251667</td>\n",
       "      <td>6</td>\n",
       "      <td>33.0</td>\n",
       "      <td>794.36</td>\n",
       "      <td>132.393333</td>\n",
       "      <td>5.5</td>\n",
       "    </tr>\n",
       "    <tr>\n",
       "      <th>1</th>\n",
       "      <td>12000012761</td>\n",
       "      <td>8</td>\n",
       "      <td>516.13</td>\n",
       "      <td>64.516250</td>\n",
       "      <td>10</td>\n",
       "      <td>57.0</td>\n",
       "      <td>1000.22</td>\n",
       "      <td>100.022000</td>\n",
       "      <td>5.7</td>\n",
       "    </tr>\n",
       "    <tr>\n",
       "      <th>2</th>\n",
       "      <td>12000012792</td>\n",
       "      <td>11</td>\n",
       "      <td>2050.84</td>\n",
       "      <td>186.440000</td>\n",
       "      <td>7</td>\n",
       "      <td>28.0</td>\n",
       "      <td>1079.30</td>\n",
       "      <td>154.185714</td>\n",
       "      <td>4.0</td>\n",
       "    </tr>\n",
       "  </tbody>\n",
       "</table>\n",
       "</div>"
      ],
      "text/plain": [
       "           UPC  noSpendWeekCnt  noSpendtotSales  noSpendweeklySales  \\\n",
       "0  12000002304              12          1647.02          137.251667   \n",
       "1  12000012761               8           516.13           64.516250   \n",
       "2  12000012792              11          2050.84          186.440000   \n",
       "\n",
       "   SpendWeekCnt  totSpend  SpendtotSales  SpendweeklySales  weeklySpend  \n",
       "0             6      33.0         794.36        132.393333          5.5  \n",
       "1            10      57.0        1000.22        100.022000          5.7  \n",
       "2             7      28.0        1079.30        154.185714          4.0  "
      ]
     },
     "execution_count": 172,
     "metadata": {},
     "output_type": "execute_result"
    }
   ],
   "source": [
    "df2018M.head(3)"
   ]
  },
  {
   "cell_type": "code",
   "execution_count": 173,
   "metadata": {},
   "outputs": [],
   "source": [
    "df2018M[\"delWeeklySales\"] = df2018M[\"SpendweeklySales\"]-df2018M[\"noSpendweeklySales\"]\n",
    "df2018M[\"weeklyROI\"] = df2018M[\"delWeeklySales\"]/df2018M[\"weeklySpend\"]"
   ]
  },
  {
   "cell_type": "code",
   "execution_count": 174,
   "metadata": {},
   "outputs": [
    {
     "data": {
      "text/plain": [
       "(151, 11)"
      ]
     },
     "execution_count": 174,
     "metadata": {},
     "output_type": "execute_result"
    }
   ],
   "source": [
    "df2018M.shape #check shape, should be 151 rows"
   ]
  },
  {
   "cell_type": "code",
   "execution_count": 175,
   "metadata": {},
   "outputs": [],
   "source": [
    "df2018M.to_csv(\"df2018M.csv\")"
   ]
  },
  {
   "cell_type": "code",
   "execution_count": 142,
   "metadata": {},
   "outputs": [],
   "source": [
    "# def calcdelSales(df):\n",
    "#     #df is grouped by UPC\n",
    "#     weeklyDelSales = df.iloc[1][\"weeklySales\"] - df.iloc[0][\"weeklySales\"]\n",
    "#     weeklyROI = weeklyDelSales/(df.iloc[1][\"weeklySpend\"])\n",
    "#     return weeklyDelSales, weeklyROI "
   ]
  },
  {
   "cell_type": "code",
   "execution_count": null,
   "metadata": {},
   "outputs": [],
   "source": []
  }
 ],
 "metadata": {
  "kernelspec": {
   "display_name": "Python 3",
   "language": "python",
   "name": "python3"
  },
  "language_info": {
   "codemirror_mode": {
    "name": "ipython",
    "version": 3
   },
   "file_extension": ".py",
   "mimetype": "text/x-python",
   "name": "python",
   "nbconvert_exporter": "python",
   "pygments_lexer": "ipython3",
   "version": "3.6.8"
  }
 },
 "nbformat": 4,
 "nbformat_minor": 2
}
