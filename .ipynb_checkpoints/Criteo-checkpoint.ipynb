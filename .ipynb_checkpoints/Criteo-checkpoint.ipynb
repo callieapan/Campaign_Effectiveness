{
 "cells": [
  {
   "cell_type": "markdown",
   "metadata": {},
   "source": [
    "log:\n",
    "4/5/2019\n",
    "find the prior period where there is sales but no spend, and check for correlation btween sales and spend\n",
    "Realized that side to side comparison between 2017 and 2018 is not very meaningful because many of the products had no sales in 2017\n",
    "\n",
    "Next:\n",
    "need to redo the analysis using only 2018 data where there is meaingful sales for all products\n",
    "\n",
    "4/8/2019\n",
    "Did ridge regression (linear regression) on the merged Campign and Sales data from week 18 to 52 in 2018, almost no regularization\n",
    "outputed results to dfAll04082019.csv\n",
    "\n",
    "Next: \n",
    "seeing that the coefficients (ROI) by UPC of the ridge regression output as sometimes very high and other modest, re-conduct that analysis by rolling up the data to brand level. We supsect that there is some cannibalization from one UPC over the other when we put search spend on only one UPC. \n",
    "\n"
   ]
  },
  {
   "cell_type": "code",
   "execution_count": 1,
   "metadata": {},
   "outputs": [],
   "source": [
    "import numpy as np\n",
    "import pandas as pd\n",
    "import matplotlib.pyplot as plt"
   ]
  },
  {
   "cell_type": "code",
   "execution_count": 2,
   "metadata": {},
   "outputs": [
    {
     "name": "stderr",
     "output_type": "stream",
     "text": [
      "C:\\Users\\80160001\\AppData\\Local\\Continuum\\anaconda3\\lib\\site-packages\\IPython\\core\\interactiveshell.py:3044: DtypeWarning: Columns (15) have mixed types. Specify dtype option on import or set low_memory=False.\n",
      "  interactivity=interactivity, compiler=compiler, result=result)\n"
     ]
    }
   ],
   "source": [
    "#read General sales file\n",
    "Target_Sales = pd.read_csv(\"Target_Sales_2017-2018.csv\", encoding = \"ISO-8859-1\")\n",
    "\n",
    "dropInd=Target_Sales[Target_Sales['UPC']=='Filler'].index\n",
    "Target_Sales.drop(index = dropInd, inplace=True)\n",
    "\n",
    "Target_Sales[\"UPC\"] = Target_Sales[\"UPC\"].astype(np.int64)\n",
    "Target_Sales[\"Wk End\"] = pd.to_datetime(Target_Sales['Wk End'], infer_datetime_format=True)\n",
    "#Target_Sales[\"DayofWeek\"] = Target_Sales[\"Wk End\"].dt.dayofweek\n",
    "Target_Sales[\"YEAR\"] = Target_Sales[\"Wk End\"].dt.year\n",
    "Target_Sales[\"WeekNum\"] = Target_Sales[\"Wk End\"].dt.week\n",
    "Target_Sales[\"YEARWeekNum\"] = Target_Sales[\"YEAR\"].astype(str)+\"-\"+Target_Sales[\"WeekNum\"].astype(str)"
   ]
  },
  {
   "cell_type": "code",
   "execution_count": 3,
   "metadata": {},
   "outputs": [
    {
     "data": {
      "text/plain": [
       "Index(['Filter BU 1', 'BU', 'BU (VisualizationFactView)', 'Brand Name',\n",
       "       'UPC Title', 'Wk End', 'Filter Year', 'Fiscal Year Number',\n",
       "       'Gross Sales', 'IRI Category (UPCHierarchyView)',\n",
       "       'IRI SubCategory (UPCHierarchyView)', 'Filter Parent Name',\n",
       "       'Pepsi Quarter', 'Period Number', 'Shipped Units', 'UPC',\n",
       "       'UPC (VisualizationFactView)', 'YEAR', 'WeekNum', 'YEARWeekNum'],\n",
       "      dtype='object')"
      ]
     },
     "execution_count": 3,
     "metadata": {},
     "output_type": "execute_result"
    }
   ],
   "source": [
    "Target_Sales.columns"
   ]
  },
  {
   "cell_type": "code",
   "execution_count": 4,
   "metadata": {},
   "outputs": [],
   "source": [
    "TSalesLt = Target_Sales[[\"UPC\",\"Gross Sales\",\"YEAR\", \"WeekNum\", \"YEARWeekNum\"]].copy()"
   ]
  },
  {
   "cell_type": "code",
   "execution_count": 5,
   "metadata": {},
   "outputs": [
    {
     "data": {
      "text/html": [
       "<div>\n",
       "<style scoped>\n",
       "    .dataframe tbody tr th:only-of-type {\n",
       "        vertical-align: middle;\n",
       "    }\n",
       "\n",
       "    .dataframe tbody tr th {\n",
       "        vertical-align: top;\n",
       "    }\n",
       "\n",
       "    .dataframe thead th {\n",
       "        text-align: right;\n",
       "    }\n",
       "</style>\n",
       "<table border=\"1\" class=\"dataframe\">\n",
       "  <thead>\n",
       "    <tr style=\"text-align: right;\">\n",
       "      <th></th>\n",
       "      <th>UPC</th>\n",
       "      <th>Gross Sales</th>\n",
       "      <th>YEAR</th>\n",
       "      <th>WeekNum</th>\n",
       "      <th>YEARWeekNum</th>\n",
       "    </tr>\n",
       "  </thead>\n",
       "  <tbody>\n",
       "    <tr>\n",
       "      <th>0</th>\n",
       "      <td>28400243490</td>\n",
       "      <td>13.96</td>\n",
       "      <td>2017</td>\n",
       "      <td>45</td>\n",
       "      <td>2017-45</td>\n",
       "    </tr>\n",
       "    <tr>\n",
       "      <th>1</th>\n",
       "      <td>876063002035</td>\n",
       "      <td>13.16</td>\n",
       "      <td>2017</td>\n",
       "      <td>42</td>\n",
       "      <td>2017-42</td>\n",
       "    </tr>\n",
       "    <tr>\n",
       "      <th>2</th>\n",
       "      <td>876063002806</td>\n",
       "      <td>3.29</td>\n",
       "      <td>2017</td>\n",
       "      <td>51</td>\n",
       "      <td>2017-51</td>\n",
       "    </tr>\n",
       "  </tbody>\n",
       "</table>\n",
       "</div>"
      ],
      "text/plain": [
       "            UPC  Gross Sales  YEAR  WeekNum YEARWeekNum\n",
       "0   28400243490        13.96  2017       45     2017-45\n",
       "1  876063002035        13.16  2017       42     2017-42\n",
       "2  876063002806         3.29  2017       51     2017-51"
      ]
     },
     "execution_count": 5,
     "metadata": {},
     "output_type": "execute_result"
    }
   ],
   "source": [
    "TSalesLt.head(3)"
   ]
  },
  {
   "cell_type": "code",
   "execution_count": 6,
   "metadata": {},
   "outputs": [
    {
     "data": {
      "text/plain": [
       "UPC               0\n",
       "Gross Sales    9630\n",
       "YEAR              0\n",
       "WeekNum           0\n",
       "YEARWeekNum       0\n",
       "dtype: int64"
      ]
     },
     "execution_count": 6,
     "metadata": {},
     "output_type": "execute_result"
    }
   ],
   "source": [
    "TSalesLt.isnull().sum() #there were some sales were null, fill them"
   ]
  },
  {
   "cell_type": "code",
   "execution_count": 7,
   "metadata": {},
   "outputs": [
    {
     "data": {
      "text/plain": [
       "UPC            0\n",
       "Gross Sales    0\n",
       "YEAR           0\n",
       "WeekNum        0\n",
       "YEARWeekNum    0\n",
       "dtype: int64"
      ]
     },
     "execution_count": 7,
     "metadata": {},
     "output_type": "execute_result"
    }
   ],
   "source": [
    "TSalesLt.fillna(0, inplace = True)\n",
    "TSalesLt.isnull().sum()"
   ]
  },
  {
   "cell_type": "code",
   "execution_count": 8,
   "metadata": {},
   "outputs": [],
   "source": [
    "#read campaign data\n",
    "TargetCamp = pd.read_csv(\"TGT_PM_Pepsi_Wrap_Up_Report_4.1.19.csv\", encoding = \"ISO-8859-1\")\n",
    "\n",
    "TargetCamp.rename(columns = {' Spend ': 'Spend'}, inplace=True)\n",
    "TargetCamp[\"UPC\"] = TargetCamp[\"UPC\"].astype(np.int64)\n",
    "TargetCamp[\"Date\"] = pd.to_datetime(TargetCamp['Date'], infer_datetime_format=True)\n",
    "#TargetCamp[\"DayofWeek\"] = TargetCamp[\"Date\"].dt.dayofweek\n",
    "TargetCamp[\"YEAR\"] = TargetCamp[\"Date\"].dt.year\n",
    "TargetCamp[\"WeekNum\"] = TargetCamp[\"Date\"].dt.week\n",
    "TargetCamp[\"YEARWeekNum\"] = TargetCamp[\"YEAR\"].astype(str)+\"-\"+TargetCamp[\"WeekNum\"].astype(str)\n",
    "TargetCampLt = TargetCamp.drop(columns=['Account Id', 'Account Name', 'Campaign Id', 'Campaign Name', 'Date',\n",
    "                        'TCIN Name', 'Impressions', 'Clicks']).copy()"
   ]
  },
  {
   "cell_type": "code",
   "execution_count": 9,
   "metadata": {},
   "outputs": [
    {
     "data": {
      "text/html": [
       "<div>\n",
       "<style scoped>\n",
       "    .dataframe tbody tr th:only-of-type {\n",
       "        vertical-align: middle;\n",
       "    }\n",
       "\n",
       "    .dataframe tbody tr th {\n",
       "        vertical-align: top;\n",
       "    }\n",
       "\n",
       "    .dataframe thead th {\n",
       "        text-align: right;\n",
       "    }\n",
       "</style>\n",
       "<table border=\"1\" class=\"dataframe\">\n",
       "  <thead>\n",
       "    <tr style=\"text-align: right;\">\n",
       "      <th></th>\n",
       "      <th>UPC</th>\n",
       "      <th>TCIN</th>\n",
       "      <th>Spend</th>\n",
       "      <th>YEAR</th>\n",
       "      <th>WeekNum</th>\n",
       "      <th>YEARWeekNum</th>\n",
       "    </tr>\n",
       "  </thead>\n",
       "  <tbody>\n",
       "    <tr>\n",
       "      <th>0</th>\n",
       "      <td>12000142086</td>\n",
       "      <td>16958332</td>\n",
       "      <td>4</td>\n",
       "      <td>2018</td>\n",
       "      <td>34</td>\n",
       "      <td>2018-34</td>\n",
       "    </tr>\n",
       "    <tr>\n",
       "      <th>1</th>\n",
       "      <td>12000142086</td>\n",
       "      <td>16958332</td>\n",
       "      <td>0</td>\n",
       "      <td>2018</td>\n",
       "      <td>34</td>\n",
       "      <td>2018-34</td>\n",
       "    </tr>\n",
       "    <tr>\n",
       "      <th>2</th>\n",
       "      <td>12000142086</td>\n",
       "      <td>16958332</td>\n",
       "      <td>10</td>\n",
       "      <td>2018</td>\n",
       "      <td>34</td>\n",
       "      <td>2018-34</td>\n",
       "    </tr>\n",
       "  </tbody>\n",
       "</table>\n",
       "</div>"
      ],
      "text/plain": [
       "           UPC      TCIN  Spend  YEAR  WeekNum YEARWeekNum\n",
       "0  12000142086  16958332      4  2018       34     2018-34\n",
       "1  12000142086  16958332      0  2018       34     2018-34\n",
       "2  12000142086  16958332     10  2018       34     2018-34"
      ]
     },
     "execution_count": 9,
     "metadata": {},
     "output_type": "execute_result"
    }
   ],
   "source": [
    "TargetCampLt.head(3)"
   ]
  },
  {
   "cell_type": "code",
   "execution_count": 10,
   "metadata": {},
   "outputs": [],
   "source": [
    "#some variables for campaign year and campaign weeks\n",
    "campYear = 2018\n",
    "campWeeks = np.sort(TargetCamp[\"WeekNum\"].unique())"
   ]
  },
  {
   "cell_type": "code",
   "execution_count": 11,
   "metadata": {},
   "outputs": [
    {
     "name": "stdout",
     "output_type": "stream",
     "text": [
      "unique UPCs 174\n",
      "unique TCINs 181\n"
     ]
    }
   ],
   "source": [
    "print(\"unique UPCs {}\".format(len(TargetCamp.UPC.unique())))\n",
    "print(\"unique TCINs {}\".format(len(TargetCamp.TCIN.unique())))"
   ]
  },
  {
   "cell_type": "code",
   "execution_count": null,
   "metadata": {},
   "outputs": [],
   "source": [
    "## Optional ##\n",
    "#since there are some UPC with multiple TCINs, we need to merge those spends for the single UPC\n",
    "UPCtoTCIN = TargetCamp.groupby([\"UPC\",\"TCIN\"])[\"Account Id\"].count().reset_index().groupby([\"UPC\"])[\"TCIN\"].count()"
   ]
  },
  {
   "cell_type": "code",
   "execution_count": null,
   "metadata": {},
   "outputs": [],
   "source": [
    "#spot check that the 1  UPC to many TCIN cases\n",
    "UPCtoTCIN[UPCtoTCIN>1]"
   ]
  },
  {
   "cell_type": "code",
   "execution_count": null,
   "metadata": {},
   "outputs": [],
   "source": [
    "UPCtoTCIN[UPCtoTCIN>1].index"
   ]
  },
  {
   "cell_type": "code",
   "execution_count": null,
   "metadata": {},
   "outputs": [],
   "source": [
    "TargetCamp[TargetCamp[\"UPC\"]==818094000000.0][\"TCIN\"].unique()"
   ]
  },
  {
   "cell_type": "code",
   "execution_count": null,
   "metadata": {},
   "outputs": [],
   "source": [
    "TargetCamp[TargetCamp[\"TCIN\"]==12958487].head(1) #the first two TCINs for UPC 818094000000"
   ]
  },
  {
   "cell_type": "code",
   "execution_count": null,
   "metadata": {},
   "outputs": [],
   "source": [
    "TargetCamp[TargetCamp[\"TCIN\"]==14771376].head(1) #there are similar product but slightly different\n",
    "## Optional END"
   ]
  },
  {
   "cell_type": "code",
   "execution_count": 12,
   "metadata": {},
   "outputs": [],
   "source": [
    "#roll the Campaign data into weekly so it matches with the time series frequency of Target Sales data\n",
    "#also the one UPC to many TCIN cases,  those spend will be summed to the single UPC\n",
    "#TCgroup=TargetCamp.groupby([\"TCIN\", \"UPC\", \"YEAR\", \"WeekNum\"]).agg({\"Impressions\": \"sum\", \"Clicks\": \"sum\", \"Spend\":\"sum\" })\n",
    "TCWeekly = TargetCampLt.groupby([\"UPC\", \"YEAR\", \"WeekNum\", \"YEARWeekNum\"], as_index=False)[\"Spend\"].sum()"
   ]
  },
  {
   "cell_type": "code",
   "execution_count": 13,
   "metadata": {},
   "outputs": [
    {
     "data": {
      "text/plain": [
       "174"
      ]
     },
     "execution_count": 13,
     "metadata": {},
     "output_type": "execute_result"
    }
   ],
   "source": [
    "len(TCWeekly.UPC.unique()) #should be 174"
   ]
  },
  {
   "cell_type": "code",
   "execution_count": 14,
   "metadata": {},
   "outputs": [
    {
     "data": {
      "text/html": [
       "<div>\n",
       "<style scoped>\n",
       "    .dataframe tbody tr th:only-of-type {\n",
       "        vertical-align: middle;\n",
       "    }\n",
       "\n",
       "    .dataframe tbody tr th {\n",
       "        vertical-align: top;\n",
       "    }\n",
       "\n",
       "    .dataframe thead th {\n",
       "        text-align: right;\n",
       "    }\n",
       "</style>\n",
       "<table border=\"1\" class=\"dataframe\">\n",
       "  <thead>\n",
       "    <tr style=\"text-align: right;\">\n",
       "      <th></th>\n",
       "      <th>UPC</th>\n",
       "      <th>YEAR</th>\n",
       "      <th>WeekNum</th>\n",
       "      <th>YEARWeekNum</th>\n",
       "      <th>Spend</th>\n",
       "    </tr>\n",
       "  </thead>\n",
       "  <tbody>\n",
       "    <tr>\n",
       "      <th>0</th>\n",
       "      <td>12000002304</td>\n",
       "      <td>2018</td>\n",
       "      <td>35</td>\n",
       "      <td>2018-35</td>\n",
       "      <td>0</td>\n",
       "    </tr>\n",
       "    <tr>\n",
       "      <th>1</th>\n",
       "      <td>12000002304</td>\n",
       "      <td>2018</td>\n",
       "      <td>36</td>\n",
       "      <td>2018-36</td>\n",
       "      <td>8</td>\n",
       "    </tr>\n",
       "    <tr>\n",
       "      <th>2</th>\n",
       "      <td>12000002304</td>\n",
       "      <td>2018</td>\n",
       "      <td>37</td>\n",
       "      <td>2018-37</td>\n",
       "      <td>5</td>\n",
       "    </tr>\n",
       "  </tbody>\n",
       "</table>\n",
       "</div>"
      ],
      "text/plain": [
       "           UPC  YEAR  WeekNum YEARWeekNum  Spend\n",
       "0  12000002304  2018       35     2018-35      0\n",
       "1  12000002304  2018       36     2018-36      8\n",
       "2  12000002304  2018       37     2018-37      5"
      ]
     },
     "execution_count": 14,
     "metadata": {},
     "output_type": "execute_result"
    }
   ],
   "source": [
    "TCWeekly.head(3)#check that it works"
   ]
  },
  {
   "cell_type": "code",
   "execution_count": 15,
   "metadata": {},
   "outputs": [
    {
     "data": {
      "text/plain": [
       "44797"
      ]
     },
     "execution_count": 15,
     "metadata": {},
     "output_type": "execute_result"
    }
   ],
   "source": [
    "TCWeekly[\"Spend\"].sum() # should be 44797"
   ]
  },
  {
   "cell_type": "code",
   "execution_count": null,
   "metadata": {},
   "outputs": [],
   "source": [
    "#Check the weeks before and after campign weeks if there were sales in 2018"
   ]
  },
  {
   "cell_type": "code",
   "execution_count": 19,
   "metadata": {},
   "outputs": [],
   "source": [
    "#check TSalesLt for top 3 ASIN for few weeks before and after campaign\n",
    "top20UPC = [30000064412,12000809941,28400642033,12000504044,30000060834,12000809965,28400639552,30000061190,\n",
    "30000010402,28400011099,30000169018,52000010978,12000171864,30000562529,30000261927,30000311820,52000010886,\n",
    "12000809972,52000340242,30000012000]"
   ]
  },
  {
   "cell_type": "code",
   "execution_count": 22,
   "metadata": {},
   "outputs": [
    {
     "data": {
      "text/html": [
       "<div>\n",
       "<style scoped>\n",
       "    .dataframe tbody tr th:only-of-type {\n",
       "        vertical-align: middle;\n",
       "    }\n",
       "\n",
       "    .dataframe tbody tr th {\n",
       "        vertical-align: top;\n",
       "    }\n",
       "\n",
       "    .dataframe thead th {\n",
       "        text-align: right;\n",
       "    }\n",
       "</style>\n",
       "<table border=\"1\" class=\"dataframe\">\n",
       "  <thead>\n",
       "    <tr style=\"text-align: right;\">\n",
       "      <th></th>\n",
       "      <th>Gross Sales</th>\n",
       "    </tr>\n",
       "    <tr>\n",
       "      <th>UPC</th>\n",
       "      <th></th>\n",
       "    </tr>\n",
       "  </thead>\n",
       "  <tbody>\n",
       "    <tr>\n",
       "      <th>12000171864</th>\n",
       "      <td>2590.91</td>\n",
       "    </tr>\n",
       "    <tr>\n",
       "      <th>12000504044</th>\n",
       "      <td>6980.94</td>\n",
       "    </tr>\n",
       "    <tr>\n",
       "      <th>12000809941</th>\n",
       "      <td>4710.45</td>\n",
       "    </tr>\n",
       "    <tr>\n",
       "      <th>12000809965</th>\n",
       "      <td>3500.91</td>\n",
       "    </tr>\n",
       "    <tr>\n",
       "      <th>12000809972</th>\n",
       "      <td>2011.97</td>\n",
       "    </tr>\n",
       "    <tr>\n",
       "      <th>28400011099</th>\n",
       "      <td>5262.54</td>\n",
       "    </tr>\n",
       "    <tr>\n",
       "      <th>28400639552</th>\n",
       "      <td>8056.15</td>\n",
       "    </tr>\n",
       "    <tr>\n",
       "      <th>28400642033</th>\n",
       "      <td>7916.42</td>\n",
       "    </tr>\n",
       "    <tr>\n",
       "      <th>30000010402</th>\n",
       "      <td>6344.40</td>\n",
       "    </tr>\n",
       "    <tr>\n",
       "      <th>30000012000</th>\n",
       "      <td>3037.69</td>\n",
       "    </tr>\n",
       "    <tr>\n",
       "      <th>30000060834</th>\n",
       "      <td>9914.44</td>\n",
       "    </tr>\n",
       "    <tr>\n",
       "      <th>30000061190</th>\n",
       "      <td>6940.62</td>\n",
       "    </tr>\n",
       "    <tr>\n",
       "      <th>30000064412</th>\n",
       "      <td>11947.97</td>\n",
       "    </tr>\n",
       "    <tr>\n",
       "      <th>30000169018</th>\n",
       "      <td>5737.86</td>\n",
       "    </tr>\n",
       "    <tr>\n",
       "      <th>30000261927</th>\n",
       "      <td>7211.20</td>\n",
       "    </tr>\n",
       "    <tr>\n",
       "      <th>30000311820</th>\n",
       "      <td>4611.79</td>\n",
       "    </tr>\n",
       "    <tr>\n",
       "      <th>30000562529</th>\n",
       "      <td>3946.87</td>\n",
       "    </tr>\n",
       "    <tr>\n",
       "      <th>52000010886</th>\n",
       "      <td>7424.49</td>\n",
       "    </tr>\n",
       "    <tr>\n",
       "      <th>52000010978</th>\n",
       "      <td>6709.41</td>\n",
       "    </tr>\n",
       "    <tr>\n",
       "      <th>52000340242</th>\n",
       "      <td>5231.94</td>\n",
       "    </tr>\n",
       "  </tbody>\n",
       "</table>\n",
       "</div>"
      ],
      "text/plain": [
       "             Gross Sales\n",
       "UPC                     \n",
       "12000171864      2590.91\n",
       "12000504044      6980.94\n",
       "12000809941      4710.45\n",
       "12000809965      3500.91\n",
       "12000809972      2011.97\n",
       "28400011099      5262.54\n",
       "28400639552      8056.15\n",
       "28400642033      7916.42\n",
       "30000010402      6344.40\n",
       "30000012000      3037.69\n",
       "30000060834      9914.44\n",
       "30000061190      6940.62\n",
       "30000064412     11947.97\n",
       "30000169018      5737.86\n",
       "30000261927      7211.20\n",
       "30000311820      4611.79\n",
       "30000562529      3946.87\n",
       "52000010886      7424.49\n",
       "52000010978      6709.41\n",
       "52000340242      5231.94"
      ]
     },
     "execution_count": 22,
     "metadata": {},
     "output_type": "execute_result"
    }
   ],
   "source": [
    "#check that there is sales for top 20UPCS in 2018 for weeks 18 10 26 (2 months before campaign)\n",
    "TSalesLt[TSalesLt[\"UPC\"].isin(top20UPC) & TSalesLt[\"YEAR\"].isin([2018]) & TSalesLt[\"WeekNum\"].isin(np.arange(18,27)) ]\\\n",
    "        .groupby(\"UPC\").agg({\"Gross Sales\": \"sum\"})\n",
    "#confirmed that's true"
   ]
  },
  {
   "cell_type": "code",
   "execution_count": 23,
   "metadata": {},
   "outputs": [
    {
     "data": {
      "text/html": [
       "<div>\n",
       "<style scoped>\n",
       "    .dataframe tbody tr th:only-of-type {\n",
       "        vertical-align: middle;\n",
       "    }\n",
       "\n",
       "    .dataframe tbody tr th {\n",
       "        vertical-align: top;\n",
       "    }\n",
       "\n",
       "    .dataframe thead th {\n",
       "        text-align: right;\n",
       "    }\n",
       "</style>\n",
       "<table border=\"1\" class=\"dataframe\">\n",
       "  <thead>\n",
       "    <tr style=\"text-align: right;\">\n",
       "      <th></th>\n",
       "      <th>Gross Sales</th>\n",
       "    </tr>\n",
       "    <tr>\n",
       "      <th>UPC</th>\n",
       "      <th></th>\n",
       "    </tr>\n",
       "  </thead>\n",
       "  <tbody>\n",
       "    <tr>\n",
       "      <th>12000171864</th>\n",
       "      <td>11034.50</td>\n",
       "    </tr>\n",
       "    <tr>\n",
       "      <th>12000504044</th>\n",
       "      <td>13403.87</td>\n",
       "    </tr>\n",
       "    <tr>\n",
       "      <th>12000809941</th>\n",
       "      <td>18840.16</td>\n",
       "    </tr>\n",
       "    <tr>\n",
       "      <th>12000809965</th>\n",
       "      <td>14432.91</td>\n",
       "    </tr>\n",
       "    <tr>\n",
       "      <th>12000809972</th>\n",
       "      <td>9249.17</td>\n",
       "    </tr>\n",
       "    <tr>\n",
       "      <th>28400011099</th>\n",
       "      <td>7744.84</td>\n",
       "    </tr>\n",
       "    <tr>\n",
       "      <th>28400639552</th>\n",
       "      <td>9361.11</td>\n",
       "    </tr>\n",
       "    <tr>\n",
       "      <th>28400642033</th>\n",
       "      <td>12727.33</td>\n",
       "    </tr>\n",
       "    <tr>\n",
       "      <th>30000010402</th>\n",
       "      <td>10180.76</td>\n",
       "    </tr>\n",
       "    <tr>\n",
       "      <th>30000012000</th>\n",
       "      <td>7262.56</td>\n",
       "    </tr>\n",
       "    <tr>\n",
       "      <th>30000060834</th>\n",
       "      <td>13209.41</td>\n",
       "    </tr>\n",
       "    <tr>\n",
       "      <th>30000061190</th>\n",
       "      <td>13699.95</td>\n",
       "    </tr>\n",
       "    <tr>\n",
       "      <th>30000064412</th>\n",
       "      <td>13676.20</td>\n",
       "    </tr>\n",
       "    <tr>\n",
       "      <th>30000169018</th>\n",
       "      <td>7752.32</td>\n",
       "    </tr>\n",
       "    <tr>\n",
       "      <th>30000261927</th>\n",
       "      <td>7892.49</td>\n",
       "    </tr>\n",
       "    <tr>\n",
       "      <th>30000311820</th>\n",
       "      <td>2897.50</td>\n",
       "    </tr>\n",
       "    <tr>\n",
       "      <th>30000562529</th>\n",
       "      <td>5863.07</td>\n",
       "    </tr>\n",
       "    <tr>\n",
       "      <th>52000010886</th>\n",
       "      <td>0.00</td>\n",
       "    </tr>\n",
       "    <tr>\n",
       "      <th>52000010978</th>\n",
       "      <td>0.00</td>\n",
       "    </tr>\n",
       "    <tr>\n",
       "      <th>52000340242</th>\n",
       "      <td>1758.35</td>\n",
       "    </tr>\n",
       "  </tbody>\n",
       "</table>\n",
       "</div>"
      ],
      "text/plain": [
       "             Gross Sales\n",
       "UPC                     \n",
       "12000171864     11034.50\n",
       "12000504044     13403.87\n",
       "12000809941     18840.16\n",
       "12000809965     14432.91\n",
       "12000809972      9249.17\n",
       "28400011099      7744.84\n",
       "28400639552      9361.11\n",
       "28400642033     12727.33\n",
       "30000010402     10180.76\n",
       "30000012000      7262.56\n",
       "30000060834     13209.41\n",
       "30000061190     13699.95\n",
       "30000064412     13676.20\n",
       "30000169018      7752.32\n",
       "30000261927      7892.49\n",
       "30000311820      2897.50\n",
       "30000562529      5863.07\n",
       "52000010886         0.00\n",
       "52000010978         0.00\n",
       "52000340242      1758.35"
      ]
     },
     "execution_count": 23,
     "metadata": {},
     "output_type": "execute_result"
    }
   ],
   "source": [
    "#check that there is sales for top 20UPCS in 2018 for weeks 45 to 52 (2 months after campaign)\n",
    "TSalesLt[TSalesLt[\"UPC\"].isin(top20UPC) & TSalesLt[\"YEAR\"].isin([2018]) & TSalesLt[\"WeekNum\"].isin(np.arange(45,53)) ]\\\n",
    "        .groupby(\"UPC\").agg({\"Gross Sales\": \"sum\"})\n",
    "#confirmed that most have sales, except 2 UPC 52000010886 and 52000010978"
   ]
  },
  {
   "cell_type": "code",
   "execution_count": 25,
   "metadata": {},
   "outputs": [
    {
     "data": {
      "text/plain": [
       "array([18, 19, 20, 21, 22, 23, 24, 25, 26, 27, 28, 29, 30, 31, 32, 33, 34,\n",
       "       35, 36, 37, 38, 39, 40, 41, 42, 43, 44, 45, 46, 47, 48, 49, 50, 51,\n",
       "       52])"
      ]
     },
     "execution_count": 25,
     "metadata": {},
     "output_type": "execute_result"
    }
   ],
   "source": [
    "#lets add all the weeks between 18 to 52\n",
    "weeksList = np.arange(18,53)\n",
    "weeksList"
   ]
  },
  {
   "cell_type": "code",
   "execution_count": 29,
   "metadata": {},
   "outputs": [
    {
     "data": {
      "text/plain": [
       "35"
      ]
     },
     "execution_count": 29,
     "metadata": {},
     "output_type": "execute_result"
    }
   ],
   "source": [
    "len(weeksList)"
   ]
  },
  {
   "cell_type": "code",
   "execution_count": 26,
   "metadata": {},
   "outputs": [
    {
     "data": {
      "text/plain": [
       "array([27, 28, 29, 30, 31, 32, 33, 34, 35, 36, 37, 38, 39, 40, 41, 42, 43,\n",
       "       44], dtype=int64)"
      ]
     },
     "execution_count": 26,
     "metadata": {},
     "output_type": "execute_result"
    }
   ],
   "source": [
    "campWeeks #these are only the week for campaigns"
   ]
  },
  {
   "cell_type": "code",
   "execution_count": 30,
   "metadata": {},
   "outputs": [],
   "source": [
    "#make YearWkNumdf\n",
    "# YearWkNum17 = list(map(lambda x: \"2017-\"+str(x),campWeeks))\n",
    "# YearWkNum18 = list(map(lambda x: \"2018-\"+str(x),campWeeks))\n",
    "#YearWkNum17 = list(map(lambda x: \"2017-\"+str(x),weeksList))\n",
    "YearWkNum18 = list(map(lambda x: \"2018-\"+str(x),weeksList))\n",
    "#YearWkNumdf = pd.DataFrame({\"YEAR\": [2017]*18 + [2018]*18, \"WeekNum\": list(campWeeks)*2,\n",
    "#                            \"YEARWeekNum\":YearWkNum17+YearWkNum18})\n",
    "#make a YearWkNumdf only for 2018 week 18 to 52\n",
    "YearWkNumdf = pd.DataFrame({\"YEAR\": [2018]*35, \"WeekNum\": list(weeksList),\n",
    "                            \"YEARWeekNum\":YearWkNum18})"
   ]
  },
  {
   "cell_type": "code",
   "execution_count": 31,
   "metadata": {},
   "outputs": [
    {
     "data": {
      "text/html": [
       "<div>\n",
       "<style scoped>\n",
       "    .dataframe tbody tr th:only-of-type {\n",
       "        vertical-align: middle;\n",
       "    }\n",
       "\n",
       "    .dataframe tbody tr th {\n",
       "        vertical-align: top;\n",
       "    }\n",
       "\n",
       "    .dataframe thead th {\n",
       "        text-align: right;\n",
       "    }\n",
       "</style>\n",
       "<table border=\"1\" class=\"dataframe\">\n",
       "  <thead>\n",
       "    <tr style=\"text-align: right;\">\n",
       "      <th></th>\n",
       "      <th>YEAR</th>\n",
       "      <th>WeekNum</th>\n",
       "      <th>YEARWeekNum</th>\n",
       "    </tr>\n",
       "  </thead>\n",
       "  <tbody>\n",
       "    <tr>\n",
       "      <th>30</th>\n",
       "      <td>2018</td>\n",
       "      <td>48</td>\n",
       "      <td>2018-48</td>\n",
       "    </tr>\n",
       "    <tr>\n",
       "      <th>31</th>\n",
       "      <td>2018</td>\n",
       "      <td>49</td>\n",
       "      <td>2018-49</td>\n",
       "    </tr>\n",
       "    <tr>\n",
       "      <th>32</th>\n",
       "      <td>2018</td>\n",
       "      <td>50</td>\n",
       "      <td>2018-50</td>\n",
       "    </tr>\n",
       "    <tr>\n",
       "      <th>33</th>\n",
       "      <td>2018</td>\n",
       "      <td>51</td>\n",
       "      <td>2018-51</td>\n",
       "    </tr>\n",
       "    <tr>\n",
       "      <th>34</th>\n",
       "      <td>2018</td>\n",
       "      <td>52</td>\n",
       "      <td>2018-52</td>\n",
       "    </tr>\n",
       "  </tbody>\n",
       "</table>\n",
       "</div>"
      ],
      "text/plain": [
       "    YEAR  WeekNum YEARWeekNum\n",
       "30  2018       48     2018-48\n",
       "31  2018       49     2018-49\n",
       "32  2018       50     2018-50\n",
       "33  2018       51     2018-51\n",
       "34  2018       52     2018-52"
      ]
     },
     "execution_count": 31,
     "metadata": {},
     "output_type": "execute_result"
    }
   ],
   "source": [
    "YearWkNumdf.tail()"
   ]
  },
  {
   "cell_type": "code",
   "execution_count": 32,
   "metadata": {},
   "outputs": [
    {
     "data": {
      "text/plain": [
       "YEAR            int64\n",
       "WeekNum         int64\n",
       "YEARWeekNum    object\n",
       "dtype: object"
      ]
     },
     "execution_count": 32,
     "metadata": {},
     "output_type": "execute_result"
    }
   ],
   "source": [
    "YearWkNumdf.dtypes"
   ]
  },
  {
   "cell_type": "code",
   "execution_count": 33,
   "metadata": {},
   "outputs": [
    {
     "data": {
      "text/plain": [
       "(35, 3)"
      ]
     },
     "execution_count": 33,
     "metadata": {},
     "output_type": "execute_result"
    }
   ],
   "source": [
    "YearWkNumdf.shape"
   ]
  },
  {
   "cell_type": "code",
   "execution_count": 34,
   "metadata": {},
   "outputs": [],
   "source": [
    "#check that all Target Campaign UPC  is in sales\n",
    "#there are actually soome Campaign UPCs that are msising from sales UPCs\n",
    "SalesUPC = set(TSalesLt.UPC.unique())"
   ]
  },
  {
   "cell_type": "code",
   "execution_count": 35,
   "metadata": {},
   "outputs": [],
   "source": [
    "CampUPC = set(TCWeekly.UPC.unique())"
   ]
  },
  {
   "cell_type": "code",
   "execution_count": 36,
   "metadata": {},
   "outputs": [
    {
     "data": {
      "text/plain": [
       "{28400154406,\n",
       " 28400154437,\n",
       " 28400154550,\n",
       " 28400154659,\n",
       " 28400155861,\n",
       " 28400655927,\n",
       " 30000018804,\n",
       " 492717000000,\n",
       " 493000000000,\n",
       " 818094000000,\n",
       " 836093000000}"
      ]
     },
     "execution_count": 36,
     "metadata": {},
     "output_type": "execute_result"
    }
   ],
   "source": [
    "CampUPC - SalesUPC \n",
    "#these are the UPCs that are missing from Sales file \n",
    "#check if they have large revenue later"
   ]
  },
  {
   "cell_type": "code",
   "execution_count": 37,
   "metadata": {},
   "outputs": [
    {
     "name": "stdout",
     "output_type": "stream",
     "text": [
      "<class 'set'>\n",
      "163\n"
     ]
    }
   ],
   "source": [
    "joinUPC = CampUPC & SalesUPC #there are 163 UPCs in both files\n",
    "print(type(joinUPC))\n",
    "print(len(joinUPC))"
   ]
  },
  {
   "cell_type": "code",
   "execution_count": 38,
   "metadata": {},
   "outputs": [],
   "source": [
    "#checkpoint copy DF\n",
    "TCWeeklyold = TCWeekly.copy() #for checkpoint"
   ]
  },
  {
   "cell_type": "code",
   "execution_count": null,
   "metadata": {},
   "outputs": [],
   "source": [
    "#Optional\n",
    "TCWeekly.groupby(\"UPC\")[\"YEARWeekNum\"].count().min() #some only had 1 week that had promotional spend\n",
    "#max() is 18, which means that most of them do not have all 18 weeks of promotion spend>0 "
   ]
  },
  {
   "cell_type": "code",
   "execution_count": null,
   "metadata": {},
   "outputs": [],
   "source": [
    "TSalesLt.shape #"
   ]
  },
  {
   "cell_type": "code",
   "execution_count": 39,
   "metadata": {},
   "outputs": [
    {
     "data": {
      "text/plain": [
       "1124"
      ]
     },
     "execution_count": 39,
     "metadata": {},
     "output_type": "execute_result"
    }
   ],
   "source": [
    "len(TSalesLt.UPC.unique()) #TSales has 1124 UPCS, so the result df should have 1124*35 = 39340 rows"
   ]
  },
  {
   "cell_type": "code",
   "execution_count": 40,
   "metadata": {},
   "outputs": [
    {
     "data": {
      "text/plain": [
       "39340"
      ]
     },
     "execution_count": 40,
     "metadata": {},
     "output_type": "execute_result"
    }
   ],
   "source": [
    "1124*35"
   ]
  },
  {
   "cell_type": "code",
   "execution_count": 41,
   "metadata": {},
   "outputs": [
    {
     "data": {
      "text/plain": [
       "5705"
      ]
     },
     "execution_count": 41,
     "metadata": {},
     "output_type": "execute_result"
    }
   ],
   "source": [
    "163*35 #post joining both TSalesSlice and TClight it should have 5705 rows"
   ]
  },
  {
   "cell_type": "code",
   "execution_count": 42,
   "metadata": {},
   "outputs": [],
   "source": [
    "#make sure yeach UPC has all data for each Week in the campaign week\n",
    "#fill in the weeks that have no data with 0 sales and 0 spend\n",
    "def mergeYWN(df):\n",
    "    #each df is of a single UPC df\n",
    "    df2 = df.merge(YearWkNumdf, how = \"right\", left_on=\"YEARWeekNum\", right_on=\"YEARWeekNum\")\n",
    "    return df2"
   ]
  },
  {
   "cell_type": "code",
   "execution_count": 43,
   "metadata": {},
   "outputs": [],
   "source": [
    "SalesSlicedf = TSalesLt.groupby([\"UPC\"]).apply(mergeYWN)"
   ]
  },
  {
   "cell_type": "code",
   "execution_count": 44,
   "metadata": {},
   "outputs": [
    {
     "data": {
      "text/plain": [
       "(39340, 7)"
      ]
     },
     "execution_count": 44,
     "metadata": {},
     "output_type": "execute_result"
    }
   ],
   "source": [
    "SalesSlicedf.shape #check that shape is correct, should be TSalesLt unique UPC * num weeks in YearWeekNumdf"
   ]
  },
  {
   "cell_type": "code",
   "execution_count": 46,
   "metadata": {},
   "outputs": [
    {
     "data": {
      "text/html": [
       "<div>\n",
       "<style scoped>\n",
       "    .dataframe tbody tr th:only-of-type {\n",
       "        vertical-align: middle;\n",
       "    }\n",
       "\n",
       "    .dataframe tbody tr th {\n",
       "        vertical-align: top;\n",
       "    }\n",
       "\n",
       "    .dataframe thead th {\n",
       "        text-align: right;\n",
       "    }\n",
       "</style>\n",
       "<table border=\"1\" class=\"dataframe\">\n",
       "  <thead>\n",
       "    <tr style=\"text-align: right;\">\n",
       "      <th></th>\n",
       "      <th></th>\n",
       "      <th>UPC</th>\n",
       "      <th>Gross Sales</th>\n",
       "      <th>YEAR_x</th>\n",
       "      <th>WeekNum_x</th>\n",
       "      <th>YEARWeekNum</th>\n",
       "      <th>YEAR_y</th>\n",
       "      <th>WeekNum_y</th>\n",
       "    </tr>\n",
       "    <tr>\n",
       "      <th>UPC</th>\n",
       "      <th></th>\n",
       "      <th></th>\n",
       "      <th></th>\n",
       "      <th></th>\n",
       "      <th></th>\n",
       "      <th></th>\n",
       "      <th></th>\n",
       "      <th></th>\n",
       "    </tr>\n",
       "  </thead>\n",
       "  <tbody>\n",
       "    <tr>\n",
       "      <th rowspan=\"10\" valign=\"top\">71090098</th>\n",
       "      <th>11</th>\n",
       "      <td>NaN</td>\n",
       "      <td>NaN</td>\n",
       "      <td>NaN</td>\n",
       "      <td>NaN</td>\n",
       "      <td>2018-18</td>\n",
       "      <td>2018</td>\n",
       "      <td>18</td>\n",
       "    </tr>\n",
       "    <tr>\n",
       "      <th>12</th>\n",
       "      <td>NaN</td>\n",
       "      <td>NaN</td>\n",
       "      <td>NaN</td>\n",
       "      <td>NaN</td>\n",
       "      <td>2018-19</td>\n",
       "      <td>2018</td>\n",
       "      <td>19</td>\n",
       "    </tr>\n",
       "    <tr>\n",
       "      <th>13</th>\n",
       "      <td>NaN</td>\n",
       "      <td>NaN</td>\n",
       "      <td>NaN</td>\n",
       "      <td>NaN</td>\n",
       "      <td>2018-20</td>\n",
       "      <td>2018</td>\n",
       "      <td>20</td>\n",
       "    </tr>\n",
       "    <tr>\n",
       "      <th>14</th>\n",
       "      <td>NaN</td>\n",
       "      <td>NaN</td>\n",
       "      <td>NaN</td>\n",
       "      <td>NaN</td>\n",
       "      <td>2018-21</td>\n",
       "      <td>2018</td>\n",
       "      <td>21</td>\n",
       "    </tr>\n",
       "    <tr>\n",
       "      <th>15</th>\n",
       "      <td>NaN</td>\n",
       "      <td>NaN</td>\n",
       "      <td>NaN</td>\n",
       "      <td>NaN</td>\n",
       "      <td>2018-22</td>\n",
       "      <td>2018</td>\n",
       "      <td>22</td>\n",
       "    </tr>\n",
       "    <tr>\n",
       "      <th>16</th>\n",
       "      <td>NaN</td>\n",
       "      <td>NaN</td>\n",
       "      <td>NaN</td>\n",
       "      <td>NaN</td>\n",
       "      <td>2018-23</td>\n",
       "      <td>2018</td>\n",
       "      <td>23</td>\n",
       "    </tr>\n",
       "    <tr>\n",
       "      <th>17</th>\n",
       "      <td>NaN</td>\n",
       "      <td>NaN</td>\n",
       "      <td>NaN</td>\n",
       "      <td>NaN</td>\n",
       "      <td>2018-24</td>\n",
       "      <td>2018</td>\n",
       "      <td>24</td>\n",
       "    </tr>\n",
       "    <tr>\n",
       "      <th>18</th>\n",
       "      <td>NaN</td>\n",
       "      <td>NaN</td>\n",
       "      <td>NaN</td>\n",
       "      <td>NaN</td>\n",
       "      <td>2018-25</td>\n",
       "      <td>2018</td>\n",
       "      <td>25</td>\n",
       "    </tr>\n",
       "    <tr>\n",
       "      <th>19</th>\n",
       "      <td>NaN</td>\n",
       "      <td>NaN</td>\n",
       "      <td>NaN</td>\n",
       "      <td>NaN</td>\n",
       "      <td>2018-26</td>\n",
       "      <td>2018</td>\n",
       "      <td>26</td>\n",
       "    </tr>\n",
       "    <tr>\n",
       "      <th>20</th>\n",
       "      <td>NaN</td>\n",
       "      <td>NaN</td>\n",
       "      <td>NaN</td>\n",
       "      <td>NaN</td>\n",
       "      <td>2018-27</td>\n",
       "      <td>2018</td>\n",
       "      <td>27</td>\n",
       "    </tr>\n",
       "  </tbody>\n",
       "</table>\n",
       "</div>"
      ],
      "text/plain": [
       "             UPC  Gross Sales  YEAR_x  WeekNum_x YEARWeekNum  YEAR_y  \\\n",
       "UPC                                                                    \n",
       "71090098 11  NaN          NaN     NaN        NaN     2018-18    2018   \n",
       "         12  NaN          NaN     NaN        NaN     2018-19    2018   \n",
       "         13  NaN          NaN     NaN        NaN     2018-20    2018   \n",
       "         14  NaN          NaN     NaN        NaN     2018-21    2018   \n",
       "         15  NaN          NaN     NaN        NaN     2018-22    2018   \n",
       "         16  NaN          NaN     NaN        NaN     2018-23    2018   \n",
       "         17  NaN          NaN     NaN        NaN     2018-24    2018   \n",
       "         18  NaN          NaN     NaN        NaN     2018-25    2018   \n",
       "         19  NaN          NaN     NaN        NaN     2018-26    2018   \n",
       "         20  NaN          NaN     NaN        NaN     2018-27    2018   \n",
       "\n",
       "             WeekNum_y  \n",
       "UPC                     \n",
       "71090098 11         18  \n",
       "         12         19  \n",
       "         13         20  \n",
       "         14         21  \n",
       "         15         22  \n",
       "         16         23  \n",
       "         17         24  \n",
       "         18         25  \n",
       "         19         26  \n",
       "         20         27  "
      ]
     },
     "execution_count": 46,
     "metadata": {},
     "output_type": "execute_result"
    }
   ],
   "source": [
    "#fill in the missing rows\n",
    "SalesSlicedf[SalesSlicedf[\"UPC\"].isnull()][:10]"
   ]
  },
  {
   "cell_type": "code",
   "execution_count": 47,
   "metadata": {},
   "outputs": [
    {
     "data": {
      "text/plain": [
       "UPC            10251\n",
       "Gross Sales    10251\n",
       "YEAR_x         10251\n",
       "WeekNum_x      10251\n",
       "YEARWeekNum        0\n",
       "YEAR_y             0\n",
       "WeekNum_y          0\n",
       "dtype: int64"
      ]
     },
     "execution_count": 47,
     "metadata": {},
     "output_type": "execute_result"
    }
   ],
   "source": [
    "SalesSlicedf.isnull().sum()"
   ]
  },
  {
   "cell_type": "code",
   "execution_count": 48,
   "metadata": {},
   "outputs": [],
   "source": [
    "SalesSlicedf.drop(columns = [\"UPC\",\"YEAR_x\", \"WeekNum_x\"], inplace = True) #drop the extra UPC columns that has null values\n",
    "SalesSlicedf.reset_index(inplace = True) #reset index so true UPC is acolumns\n",
    "SalesSlicedf.drop(columns = [\"level_1\"], inplace = True) #drop extra column\n",
    "\n",
    "#fillnas Sales with 0\n",
    "SalesSlicedf[\"Gross Sales\"].fillna(0, inplace = True)\n",
    "\n",
    "\n",
    "SalesSlicedf.rename(columns={\"YEAR_y\": \"YEAR\", \"WeekNum_y\": \"WeekNum\"}, inplace=True)"
   ]
  },
  {
   "cell_type": "code",
   "execution_count": 49,
   "metadata": {},
   "outputs": [
    {
     "data": {
      "text/plain": [
       "(39340, 5)"
      ]
     },
     "execution_count": 49,
     "metadata": {},
     "output_type": "execute_result"
    }
   ],
   "source": [
    "SalesSlicedf.shape"
   ]
  },
  {
   "cell_type": "code",
   "execution_count": 50,
   "metadata": {},
   "outputs": [
    {
     "data": {
      "text/plain": [
       "Index(['UPC', 'Gross Sales', 'YEARWeekNum', 'YEAR', 'WeekNum'], dtype='object')"
      ]
     },
     "execution_count": 50,
     "metadata": {},
     "output_type": "execute_result"
    }
   ],
   "source": [
    "SalesSlicedf.columns"
   ]
  },
  {
   "cell_type": "code",
   "execution_count": 51,
   "metadata": {},
   "outputs": [
    {
     "data": {
      "text/plain": [
       "Index(['UPC', 'YEAR', 'WeekNum', 'YEARWeekNum', 'Spend'], dtype='object')"
      ]
     },
     "execution_count": 51,
     "metadata": {},
     "output_type": "execute_result"
    }
   ],
   "source": [
    "TCWeekly.columns"
   ]
  },
  {
   "cell_type": "code",
   "execution_count": 52,
   "metadata": {},
   "outputs": [
    {
     "data": {
      "text/plain": [
       "174"
      ]
     },
     "execution_count": 52,
     "metadata": {},
     "output_type": "execute_result"
    }
   ],
   "source": [
    "len(TCWeekly.UPC.unique())"
   ]
  },
  {
   "cell_type": "code",
   "execution_count": 53,
   "metadata": {},
   "outputs": [
    {
     "data": {
      "text/plain": [
       "6090"
      ]
     },
     "execution_count": 53,
     "metadata": {},
     "output_type": "execute_result"
    }
   ],
   "source": [
    "174*35 #post merge it should have 6090 rows"
   ]
  },
  {
   "cell_type": "code",
   "execution_count": 54,
   "metadata": {},
   "outputs": [],
   "source": [
    "#merge TCWeekly with all the YEARWeekNumdf\n",
    "TCWeeklyFull = TCWeekly.groupby([\"UPC\"]).apply(mergeYWN)"
   ]
  },
  {
   "cell_type": "code",
   "execution_count": 55,
   "metadata": {},
   "outputs": [
    {
     "data": {
      "text/plain": [
       "(6090, 7)"
      ]
     },
     "execution_count": 55,
     "metadata": {},
     "output_type": "execute_result"
    }
   ],
   "source": [
    "TCWeeklyFull.shape #checked length correct"
   ]
  },
  {
   "cell_type": "code",
   "execution_count": 56,
   "metadata": {},
   "outputs": [
    {
     "data": {
      "text/plain": [
       "UPC            4191\n",
       "YEAR_x         4191\n",
       "WeekNum_x      4191\n",
       "YEARWeekNum       0\n",
       "Spend          4191\n",
       "YEAR_y            0\n",
       "WeekNum_y         0\n",
       "dtype: int64"
      ]
     },
     "execution_count": 56,
     "metadata": {},
     "output_type": "execute_result"
    }
   ],
   "source": [
    "TCWeeklyFull.isnull().sum()"
   ]
  },
  {
   "cell_type": "code",
   "execution_count": 57,
   "metadata": {},
   "outputs": [
    {
     "data": {
      "text/html": [
       "<div>\n",
       "<style scoped>\n",
       "    .dataframe tbody tr th:only-of-type {\n",
       "        vertical-align: middle;\n",
       "    }\n",
       "\n",
       "    .dataframe tbody tr th {\n",
       "        vertical-align: top;\n",
       "    }\n",
       "\n",
       "    .dataframe thead th {\n",
       "        text-align: right;\n",
       "    }\n",
       "</style>\n",
       "<table border=\"1\" class=\"dataframe\">\n",
       "  <thead>\n",
       "    <tr style=\"text-align: right;\">\n",
       "      <th></th>\n",
       "      <th></th>\n",
       "      <th>UPC</th>\n",
       "      <th>YEAR_x</th>\n",
       "      <th>WeekNum_x</th>\n",
       "      <th>YEARWeekNum</th>\n",
       "      <th>Spend</th>\n",
       "      <th>YEAR_y</th>\n",
       "      <th>WeekNum_y</th>\n",
       "    </tr>\n",
       "    <tr>\n",
       "      <th>UPC</th>\n",
       "      <th></th>\n",
       "      <th></th>\n",
       "      <th></th>\n",
       "      <th></th>\n",
       "      <th></th>\n",
       "      <th></th>\n",
       "      <th></th>\n",
       "      <th></th>\n",
       "    </tr>\n",
       "  </thead>\n",
       "  <tbody>\n",
       "    <tr>\n",
       "      <th rowspan=\"3\" valign=\"top\">836093000000</th>\n",
       "      <th>32</th>\n",
       "      <td>NaN</td>\n",
       "      <td>NaN</td>\n",
       "      <td>NaN</td>\n",
       "      <td>2018-50</td>\n",
       "      <td>NaN</td>\n",
       "      <td>2018</td>\n",
       "      <td>50</td>\n",
       "    </tr>\n",
       "    <tr>\n",
       "      <th>33</th>\n",
       "      <td>NaN</td>\n",
       "      <td>NaN</td>\n",
       "      <td>NaN</td>\n",
       "      <td>2018-51</td>\n",
       "      <td>NaN</td>\n",
       "      <td>2018</td>\n",
       "      <td>51</td>\n",
       "    </tr>\n",
       "    <tr>\n",
       "      <th>34</th>\n",
       "      <td>NaN</td>\n",
       "      <td>NaN</td>\n",
       "      <td>NaN</td>\n",
       "      <td>2018-52</td>\n",
       "      <td>NaN</td>\n",
       "      <td>2018</td>\n",
       "      <td>52</td>\n",
       "    </tr>\n",
       "  </tbody>\n",
       "</table>\n",
       "</div>"
      ],
      "text/plain": [
       "                 UPC  YEAR_x  WeekNum_x YEARWeekNum  Spend  YEAR_y  WeekNum_y\n",
       "UPC                                                                          \n",
       "836093000000 32  NaN     NaN        NaN     2018-50    NaN    2018         50\n",
       "             33  NaN     NaN        NaN     2018-51    NaN    2018         51\n",
       "             34  NaN     NaN        NaN     2018-52    NaN    2018         52"
      ]
     },
     "execution_count": 57,
     "metadata": {},
     "output_type": "execute_result"
    }
   ],
   "source": [
    "TCWeeklyFull.tail(3)"
   ]
  },
  {
   "cell_type": "code",
   "execution_count": 58,
   "metadata": {},
   "outputs": [],
   "source": [
    "#do the same reorg as SalesSlicedf\n",
    "TCWeeklyFull.drop(columns = [\"UPC\",\"YEAR_x\", \"WeekNum_x\"], inplace = True) #drop the extra UPC columns that has null values\n",
    "TCWeeklyFull.reset_index(inplace = True) #reset index so true UPC is acolumns\n",
    "TCWeeklyFull.drop(columns = [\"level_1\"], inplace = True) #drop extra column\n",
    "TCWeeklyFull[\"Spend\"].fillna(0, inplace = True)"
   ]
  },
  {
   "cell_type": "code",
   "execution_count": 59,
   "metadata": {},
   "outputs": [],
   "source": [
    "TCWeeklyFull.rename(columns={\"YEAR_y\": \"YEAR\", \"WeekNum_y\": \"WeekNum\"}, inplace=True)"
   ]
  },
  {
   "cell_type": "code",
   "execution_count": 60,
   "metadata": {},
   "outputs": [
    {
     "data": {
      "text/html": [
       "<div>\n",
       "<style scoped>\n",
       "    .dataframe tbody tr th:only-of-type {\n",
       "        vertical-align: middle;\n",
       "    }\n",
       "\n",
       "    .dataframe tbody tr th {\n",
       "        vertical-align: top;\n",
       "    }\n",
       "\n",
       "    .dataframe thead th {\n",
       "        text-align: right;\n",
       "    }\n",
       "</style>\n",
       "<table border=\"1\" class=\"dataframe\">\n",
       "  <thead>\n",
       "    <tr style=\"text-align: right;\">\n",
       "      <th></th>\n",
       "      <th>UPC</th>\n",
       "      <th>YEARWeekNum</th>\n",
       "      <th>Spend</th>\n",
       "      <th>YEAR</th>\n",
       "      <th>WeekNum</th>\n",
       "    </tr>\n",
       "  </thead>\n",
       "  <tbody>\n",
       "    <tr>\n",
       "      <th>6085</th>\n",
       "      <td>836093000000</td>\n",
       "      <td>2018-48</td>\n",
       "      <td>0.0</td>\n",
       "      <td>2018</td>\n",
       "      <td>48</td>\n",
       "    </tr>\n",
       "    <tr>\n",
       "      <th>6086</th>\n",
       "      <td>836093000000</td>\n",
       "      <td>2018-49</td>\n",
       "      <td>0.0</td>\n",
       "      <td>2018</td>\n",
       "      <td>49</td>\n",
       "    </tr>\n",
       "    <tr>\n",
       "      <th>6087</th>\n",
       "      <td>836093000000</td>\n",
       "      <td>2018-50</td>\n",
       "      <td>0.0</td>\n",
       "      <td>2018</td>\n",
       "      <td>50</td>\n",
       "    </tr>\n",
       "    <tr>\n",
       "      <th>6088</th>\n",
       "      <td>836093000000</td>\n",
       "      <td>2018-51</td>\n",
       "      <td>0.0</td>\n",
       "      <td>2018</td>\n",
       "      <td>51</td>\n",
       "    </tr>\n",
       "    <tr>\n",
       "      <th>6089</th>\n",
       "      <td>836093000000</td>\n",
       "      <td>2018-52</td>\n",
       "      <td>0.0</td>\n",
       "      <td>2018</td>\n",
       "      <td>52</td>\n",
       "    </tr>\n",
       "  </tbody>\n",
       "</table>\n",
       "</div>"
      ],
      "text/plain": [
       "               UPC YEARWeekNum  Spend  YEAR  WeekNum\n",
       "6085  836093000000     2018-48    0.0  2018       48\n",
       "6086  836093000000     2018-49    0.0  2018       49\n",
       "6087  836093000000     2018-50    0.0  2018       50\n",
       "6088  836093000000     2018-51    0.0  2018       51\n",
       "6089  836093000000     2018-52    0.0  2018       52"
      ]
     },
     "execution_count": 60,
     "metadata": {},
     "output_type": "execute_result"
    }
   ],
   "source": [
    "TCWeeklyFull.tail()"
   ]
  },
  {
   "cell_type": "code",
   "execution_count": 61,
   "metadata": {},
   "outputs": [],
   "source": [
    "Tmerge = TCWeeklyFull.merge(SalesSlicedf, how =\"inner\", left_on = [\"UPC\", \"YEARWeekNum\"], right_on = [\"UPC\", \"YEARWeekNum\"])"
   ]
  },
  {
   "cell_type": "code",
   "execution_count": null,
   "metadata": {},
   "outputs": [],
   "source": []
  },
  {
   "cell_type": "code",
   "execution_count": 64,
   "metadata": {},
   "outputs": [
    {
     "data": {
      "text/plain": [
       "5705"
      ]
     },
     "execution_count": 64,
     "metadata": {},
     "output_type": "execute_result"
    }
   ],
   "source": [
    "163*35"
   ]
  },
  {
   "cell_type": "code",
   "execution_count": 62,
   "metadata": {},
   "outputs": [
    {
     "data": {
      "text/plain": [
       "(5705, 8)"
      ]
     },
     "execution_count": 62,
     "metadata": {},
     "output_type": "execute_result"
    }
   ],
   "source": [
    "Tmerge.shape #should have 163*35 rows because Campaign and Sales shares 163 unique UPCS"
   ]
  },
  {
   "cell_type": "code",
   "execution_count": 65,
   "metadata": {},
   "outputs": [
    {
     "data": {
      "text/html": [
       "<div>\n",
       "<style scoped>\n",
       "    .dataframe tbody tr th:only-of-type {\n",
       "        vertical-align: middle;\n",
       "    }\n",
       "\n",
       "    .dataframe tbody tr th {\n",
       "        vertical-align: top;\n",
       "    }\n",
       "\n",
       "    .dataframe thead th {\n",
       "        text-align: right;\n",
       "    }\n",
       "</style>\n",
       "<table border=\"1\" class=\"dataframe\">\n",
       "  <thead>\n",
       "    <tr style=\"text-align: right;\">\n",
       "      <th></th>\n",
       "      <th>UPC</th>\n",
       "      <th>YEARWeekNum</th>\n",
       "      <th>Spend</th>\n",
       "      <th>YEAR_x</th>\n",
       "      <th>WeekNum_x</th>\n",
       "      <th>Gross Sales</th>\n",
       "      <th>YEAR_y</th>\n",
       "      <th>WeekNum_y</th>\n",
       "    </tr>\n",
       "  </thead>\n",
       "  <tbody>\n",
       "    <tr>\n",
       "      <th>0</th>\n",
       "      <td>12000002304</td>\n",
       "      <td>2018-35</td>\n",
       "      <td>0.0</td>\n",
       "      <td>2018</td>\n",
       "      <td>35</td>\n",
       "      <td>102.20</td>\n",
       "      <td>2018</td>\n",
       "      <td>35</td>\n",
       "    </tr>\n",
       "    <tr>\n",
       "      <th>1</th>\n",
       "      <td>12000002304</td>\n",
       "      <td>2018-36</td>\n",
       "      <td>8.0</td>\n",
       "      <td>2018</td>\n",
       "      <td>36</td>\n",
       "      <td>99.39</td>\n",
       "      <td>2018</td>\n",
       "      <td>36</td>\n",
       "    </tr>\n",
       "  </tbody>\n",
       "</table>\n",
       "</div>"
      ],
      "text/plain": [
       "           UPC YEARWeekNum  Spend  YEAR_x  WeekNum_x  Gross Sales  YEAR_y  \\\n",
       "0  12000002304     2018-35    0.0    2018         35       102.20    2018   \n",
       "1  12000002304     2018-36    8.0    2018         36        99.39    2018   \n",
       "\n",
       "   WeekNum_y  \n",
       "0         35  \n",
       "1         36  "
      ]
     },
     "execution_count": 65,
     "metadata": {},
     "output_type": "execute_result"
    }
   ],
   "source": [
    "Tmerge.head(2)"
   ]
  },
  {
   "cell_type": "code",
   "execution_count": 66,
   "metadata": {},
   "outputs": [],
   "source": [
    "#Tmerge.to_csv(\"Tmerge.csv\")"
   ]
  },
  {
   "cell_type": "code",
   "execution_count": 67,
   "metadata": {},
   "outputs": [
    {
     "data": {
      "text/plain": [
       "UPC            0\n",
       "YEARWeekNum    0\n",
       "Spend          0\n",
       "YEAR_x         0\n",
       "WeekNum_x      0\n",
       "Gross Sales    0\n",
       "YEAR_y         0\n",
       "WeekNum_y      0\n",
       "dtype: int64"
      ]
     },
     "execution_count": 67,
     "metadata": {},
     "output_type": "execute_result"
    }
   ],
   "source": [
    "Tmerge.isnull().sum() #should not have any null values"
   ]
  },
  {
   "cell_type": "code",
   "execution_count": 68,
   "metadata": {},
   "outputs": [],
   "source": [
    "Tmerge.drop(columns=[\"YEAR_x\", \"WeekNum_x\"], inplace=True)\n",
    "\n",
    "Tmerge.rename(columns={\"YEAR_y\": \"YEAR\", \"WeekNum_y\": \"WeekNum\"}, inplace=True)"
   ]
  },
  {
   "cell_type": "code",
   "execution_count": null,
   "metadata": {},
   "outputs": [],
   "source": [
    "##Old Analysis Optional\n",
    "def sidetoside(df):\n",
    "    #each df is by individual UPC\n",
    "    df2017 = df[df[\"YEAR\"].isin([2017])].copy()\n",
    "    df2017.rename(columns={\"Spend\": \"2017Spend\", \"Gross Sales\": \"2017 Sales\"}, inplace= True)\n",
    "    df2018= df[df[\"YEAR\"].isin([2018])].copy()\n",
    "    df2018.rename(columns={\"Spend\": \"2018Spend\", \"Gross Sales\": \"2018 Sales\"}, inplace= True)\n",
    "    result = df2017.merge(df2018, how=\"inner\", left_on=\"WeekNum\", right_on=\"WeekNum\")\n",
    "    return result"
   ]
  },
  {
   "cell_type": "code",
   "execution_count": null,
   "metadata": {},
   "outputs": [],
   "source": [
    "TS2S = Tmerge.groupby([\"UPC\"]).apply(sidetoside)\n",
    "\n",
    "#TS2S.head(10)\n",
    "\n",
    "TS2S.reset_index(inplace=True)\n",
    "\n",
    "TS2S.columns\n",
    "\n",
    "TS2S.drop(columns=['level_1', 'UPC_x','YEARWeekNum_x','YEAR_x','UPC_y', 'YEARWeekNum_y','YEAR_y'], inplace=True)\n",
    "\n",
    "#TS2S.to_csv(\"TS2S.csv\")\n",
    "#already have written the file\n",
    "\n",
    "TS2StotSales = TS2S.groupby([\"UPC\"], as_index=False)[\"2018 Sales\"].sum()\n",
    "\n",
    "TS2StotSales.sort_values(by = [\"2018 Sales\"], ascending=False, inplace=True)\n",
    "\n",
    "top20UPC = list(TS2StotSales[\"UPC\"][:20])\n",
    "\n",
    "TS2Stop = TS2S[TS2S[\"UPC\"].isin(top20UPC)]\n",
    "\n",
    "TS2Stop.shape\n",
    "\n",
    "#TS2Stop.to_csv(\"TS2Stop.csv\")\n",
    "#already written\n",
    "#realized that 2017 had a lot of no sales, so if you want to check delta sales between 2017 and 2018 \n",
    "#over the campaign period, it is not very telling\n",
    "#OPTIONAL End"
   ]
  },
  {
   "cell_type": "code",
   "execution_count": 80,
   "metadata": {},
   "outputs": [],
   "source": [
    "#use Tmerge for machine learning\n",
    "from sklearn.linear_model import Ridge\n"
   ]
  },
  {
   "cell_type": "code",
   "execution_count": 96,
   "metadata": {},
   "outputs": [],
   "source": [
    "def fitridge(df):\n",
    "    #each df is by a single UPC\n",
    "    xfields = [\"Spend\"]\n",
    "    yfields = [\"Gross Sales\"]\n",
    "    lr = Ridge(1e1).fit(df[xfields], df[yfields])\n",
    "    return lr.coef_[0][0]"
   ]
  },
  {
   "cell_type": "code",
   "execution_count": 97,
   "metadata": {},
   "outputs": [],
   "source": [
    "SpendCoefbyUPC = Tmerge.groupby([\"UPC\"]).apply(fitridge)"
   ]
  },
  {
   "cell_type": "code",
   "execution_count": 99,
   "metadata": {},
   "outputs": [
    {
     "data": {
      "text/plain": [
       "UPC\n",
       "12000002304    -7.475662\n",
       "12000012761     0.907137\n",
       "12000012792    -9.025530\n",
       "12000017117    -3.510522\n",
       "12000017544   -10.470898\n",
       "12000030680    -7.596190\n",
       "12000032004    -3.123947\n",
       "12000032455    -1.835785\n",
       "12000046513    -0.011568\n",
       "12000101519     3.608924\n",
       "dtype: float64"
      ]
     },
     "execution_count": 99,
     "metadata": {},
     "output_type": "execute_result"
    }
   ],
   "source": [
    "SpendCoefbyUPC[:10]"
   ]
  },
  {
   "cell_type": "code",
   "execution_count": 117,
   "metadata": {},
   "outputs": [],
   "source": [
    "CoefbyUPCdf = pd.DataFrame(SpendCoefbyUPC, columns=[\"SpendCoef\"])"
   ]
  },
  {
   "cell_type": "code",
   "execution_count": 131,
   "metadata": {},
   "outputs": [],
   "source": [
    "totSales=Tmerge.groupby([\"UPC\"])[\"Gross Sales\"].sum()"
   ]
  },
  {
   "cell_type": "code",
   "execution_count": 137,
   "metadata": {},
   "outputs": [],
   "source": [
    "#append total sales and brand nam\n",
    "dftotSales = pd.DataFrame({\"totSalesWk18-52\":totSales})"
   ]
  },
  {
   "cell_type": "code",
   "execution_count": 110,
   "metadata": {},
   "outputs": [
    {
     "data": {
      "text/plain": [
       "Index(['Filter BU 1', 'BU', 'BU (VisualizationFactView)', 'Brand Name',\n",
       "       'UPC Title', 'Wk End', 'Filter Year', 'Fiscal Year Number',\n",
       "       'Gross Sales', 'IRI Category (UPCHierarchyView)',\n",
       "       'IRI SubCategory (UPCHierarchyView)', 'Filter Parent Name',\n",
       "       'Pepsi Quarter', 'Period Number', 'Shipped Units', 'UPC',\n",
       "       'UPC (VisualizationFactView)', 'YEAR', 'WeekNum', 'YEARWeekNum'],\n",
       "      dtype='object')"
      ]
     },
     "execution_count": 110,
     "metadata": {},
     "output_type": "execute_result"
    }
   ],
   "source": [
    "Target_Sales.columns"
   ]
  },
  {
   "cell_type": "code",
   "execution_count": 116,
   "metadata": {},
   "outputs": [],
   "source": [
    "infobyUPCdf=Target_Sales.groupby([\"UPC\", \"BU\", \"Brand Name\", \"UPC Title\"], as_index= False)[\"Gross Sales\"].count().copy()"
   ]
  },
  {
   "cell_type": "code",
   "execution_count": 122,
   "metadata": {},
   "outputs": [],
   "source": [
    "infobyUPCdf.set_index([\"UPC\"], inplace=True)"
   ]
  },
  {
   "cell_type": "code",
   "execution_count": 146,
   "metadata": {},
   "outputs": [],
   "source": [
    "infobyUPCdf.drop(columns=[\"Gross Sales\"], inplace = True)"
   ]
  },
  {
   "cell_type": "code",
   "execution_count": 123,
   "metadata": {
    "scrolled": true
   },
   "outputs": [
    {
     "data": {
      "text/html": [
       "<div>\n",
       "<style scoped>\n",
       "    .dataframe tbody tr th:only-of-type {\n",
       "        vertical-align: middle;\n",
       "    }\n",
       "\n",
       "    .dataframe tbody tr th {\n",
       "        vertical-align: top;\n",
       "    }\n",
       "\n",
       "    .dataframe thead th {\n",
       "        text-align: right;\n",
       "    }\n",
       "</style>\n",
       "<table border=\"1\" class=\"dataframe\">\n",
       "  <thead>\n",
       "    <tr style=\"text-align: right;\">\n",
       "      <th></th>\n",
       "      <th>SpendCoef</th>\n",
       "    </tr>\n",
       "    <tr>\n",
       "      <th>UPC</th>\n",
       "      <th></th>\n",
       "    </tr>\n",
       "  </thead>\n",
       "  <tbody>\n",
       "    <tr>\n",
       "      <th>12000002304</th>\n",
       "      <td>-7.475662</td>\n",
       "    </tr>\n",
       "  </tbody>\n",
       "</table>\n",
       "</div>"
      ],
      "text/plain": [
       "             SpendCoef\n",
       "UPC                   \n",
       "12000002304  -7.475662"
      ]
     },
     "execution_count": 123,
     "metadata": {},
     "output_type": "execute_result"
    }
   ],
   "source": [
    "CoefbyUPCdf.head(1)"
   ]
  },
  {
   "cell_type": "code",
   "execution_count": 145,
   "metadata": {},
   "outputs": [
    {
     "data": {
      "text/html": [
       "<div>\n",
       "<style scoped>\n",
       "    .dataframe tbody tr th:only-of-type {\n",
       "        vertical-align: middle;\n",
       "    }\n",
       "\n",
       "    .dataframe tbody tr th {\n",
       "        vertical-align: top;\n",
       "    }\n",
       "\n",
       "    .dataframe thead th {\n",
       "        text-align: right;\n",
       "    }\n",
       "</style>\n",
       "<table border=\"1\" class=\"dataframe\">\n",
       "  <thead>\n",
       "    <tr style=\"text-align: right;\">\n",
       "      <th></th>\n",
       "      <th>totSalesWk18-52</th>\n",
       "    </tr>\n",
       "    <tr>\n",
       "      <th>UPC</th>\n",
       "      <th></th>\n",
       "    </tr>\n",
       "  </thead>\n",
       "  <tbody>\n",
       "    <tr>\n",
       "      <th>12000002304</th>\n",
       "      <td>6487.93</td>\n",
       "    </tr>\n",
       "  </tbody>\n",
       "</table>\n",
       "</div>"
      ],
      "text/plain": [
       "             totSalesWk18-52\n",
       "UPC                         \n",
       "12000002304          6487.93"
      ]
     },
     "execution_count": 145,
     "metadata": {},
     "output_type": "execute_result"
    }
   ],
   "source": [
    "dftotSales.head(1)"
   ]
  },
  {
   "cell_type": "code",
   "execution_count": 147,
   "metadata": {},
   "outputs": [
    {
     "data": {
      "text/html": [
       "<div>\n",
       "<style scoped>\n",
       "    .dataframe tbody tr th:only-of-type {\n",
       "        vertical-align: middle;\n",
       "    }\n",
       "\n",
       "    .dataframe tbody tr th {\n",
       "        vertical-align: top;\n",
       "    }\n",
       "\n",
       "    .dataframe thead th {\n",
       "        text-align: right;\n",
       "    }\n",
       "</style>\n",
       "<table border=\"1\" class=\"dataframe\">\n",
       "  <thead>\n",
       "    <tr style=\"text-align: right;\">\n",
       "      <th></th>\n",
       "      <th>BU</th>\n",
       "      <th>Brand Name</th>\n",
       "      <th>UPC Title</th>\n",
       "    </tr>\n",
       "    <tr>\n",
       "      <th>UPC</th>\n",
       "      <th></th>\n",
       "      <th></th>\n",
       "      <th></th>\n",
       "    </tr>\n",
       "  </thead>\n",
       "  <tbody>\n",
       "    <tr>\n",
       "      <th>71090098</th>\n",
       "      <td>Quaker</td>\n",
       "      <td>Gamesa</td>\n",
       "      <td>Gamesa Sugar Wafer Cookie 6.7oz</td>\n",
       "    </tr>\n",
       "  </tbody>\n",
       "</table>\n",
       "</div>"
      ],
      "text/plain": [
       "              BU Brand Name                        UPC Title\n",
       "UPC                                                         \n",
       "71090098  Quaker     Gamesa  Gamesa Sugar Wafer Cookie 6.7oz"
      ]
     },
     "execution_count": 147,
     "metadata": {},
     "output_type": "execute_result"
    }
   ],
   "source": [
    "infobyUPCdf.head(1)"
   ]
  },
  {
   "cell_type": "code",
   "execution_count": 148,
   "metadata": {},
   "outputs": [],
   "source": [
    "#merge all of them together and sort by total Sales\n",
    "dfAll = (CoefbyUPCdf.join(dftotSales, how=\"left\")).join(infobyUPCdf, how=\"left\")"
   ]
  },
  {
   "cell_type": "code",
   "execution_count": 149,
   "metadata": {},
   "outputs": [
    {
     "data": {
      "text/html": [
       "<div>\n",
       "<style scoped>\n",
       "    .dataframe tbody tr th:only-of-type {\n",
       "        vertical-align: middle;\n",
       "    }\n",
       "\n",
       "    .dataframe tbody tr th {\n",
       "        vertical-align: top;\n",
       "    }\n",
       "\n",
       "    .dataframe thead th {\n",
       "        text-align: right;\n",
       "    }\n",
       "</style>\n",
       "<table border=\"1\" class=\"dataframe\">\n",
       "  <thead>\n",
       "    <tr style=\"text-align: right;\">\n",
       "      <th></th>\n",
       "      <th>SpendCoef</th>\n",
       "      <th>totSalesWk18-52</th>\n",
       "      <th>BU</th>\n",
       "      <th>Brand Name</th>\n",
       "      <th>UPC Title</th>\n",
       "    </tr>\n",
       "    <tr>\n",
       "      <th>UPC</th>\n",
       "      <th></th>\n",
       "      <th></th>\n",
       "      <th></th>\n",
       "      <th></th>\n",
       "      <th></th>\n",
       "    </tr>\n",
       "  </thead>\n",
       "  <tbody>\n",
       "    <tr>\n",
       "      <th>12000002304</th>\n",
       "      <td>-7.475662</td>\n",
       "      <td>6487.93</td>\n",
       "      <td>Beverages</td>\n",
       "      <td>Pepsi</td>\n",
       "      <td>PEPSI SODA COLA PLASTIC BOTTLE 1 CT 67.6 OZ</td>\n",
       "    </tr>\n",
       "    <tr>\n",
       "      <th>12000012761</th>\n",
       "      <td>0.907137</td>\n",
       "      <td>3123.56</td>\n",
       "      <td>Beverages</td>\n",
       "      <td>Lipton</td>\n",
       "      <td>LIPTON GREEN TEA W/CITRUS PREPARED TEA VITAMIN...</td>\n",
       "    </tr>\n",
       "    <tr>\n",
       "      <th>12000012792</th>\n",
       "      <td>-9.025530</td>\n",
       "      <td>6308.37</td>\n",
       "      <td>Beverages</td>\n",
       "      <td>Diet Lipton</td>\n",
       "      <td>LIPTON DIET GREEN TEA W/CITRUS PREPARED TEA VI...</td>\n",
       "    </tr>\n",
       "  </tbody>\n",
       "</table>\n",
       "</div>"
      ],
      "text/plain": [
       "             SpendCoef  totSalesWk18-52         BU   Brand Name  \\\n",
       "UPC                                                               \n",
       "12000002304  -7.475662          6487.93  Beverages        Pepsi   \n",
       "12000012761   0.907137          3123.56  Beverages       Lipton   \n",
       "12000012792  -9.025530          6308.37  Beverages  Diet Lipton   \n",
       "\n",
       "                                                     UPC Title  \n",
       "UPC                                                             \n",
       "12000002304        PEPSI SODA COLA PLASTIC BOTTLE 1 CT 67.6 OZ  \n",
       "12000012761  LIPTON GREEN TEA W/CITRUS PREPARED TEA VITAMIN...  \n",
       "12000012792  LIPTON DIET GREEN TEA W/CITRUS PREPARED TEA VI...  "
      ]
     },
     "execution_count": 149,
     "metadata": {},
     "output_type": "execute_result"
    }
   ],
   "source": [
    "dfAll.head(3)"
   ]
  },
  {
   "cell_type": "code",
   "execution_count": 153,
   "metadata": {},
   "outputs": [],
   "source": [
    "dfAll.sort_values(by=[\"totSalesWk18-52\"], ascending = False, inplace=True)"
   ]
  },
  {
   "cell_type": "code",
   "execution_count": 154,
   "metadata": {},
   "outputs": [
    {
     "data": {
      "text/html": [
       "<div>\n",
       "<style scoped>\n",
       "    .dataframe tbody tr th:only-of-type {\n",
       "        vertical-align: middle;\n",
       "    }\n",
       "\n",
       "    .dataframe tbody tr th {\n",
       "        vertical-align: top;\n",
       "    }\n",
       "\n",
       "    .dataframe thead th {\n",
       "        text-align: right;\n",
       "    }\n",
       "</style>\n",
       "<table border=\"1\" class=\"dataframe\">\n",
       "  <thead>\n",
       "    <tr style=\"text-align: right;\">\n",
       "      <th></th>\n",
       "      <th>SpendCoef</th>\n",
       "      <th>totSalesWk18-52</th>\n",
       "      <th>BU</th>\n",
       "      <th>Brand Name</th>\n",
       "      <th>UPC Title</th>\n",
       "    </tr>\n",
       "    <tr>\n",
       "      <th>UPC</th>\n",
       "      <th></th>\n",
       "      <th></th>\n",
       "      <th></th>\n",
       "      <th></th>\n",
       "      <th></th>\n",
       "    </tr>\n",
       "  </thead>\n",
       "  <tbody>\n",
       "    <tr>\n",
       "      <th>30000064412</th>\n",
       "      <td>6.188543</td>\n",
       "      <td>51419.96</td>\n",
       "      <td>Quaker</td>\n",
       "      <td>QK Oat Squares Cereal</td>\n",
       "      <td>QUAKER OATMEAL SQUARES OAT SQUARE REGULAR 1 CT...</td>\n",
       "    </tr>\n",
       "    <tr>\n",
       "      <th>12000809941</th>\n",
       "      <td>32.342584</td>\n",
       "      <td>49173.69</td>\n",
       "      <td>Beverages</td>\n",
       "      <td>Pepsi</td>\n",
       "      <td>PEPSI SODA COLA CAN IN FRIDGE PCK BX 12 CT 144 OZ</td>\n",
       "    </tr>\n",
       "    <tr>\n",
       "      <th>28400642033</th>\n",
       "      <td>2.831057</td>\n",
       "      <td>45443.01</td>\n",
       "      <td>FLNA</td>\n",
       "      <td>Doritos</td>\n",
       "      <td>DORITOS TORTILLA CHIP NACHO CHEESE BAG 9.75 OZ</td>\n",
       "    </tr>\n",
       "    <tr>\n",
       "      <th>30000060834</th>\n",
       "      <td>0.091769</td>\n",
       "      <td>44956.10</td>\n",
       "      <td>Quaker</td>\n",
       "      <td>Life</td>\n",
       "      <td>QUAKER LIFE MULTI GRAIN SQUARE CINNAMON 1 CT 1...</td>\n",
       "    </tr>\n",
       "  </tbody>\n",
       "</table>\n",
       "</div>"
      ],
      "text/plain": [
       "             SpendCoef  totSalesWk18-52         BU             Brand Name  \\\n",
       "UPC                                                                         \n",
       "30000064412   6.188543         51419.96     Quaker  QK Oat Squares Cereal   \n",
       "12000809941  32.342584         49173.69  Beverages                  Pepsi   \n",
       "28400642033   2.831057         45443.01       FLNA                Doritos   \n",
       "30000060834   0.091769         44956.10     Quaker                   Life   \n",
       "\n",
       "                                                     UPC Title  \n",
       "UPC                                                             \n",
       "30000064412  QUAKER OATMEAL SQUARES OAT SQUARE REGULAR 1 CT...  \n",
       "12000809941  PEPSI SODA COLA CAN IN FRIDGE PCK BX 12 CT 144 OZ  \n",
       "28400642033     DORITOS TORTILLA CHIP NACHO CHEESE BAG 9.75 OZ  \n",
       "30000060834  QUAKER LIFE MULTI GRAIN SQUARE CINNAMON 1 CT 1...  "
      ]
     },
     "execution_count": 154,
     "metadata": {},
     "output_type": "execute_result"
    }
   ],
   "source": [
    "dfAll.head(4)"
   ]
  },
  {
   "cell_type": "code",
   "execution_count": 156,
   "metadata": {},
   "outputs": [],
   "source": [
    "dfAll.to_csv(\"dfAll04082019.csv\")"
   ]
  },
  {
   "cell_type": "code",
   "execution_count": 71,
   "metadata": {},
   "outputs": [
    {
     "data": {
      "text/plain": [
       "array([35, 36, 37, 38, 39, 40, 41, 42, 43, 18, 19, 20, 21, 22, 23, 24, 25,\n",
       "       26, 27, 28, 29, 30, 31, 32, 33, 34, 44, 45, 46, 47, 48, 49, 50, 51,\n",
       "       52], dtype=int64)"
      ]
     },
     "execution_count": 71,
     "metadata": {},
     "output_type": "execute_result"
    }
   ],
   "source": [
    "#for the top 20 products, find the weeks there spend was 0 and when spend >0abs\n",
    "Tmerge.WeekNum.unique()\n"
   ]
  },
  {
   "cell_type": "code",
   "execution_count": 72,
   "metadata": {},
   "outputs": [],
   "source": [
    "Tmerge[\"Spend>0\"] = (Tmerge[\"Spend\"]>0).astype(int)"
   ]
  },
  {
   "cell_type": "code",
   "execution_count": 73,
   "metadata": {},
   "outputs": [],
   "source": [
    "#Tmerge only has 2018 data but just make a copy\n",
    "Tmerge2018 = Tmerge[Tmerge[\"YEAR\"].isin([2018])].copy()\n"
   ]
  },
  {
   "cell_type": "code",
   "execution_count": 74,
   "metadata": {},
   "outputs": [],
   "source": [
    "df2018 = Tmerge2018.groupby([\"UPC\", \"Spend>0\"], as_index=False).agg({\"WeekNum\":\"count\", \"Spend\": \"sum\", \"Gross Sales\": \"sum\"})"
   ]
  },
  {
   "cell_type": "code",
   "execution_count": 75,
   "metadata": {},
   "outputs": [
    {
     "data": {
      "text/plain": [
       "Index(['UPC', 'Spend>0', 'WeekNum', 'Spend', 'Gross Sales'], dtype='object')"
      ]
     },
     "execution_count": 75,
     "metadata": {},
     "output_type": "execute_result"
    }
   ],
   "source": [
    "df2018.columns"
   ]
  },
  {
   "cell_type": "code",
   "execution_count": 76,
   "metadata": {},
   "outputs": [],
   "source": [
    "df2018.rename(columns={\"WeekNum\": \"WeekNumCnt\", \"Spend\": \"totSpend\", \"Gross Sales\": \"totSales\"}, inplace=True)"
   ]
  },
  {
   "cell_type": "code",
   "execution_count": 77,
   "metadata": {},
   "outputs": [
    {
     "data": {
      "text/html": [
       "<div>\n",
       "<style scoped>\n",
       "    .dataframe tbody tr th:only-of-type {\n",
       "        vertical-align: middle;\n",
       "    }\n",
       "\n",
       "    .dataframe tbody tr th {\n",
       "        vertical-align: top;\n",
       "    }\n",
       "\n",
       "    .dataframe thead th {\n",
       "        text-align: right;\n",
       "    }\n",
       "</style>\n",
       "<table border=\"1\" class=\"dataframe\">\n",
       "  <thead>\n",
       "    <tr style=\"text-align: right;\">\n",
       "      <th></th>\n",
       "      <th>UPC</th>\n",
       "      <th>Spend&gt;0</th>\n",
       "      <th>WeekNumCnt</th>\n",
       "      <th>totSpend</th>\n",
       "      <th>totSales</th>\n",
       "    </tr>\n",
       "  </thead>\n",
       "  <tbody>\n",
       "    <tr>\n",
       "      <th>0</th>\n",
       "      <td>12000002304</td>\n",
       "      <td>0</td>\n",
       "      <td>29</td>\n",
       "      <td>0.0</td>\n",
       "      <td>5693.57</td>\n",
       "    </tr>\n",
       "    <tr>\n",
       "      <th>1</th>\n",
       "      <td>12000002304</td>\n",
       "      <td>1</td>\n",
       "      <td>6</td>\n",
       "      <td>33.0</td>\n",
       "      <td>794.36</td>\n",
       "    </tr>\n",
       "    <tr>\n",
       "      <th>2</th>\n",
       "      <td>12000012761</td>\n",
       "      <td>0</td>\n",
       "      <td>25</td>\n",
       "      <td>0.0</td>\n",
       "      <td>2123.34</td>\n",
       "    </tr>\n",
       "  </tbody>\n",
       "</table>\n",
       "</div>"
      ],
      "text/plain": [
       "           UPC  Spend>0  WeekNumCnt  totSpend  totSales\n",
       "0  12000002304        0          29       0.0   5693.57\n",
       "1  12000002304        1           6      33.0    794.36\n",
       "2  12000012761        0          25       0.0   2123.34"
      ]
     },
     "execution_count": 77,
     "metadata": {},
     "output_type": "execute_result"
    }
   ],
   "source": [
    "df2018.head(3)"
   ]
  },
  {
   "cell_type": "code",
   "execution_count": null,
   "metadata": {},
   "outputs": [],
   "source": [
    "df2018[\"weeklySales\"]=df2018[\"totSales\"]/df2018[\"WeekNumCnt\"]\n",
    "df2018[\"weeklySpend\"]=df2018[\"totSpend\"]/df2018[\"WeekNumCnt\"]"
   ]
  },
  {
   "cell_type": "code",
   "execution_count": null,
   "metadata": {},
   "outputs": [],
   "source": [
    "df2018.head(3)"
   ]
  },
  {
   "cell_type": "code",
   "execution_count": null,
   "metadata": {},
   "outputs": [],
   "source": [
    "#first check if there are any no spend that did not have any sales\n",
    "df2018[df2018[\"totSales\"]==0]"
   ]
  },
  {
   "cell_type": "code",
   "execution_count": null,
   "metadata": {},
   "outputs": [],
   "source": [
    "df2018zeroSales = df2018[df2018[\"totSales\"]==0].copy() #these will be removed from the table"
   ]
  },
  {
   "cell_type": "code",
   "execution_count": null,
   "metadata": {},
   "outputs": [],
   "source": [
    "df2018zeroSales"
   ]
  },
  {
   "cell_type": "code",
   "execution_count": null,
   "metadata": {},
   "outputs": [],
   "source": [
    "df2018.drop(df2018[df2018[\"totSales\"]==0].index, inplace=True) #drop the no sales UPCs"
   ]
  },
  {
   "cell_type": "code",
   "execution_count": null,
   "metadata": {},
   "outputs": [],
   "source": [
    "checkmiss=df2018.groupby([\"UPC\"])[\"Spend>0\"].count()<2"
   ]
  },
  {
   "cell_type": "code",
   "execution_count": null,
   "metadata": {},
   "outputs": [],
   "source": [
    "oneRowUPC = list(checkmiss[checkmiss].index)"
   ]
  },
  {
   "cell_type": "code",
   "execution_count": null,
   "metadata": {},
   "outputs": [],
   "source": [
    "df2018noZeroSales = df2018[df2018[\"UPC\"].isin(oneRowUPC)].copy() \n",
    "#these only have weeks that have sales\n",
    "#have to drop these too"
   ]
  },
  {
   "cell_type": "code",
   "execution_count": null,
   "metadata": {},
   "outputs": [],
   "source": [
    "df2018.drop(df2018[df2018[\"UPC\"].isin(oneRowUPC)].index, inplace=True) #drop the no sales UPCs"
   ]
  },
  {
   "cell_type": "code",
   "execution_count": null,
   "metadata": {},
   "outputs": [],
   "source": [
    "checkmiss2=df2018.groupby([\"UPC\"])[\"Spend>0\"].count()<2"
   ]
  },
  {
   "cell_type": "code",
   "execution_count": null,
   "metadata": {},
   "outputs": [],
   "source": [
    "checkmiss2[checkmiss2] #checked that all have been droped"
   ]
  },
  {
   "cell_type": "code",
   "execution_count": null,
   "metadata": {},
   "outputs": [],
   "source": [
    "df2018.head(3)"
   ]
  },
  {
   "cell_type": "code",
   "execution_count": null,
   "metadata": {},
   "outputs": [],
   "source": [
    "df2018.iloc[0][\"weeklySales\"]"
   ]
  },
  {
   "cell_type": "code",
   "execution_count": null,
   "metadata": {},
   "outputs": [],
   "source": [
    "df2018.sort_values(by=[\"UPC\", \"Spend>0\"], inplace = True)"
   ]
  },
  {
   "cell_type": "code",
   "execution_count": null,
   "metadata": {},
   "outputs": [],
   "source": [
    "df2018.tail(4)"
   ]
  },
  {
   "cell_type": "code",
   "execution_count": null,
   "metadata": {},
   "outputs": [],
   "source": [
    "#split and merge\n",
    "df2018left = df2018[df2018[\"Spend>0\"]==0].copy()"
   ]
  },
  {
   "cell_type": "code",
   "execution_count": null,
   "metadata": {},
   "outputs": [],
   "source": [
    "df2018left.head(3)"
   ]
  },
  {
   "cell_type": "code",
   "execution_count": null,
   "metadata": {},
   "outputs": [],
   "source": [
    "df2018left.drop(columns=[\"Spend>0\", \"totSpend\", \"weeklySpend\"], inplace = True)"
   ]
  },
  {
   "cell_type": "code",
   "execution_count": null,
   "metadata": {},
   "outputs": [],
   "source": [
    "df2018left.rename(columns={\"WeekNumCnt\": \"noSpendWeekCnt\", \"totSales\":\"noSpendtotSales\", \n",
    "                   \"weeklySales\": \"noSpendweeklySales\"}, inplace = True)"
   ]
  },
  {
   "cell_type": "code",
   "execution_count": null,
   "metadata": {},
   "outputs": [],
   "source": [
    "df2018left.head(3)"
   ]
  },
  {
   "cell_type": "code",
   "execution_count": null,
   "metadata": {},
   "outputs": [],
   "source": [
    "df2018right = df2018[df2018[\"Spend>0\"]==1].copy()"
   ]
  },
  {
   "cell_type": "code",
   "execution_count": null,
   "metadata": {},
   "outputs": [],
   "source": [
    "df2018right.head(3)"
   ]
  },
  {
   "cell_type": "code",
   "execution_count": null,
   "metadata": {},
   "outputs": [],
   "source": [
    "df2018right.rename(columns={\"WeekNumCnt\": \"SpendWeekCnt\", \"totSales\":\"SpendtotSales\", \n",
    "                   \"weeklySales\": \"SpendweeklySales\"}, inplace = True)\n",
    "df2018right.drop(columns=[\"Spend>0\"], inplace=True)"
   ]
  },
  {
   "cell_type": "code",
   "execution_count": null,
   "metadata": {},
   "outputs": [],
   "source": [
    "df2018right.head(3)"
   ]
  },
  {
   "cell_type": "code",
   "execution_count": null,
   "metadata": {},
   "outputs": [],
   "source": [
    "df2018left.shape"
   ]
  },
  {
   "cell_type": "code",
   "execution_count": null,
   "metadata": {},
   "outputs": [],
   "source": [
    "df2018right.shape"
   ]
  },
  {
   "cell_type": "code",
   "execution_count": null,
   "metadata": {},
   "outputs": [],
   "source": [
    "df2018M = df2018left.merge(df2018right, how = \"outer\", left_on=[\"UPC\"], right_on =[\"UPC\"])"
   ]
  },
  {
   "cell_type": "code",
   "execution_count": null,
   "metadata": {},
   "outputs": [],
   "source": [
    "df2018M.head(3)"
   ]
  },
  {
   "cell_type": "code",
   "execution_count": null,
   "metadata": {},
   "outputs": [],
   "source": [
    "df2018M[\"delWeeklySales\"] = df2018M[\"SpendweeklySales\"]-df2018M[\"noSpendweeklySales\"]\n",
    "df2018M[\"weeklyROI\"] = df2018M[\"delWeeklySales\"]/df2018M[\"weeklySpend\"]"
   ]
  },
  {
   "cell_type": "code",
   "execution_count": null,
   "metadata": {},
   "outputs": [],
   "source": [
    "df2018M.shape #check shape, should be 151 rows"
   ]
  },
  {
   "cell_type": "code",
   "execution_count": null,
   "metadata": {},
   "outputs": [],
   "source": [
    "df2018M.to_csv(\"df2018M.csv\")"
   ]
  },
  {
   "cell_type": "code",
   "execution_count": null,
   "metadata": {},
   "outputs": [],
   "source": [
    "# def calcdelSales(df):\n",
    "#     #df is grouped by UPC\n",
    "#     weeklyDelSales = df.iloc[1][\"weeklySales\"] - df.iloc[0][\"weeklySales\"]\n",
    "#     weeklyROI = weeklyDelSales/(df.iloc[1][\"weeklySpend\"])\n",
    "#     return weeklyDelSales, weeklyROI "
   ]
  },
  {
   "cell_type": "code",
   "execution_count": null,
   "metadata": {},
   "outputs": [],
   "source": [
    "# 4/8/2019\n",
    "#do ridge regression (linear regression) on the dataset\n",
    "\n",
    "from sklearn.linear_model import Ridge\n"
   ]
  },
  {
   "cell_type": "code",
   "execution_count": null,
   "metadata": {},
   "outputs": [],
   "source": [
    "np.arange(18,27)"
   ]
  },
  {
   "cell_type": "code",
   "execution_count": null,
   "metadata": {},
   "outputs": [],
   "source": []
  },
  {
   "cell_type": "code",
   "execution_count": null,
   "metadata": {},
   "outputs": [],
   "source": [
    "# attach a few more month of data \n",
    "# \n",
    "YearWkNumdf2 # this needs to include weeks before 27 (the start of the campign)\n",
    "#then make sure all Sales SLice has those , then merge with campaign, then run ridge reg"
   ]
  },
  {
   "cell_type": "code",
   "execution_count": null,
   "metadata": {},
   "outputs": [],
   "source": []
  }
 ],
 "metadata": {
  "kernelspec": {
   "display_name": "Python 3",
   "language": "python",
   "name": "python3"
  },
  "language_info": {
   "codemirror_mode": {
    "name": "ipython",
    "version": 3
   },
   "file_extension": ".py",
   "mimetype": "text/x-python",
   "name": "python",
   "nbconvert_exporter": "python",
   "pygments_lexer": "ipython3",
   "version": "3.6.8"
  }
 },
 "nbformat": 4,
 "nbformat_minor": 2
}
