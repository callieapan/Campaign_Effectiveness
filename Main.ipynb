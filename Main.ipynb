{
 "cells": [
  {
   "cell_type": "code",
   "execution_count": 1,
   "metadata": {},
   "outputs": [],
   "source": [
    "import numpy as np\n",
    "import pandas as pd\n",
    "import matplotlib.pyplot as plt"
   ]
  },
  {
   "cell_type": "markdown",
   "metadata": {},
   "source": [
    "Data Ingest and Cleaning"
   ]
  },
  {
   "cell_type": "code",
   "execution_count": 2,
   "metadata": {},
   "outputs": [
    {
     "name": "stderr",
     "output_type": "stream",
     "text": [
      "/anaconda3/lib/python3.6/site-packages/IPython/core/interactiveshell.py:2785: DtypeWarning: Columns (14) have mixed types. Specify dtype option on import or set low_memory=False.\n",
      "  interactivity=interactivity, compiler=compiler, result=result)\n"
     ]
    }
   ],
   "source": [
    "#Data Ingest and Cleaning\n",
    "#read general sales file\n",
    "#set data types and clean \n",
    "Omphalos_Sales = pd.read_csv(\"Omphalos_Sales_2017-2018.csv\", encoding = \"ISO-8859-1\")\n",
    "\n",
    "dropInd=Omphalos_Sales[Omphalos_Sales['UPC']=='Filler'].index\n",
    "Omphalos_Sales.drop(index = dropInd, inplace=True)\n",
    "Omphalos_Sales[\"UPC\"] = Omphalos_Sales[\"UPC\"].astype(float).astype(int)\n",
    "#Omphalos_Sales[\"UPC\"] = Omphalos_Sales[\"UPC\"].astype(np.int64)\n",
    "Omphalos_Sales[\"Wk End\"] = pd.to_datetime(Omphalos_Sales['Wk End'], infer_datetime_format=True)\n",
    "\n",
    "Omphalos_Sales[\"YEAR\"] = Omphalos_Sales[\"Wk End\"].dt.year\n",
    "Omphalos_Sales[\"WeekNum\"] = Omphalos_Sales[\"Wk End\"].dt.week\n",
    "Omphalos_Sales[\"YEARWeekNum\"] = Omphalos_Sales[\"YEAR\"].astype(str)+\"-\"+Omphalos_Sales[\"WeekNum\"].astype(str)"
   ]
  },
  {
   "cell_type": "code",
   "execution_count": 3,
   "metadata": {},
   "outputs": [
    {
     "data": {
      "text/plain": [
       "UPC            0\n",
       "Gross Sales    0\n",
       "YEAR           0\n",
       "WeekNum        0\n",
       "YEARWeekNum    0\n",
       "dtype: int64"
      ]
     },
     "execution_count": 3,
     "metadata": {},
     "output_type": "execute_result"
    }
   ],
   "source": [
    "#Use lighter dataframe and fill na\n",
    "OSalesLt = Omphalos_Sales[[\"UPC\",\"Gross Sales\",\"YEAR\", \"WeekNum\", \"YEARWeekNum\"]].copy()\n",
    "OSalesLt.fillna(0, inplace = True)\n",
    "\n",
    "#check that there are no 0 values\n",
    "OSalesLt.isnull().sum()"
   ]
  },
  {
   "cell_type": "code",
   "execution_count": 4,
   "metadata": {},
   "outputs": [],
   "source": [
    "#Ingest advertistement campaign data\n",
    "OmphalosCamp = pd.read_csv(\"Omphalos_PM_Tonic_Wrap_Up_Report_4.1.19.csv\", encoding = \"ISO-8859-1\")\n",
    "\n",
    "OmphalosCamp.rename(columns = {' Spend ': 'Spend'}, inplace=True)\n",
    "OmphalosCamp[\"UPC\"] = OmphalosCamp[\"UPC\"].astype(np.int64)\n",
    "OmphalosCamp[\"Date\"] = pd.to_datetime(OmphalosCamp['Date'], infer_datetime_format=True)\n",
    "\n",
    "OmphalosCamp[\"YEAR\"] = OmphalosCamp[\"Date\"].dt.year\n",
    "OmphalosCamp[\"WeekNum\"] = OmphalosCamp[\"Date\"].dt.week\n",
    "OmphalosCamp[\"YEARWeekNum\"] = OmphalosCamp[\"YEAR\"].astype(str)+\"-\"+OmphalosCamp[\"WeekNum\"].astype(str)\n",
    "OmphalosCampLt = OmphalosCamp.drop(columns=['Account Id', 'Account Name', 'Campaign Id', 'Campaign Name', 'Date',\n",
    "                        'TCIN Name', 'Impressions', 'Clicks']).copy()"
   ]
  },
  {
   "cell_type": "code",
   "execution_count": 5,
   "metadata": {},
   "outputs": [],
   "source": [
    "#createvariables for campaign year and campaign weeks\n",
    "campYear = 2018\n",
    "campWeeks = np.sort(OmphalosCamp[\"WeekNum\"].unique())"
   ]
  },
  {
   "cell_type": "code",
   "execution_count": 6,
   "metadata": {},
   "outputs": [
    {
     "data": {
      "text/plain": [
       "'\\n##Additional Cleaning ##\\n\\n#since there are some UPC with multiple TCINs, merge those spends for the single UPC\\n\\nUPCtoTCIN = OmphalosCamp.groupby([\"UPC\",\"TCIN\"])[\"Account Id\"].count().reset_index().groupby([\"UPC\"])[\"TCIN\"].count()\\n\\n# spot check that the 1  UPC to many TCIN cases\\nUPCtoTCIN[UPCtoTCIN>1]\\n\\n\\n# check one UPC and the multiple TCINs that is linked to it\\nprint(OmphalosCamp[OmphalosCamp[\"UPC\"]==818094000000.0][\"TCIN\"].unique())\\n\\n# check if the two products are similar\\nOmphalosCamp[OmphalosCamp[\"TCIN\"]==12958487].head(1) #the first two TCINs for UPC 818094000000\\n\\nOmphalosCamp[OmphalosCamp[\"TCIN\"]==14771376].head(1) #there are similar product but slightly different\\n\\n'"
      ]
     },
     "execution_count": 6,
     "metadata": {},
     "output_type": "execute_result"
    }
   ],
   "source": [
    "'''\n",
    "##Additional Cleaning ##\n",
    "\n",
    "#since there are some UPC with multiple TCINs, merge those spends for the single UPC\n",
    "\n",
    "UPCtoTCIN = OmphalosCamp.groupby([\"UPC\",\"TCIN\"])[\"Account Id\"].count().reset_index().groupby([\"UPC\"])[\"TCIN\"].count()\n",
    "\n",
    "# spot check that the 1  UPC to many TCIN cases\n",
    "UPCtoTCIN[UPCtoTCIN>1]\n",
    "\n",
    "\n",
    "# check one UPC and the multiple TCINs that is linked to it\n",
    "print(OmphalosCamp[OmphalosCamp[\"UPC\"]==818094000000.0][\"TCIN\"].unique())\n",
    "\n",
    "# check if the two products are similar\n",
    "OmphalosCamp[OmphalosCamp[\"TCIN\"]==12958487].head(1) #the first two TCINs for UPC 818094000000\n",
    "\n",
    "OmphalosCamp[OmphalosCamp[\"TCIN\"]==14771376].head(1) #there are similar product but slightly different\n",
    "\n",
    "'''"
   ]
  },
  {
   "cell_type": "code",
   "execution_count": 7,
   "metadata": {},
   "outputs": [],
   "source": [
    "#roll the Campaign data into weekly periods so it matches with the time series frequency of Omphalos Sales data\n",
    "#also the one UPC to many TCIN cases,  those spend will be summed to the single UPC\n",
    "\n",
    "OCWeekly = OmphalosCampLt.groupby([\"UPC\", \"YEAR\", \"WeekNum\", \"YEARWeekNum\"], as_index=False)[\"Spend\"].sum()"
   ]
  },
  {
   "cell_type": "code",
   "execution_count": 8,
   "metadata": {},
   "outputs": [],
   "source": [
    "#check OSalesLt for top 3 products for few weeks before and after campaign\n",
    "top20UPC = [30000064412,12000809941,28400642033,12000504044,30000060834,12000809965,28400639552,30000061190,\n",
    "30000010402,28400011099,30000169018,52000010978,12000171864,30000562529,30000261927,30000311820,52000010886,\n",
    "12000809972,52000340242,30000012000]"
   ]
  },
  {
   "cell_type": "code",
   "execution_count": 9,
   "metadata": {},
   "outputs": [
    {
     "data": {
      "text/html": [
       "<div>\n",
       "<style scoped>\n",
       "    .dataframe tbody tr th:only-of-type {\n",
       "        vertical-align: middle;\n",
       "    }\n",
       "\n",
       "    .dataframe tbody tr th {\n",
       "        vertical-align: top;\n",
       "    }\n",
       "\n",
       "    .dataframe thead th {\n",
       "        text-align: right;\n",
       "    }\n",
       "</style>\n",
       "<table border=\"1\" class=\"dataframe\">\n",
       "  <thead>\n",
       "    <tr style=\"text-align: right;\">\n",
       "      <th></th>\n",
       "      <th>Gross Sales</th>\n",
       "    </tr>\n",
       "    <tr>\n",
       "      <th>UPC</th>\n",
       "      <th></th>\n",
       "    </tr>\n",
       "  </thead>\n",
       "  <tbody>\n",
       "    <tr>\n",
       "      <th>12000171864</th>\n",
       "      <td>2590.91</td>\n",
       "    </tr>\n",
       "    <tr>\n",
       "      <th>12000504044</th>\n",
       "      <td>6980.94</td>\n",
       "    </tr>\n",
       "    <tr>\n",
       "      <th>12000809941</th>\n",
       "      <td>4710.45</td>\n",
       "    </tr>\n",
       "    <tr>\n",
       "      <th>12000809965</th>\n",
       "      <td>3500.91</td>\n",
       "    </tr>\n",
       "    <tr>\n",
       "      <th>12000809972</th>\n",
       "      <td>2011.97</td>\n",
       "    </tr>\n",
       "    <tr>\n",
       "      <th>28400011099</th>\n",
       "      <td>5262.54</td>\n",
       "    </tr>\n",
       "    <tr>\n",
       "      <th>28400639552</th>\n",
       "      <td>8056.15</td>\n",
       "    </tr>\n",
       "    <tr>\n",
       "      <th>28400642033</th>\n",
       "      <td>7916.42</td>\n",
       "    </tr>\n",
       "    <tr>\n",
       "      <th>30000010402</th>\n",
       "      <td>6344.40</td>\n",
       "    </tr>\n",
       "    <tr>\n",
       "      <th>30000012000</th>\n",
       "      <td>3037.69</td>\n",
       "    </tr>\n",
       "    <tr>\n",
       "      <th>30000060834</th>\n",
       "      <td>9914.44</td>\n",
       "    </tr>\n",
       "    <tr>\n",
       "      <th>30000061190</th>\n",
       "      <td>6940.62</td>\n",
       "    </tr>\n",
       "    <tr>\n",
       "      <th>30000064412</th>\n",
       "      <td>11947.97</td>\n",
       "    </tr>\n",
       "    <tr>\n",
       "      <th>30000169018</th>\n",
       "      <td>5737.86</td>\n",
       "    </tr>\n",
       "    <tr>\n",
       "      <th>30000261927</th>\n",
       "      <td>7211.20</td>\n",
       "    </tr>\n",
       "    <tr>\n",
       "      <th>30000311820</th>\n",
       "      <td>4611.79</td>\n",
       "    </tr>\n",
       "    <tr>\n",
       "      <th>30000562529</th>\n",
       "      <td>3946.87</td>\n",
       "    </tr>\n",
       "    <tr>\n",
       "      <th>52000010886</th>\n",
       "      <td>7424.49</td>\n",
       "    </tr>\n",
       "    <tr>\n",
       "      <th>52000010978</th>\n",
       "      <td>6709.41</td>\n",
       "    </tr>\n",
       "    <tr>\n",
       "      <th>52000340242</th>\n",
       "      <td>5231.94</td>\n",
       "    </tr>\n",
       "  </tbody>\n",
       "</table>\n",
       "</div>"
      ],
      "text/plain": [
       "             Gross Sales\n",
       "UPC                     \n",
       "12000171864      2590.91\n",
       "12000504044      6980.94\n",
       "12000809941      4710.45\n",
       "12000809965      3500.91\n",
       "12000809972      2011.97\n",
       "28400011099      5262.54\n",
       "28400639552      8056.15\n",
       "28400642033      7916.42\n",
       "30000010402      6344.40\n",
       "30000012000      3037.69\n",
       "30000060834      9914.44\n",
       "30000061190      6940.62\n",
       "30000064412     11947.97\n",
       "30000169018      5737.86\n",
       "30000261927      7211.20\n",
       "30000311820      4611.79\n",
       "30000562529      3946.87\n",
       "52000010886      7424.49\n",
       "52000010978      6709.41\n",
       "52000340242      5231.94"
      ]
     },
     "execution_count": 9,
     "metadata": {},
     "output_type": "execute_result"
    }
   ],
   "source": [
    "#check that there is sales for top 20 UPCS in 2018 for weeks 18 10 26 (2 months before campaign)\n",
    "OSalesLt[OSalesLt[\"UPC\"].isin(top20UPC) & OSalesLt[\"YEAR\"].isin([2018]) & OSalesLt[\"WeekNum\"].isin(np.arange(18,27)) ]\\\n",
    "        .groupby(\"UPC\").agg({\"Gross Sales\": \"sum\"})\n",
    "#confirmed that's true"
   ]
  },
  {
   "cell_type": "code",
   "execution_count": 10,
   "metadata": {},
   "outputs": [
    {
     "data": {
      "text/html": [
       "<div>\n",
       "<style scoped>\n",
       "    .dataframe tbody tr th:only-of-type {\n",
       "        vertical-align: middle;\n",
       "    }\n",
       "\n",
       "    .dataframe tbody tr th {\n",
       "        vertical-align: top;\n",
       "    }\n",
       "\n",
       "    .dataframe thead th {\n",
       "        text-align: right;\n",
       "    }\n",
       "</style>\n",
       "<table border=\"1\" class=\"dataframe\">\n",
       "  <thead>\n",
       "    <tr style=\"text-align: right;\">\n",
       "      <th></th>\n",
       "      <th>Gross Sales</th>\n",
       "    </tr>\n",
       "    <tr>\n",
       "      <th>UPC</th>\n",
       "      <th></th>\n",
       "    </tr>\n",
       "  </thead>\n",
       "  <tbody>\n",
       "    <tr>\n",
       "      <th>12000171864</th>\n",
       "      <td>11034.50</td>\n",
       "    </tr>\n",
       "    <tr>\n",
       "      <th>12000504044</th>\n",
       "      <td>13403.87</td>\n",
       "    </tr>\n",
       "    <tr>\n",
       "      <th>12000809941</th>\n",
       "      <td>18840.16</td>\n",
       "    </tr>\n",
       "    <tr>\n",
       "      <th>12000809965</th>\n",
       "      <td>14432.91</td>\n",
       "    </tr>\n",
       "    <tr>\n",
       "      <th>12000809972</th>\n",
       "      <td>9249.17</td>\n",
       "    </tr>\n",
       "    <tr>\n",
       "      <th>28400011099</th>\n",
       "      <td>7744.84</td>\n",
       "    </tr>\n",
       "    <tr>\n",
       "      <th>28400639552</th>\n",
       "      <td>9361.11</td>\n",
       "    </tr>\n",
       "    <tr>\n",
       "      <th>28400642033</th>\n",
       "      <td>12727.33</td>\n",
       "    </tr>\n",
       "    <tr>\n",
       "      <th>30000010402</th>\n",
       "      <td>10180.76</td>\n",
       "    </tr>\n",
       "    <tr>\n",
       "      <th>30000012000</th>\n",
       "      <td>7262.56</td>\n",
       "    </tr>\n",
       "    <tr>\n",
       "      <th>30000060834</th>\n",
       "      <td>13209.41</td>\n",
       "    </tr>\n",
       "    <tr>\n",
       "      <th>30000061190</th>\n",
       "      <td>13699.95</td>\n",
       "    </tr>\n",
       "    <tr>\n",
       "      <th>30000064412</th>\n",
       "      <td>13676.20</td>\n",
       "    </tr>\n",
       "    <tr>\n",
       "      <th>30000169018</th>\n",
       "      <td>7752.32</td>\n",
       "    </tr>\n",
       "    <tr>\n",
       "      <th>30000261927</th>\n",
       "      <td>7892.49</td>\n",
       "    </tr>\n",
       "    <tr>\n",
       "      <th>30000311820</th>\n",
       "      <td>2897.50</td>\n",
       "    </tr>\n",
       "    <tr>\n",
       "      <th>30000562529</th>\n",
       "      <td>5863.07</td>\n",
       "    </tr>\n",
       "    <tr>\n",
       "      <th>52000010886</th>\n",
       "      <td>0.00</td>\n",
       "    </tr>\n",
       "    <tr>\n",
       "      <th>52000010978</th>\n",
       "      <td>0.00</td>\n",
       "    </tr>\n",
       "    <tr>\n",
       "      <th>52000340242</th>\n",
       "      <td>1758.35</td>\n",
       "    </tr>\n",
       "  </tbody>\n",
       "</table>\n",
       "</div>"
      ],
      "text/plain": [
       "             Gross Sales\n",
       "UPC                     \n",
       "12000171864     11034.50\n",
       "12000504044     13403.87\n",
       "12000809941     18840.16\n",
       "12000809965     14432.91\n",
       "12000809972      9249.17\n",
       "28400011099      7744.84\n",
       "28400639552      9361.11\n",
       "28400642033     12727.33\n",
       "30000010402     10180.76\n",
       "30000012000      7262.56\n",
       "30000060834     13209.41\n",
       "30000061190     13699.95\n",
       "30000064412     13676.20\n",
       "30000169018      7752.32\n",
       "30000261927      7892.49\n",
       "30000311820      2897.50\n",
       "30000562529      5863.07\n",
       "52000010886         0.00\n",
       "52000010978         0.00\n",
       "52000340242      1758.35"
      ]
     },
     "execution_count": 10,
     "metadata": {},
     "output_type": "execute_result"
    }
   ],
   "source": [
    "#check that there is sales for top 20UPCS in 2018 for weeks 45 to 52 (2 months after campaign)\n",
    "OSalesLt[OSalesLt[\"UPC\"].isin(top20UPC) & OSalesLt[\"YEAR\"].isin([2018]) & OSalesLt[\"WeekNum\"].isin(np.arange(45,53)) ]\\\n",
    "        .groupby(\"UPC\").agg({\"Gross Sales\": \"sum\"})\n",
    "#confirmed that most have sales, except 2 UPCs"
   ]
  },
  {
   "cell_type": "code",
   "execution_count": 11,
   "metadata": {},
   "outputs": [
    {
     "data": {
      "text/plain": [
       "array([18, 19, 20, 21, 22, 23, 24, 25, 26, 27, 28, 29, 30, 31, 32, 33, 34,\n",
       "       35, 36, 37, 38, 39, 40, 41, 42, 43, 44, 45, 46, 47, 48, 49, 50, 51,\n",
       "       52])"
      ]
     },
     "execution_count": 11,
     "metadata": {},
     "output_type": "execute_result"
    }
   ],
   "source": [
    "#For the linear regression, we inclued all weeks 18 to 52 (\"sandwich\" campaign weeks 27 - 44)\n",
    "weeksList = np.arange(18,53)\n",
    "weeksList"
   ]
  },
  {
   "cell_type": "code",
   "execution_count": 12,
   "metadata": {},
   "outputs": [
    {
     "data": {
      "text/plain": [
       "array([27, 28, 29, 30, 31, 32, 33, 34, 35, 36, 37, 38, 39, 40, 41, 42, 43,\n",
       "       44])"
      ]
     },
     "execution_count": 12,
     "metadata": {},
     "output_type": "execute_result"
    }
   ],
   "source": [
    "campWeeks #these are the weeks when campaign was active"
   ]
  },
  {
   "cell_type": "code",
   "execution_count": 13,
   "metadata": {},
   "outputs": [],
   "source": [
    "#make YearWkNumdf\n",
    "\n",
    "YearWkNum18 = list(map(lambda x: \"2018-\"+str(x),weeksList))\n",
    "YearWkNumdf = pd.DataFrame({\"YEAR\": [2018]*35, \"WeekNum\": list(weeksList),\n",
    "                            \"YEARWeekNum\":YearWkNum18})"
   ]
  },
  {
   "cell_type": "code",
   "execution_count": 14,
   "metadata": {},
   "outputs": [],
   "source": [
    "#check that all Omphalos Campaign UPC  is in sales\n",
    "#there are actually soome Campaign UPCs that are msising from sales UPCs\n",
    "SalesUPC = set(OSalesLt.UPC.unique())"
   ]
  },
  {
   "cell_type": "code",
   "execution_count": 15,
   "metadata": {},
   "outputs": [],
   "source": [
    "CampUPC = set(OCWeekly.UPC.unique())"
   ]
  },
  {
   "cell_type": "code",
   "execution_count": 16,
   "metadata": {},
   "outputs": [
    {
     "data": {
      "text/plain": [
       "{28400154406,\n",
       " 28400154437,\n",
       " 28400154550,\n",
       " 28400154659,\n",
       " 28400155861,\n",
       " 28400655927,\n",
       " 30000018804,\n",
       " 493000000000}"
      ]
     },
     "execution_count": 16,
     "metadata": {},
     "output_type": "execute_result"
    }
   ],
   "source": [
    "CampUPC - SalesUPC \n",
    "#these are the UPCs that are missing from Sales file \n",
    "#check if they have large revenue later"
   ]
  },
  {
   "cell_type": "code",
   "execution_count": 17,
   "metadata": {},
   "outputs": [
    {
     "name": "stdout",
     "output_type": "stream",
     "text": [
      "<class 'set'>\n",
      "165\n"
     ]
    }
   ],
   "source": [
    "joinUPC = CampUPC & SalesUPC #there are 163 UPCs in both files\n",
    "print(type(joinUPC))\n",
    "print(len(joinUPC))"
   ]
  },
  {
   "cell_type": "code",
   "execution_count": 18,
   "metadata": {},
   "outputs": [],
   "source": [
    "#checkpoint copy DF\n",
    "#OCWeeklyold = OCWeekly.copy() #for checkpoint"
   ]
  },
  {
   "cell_type": "code",
   "execution_count": 19,
   "metadata": {},
   "outputs": [],
   "source": [
    "#make sure each UPC has rows for each Week in weekList\n",
    "#fill in the weeks that have no data with 0 sales and 0 spend\n",
    "def mergeYWN(df):\n",
    "    #each df is of a single UPC df\n",
    "    df2 = df.merge(YearWkNumdf, how = \"right\", left_on=\"YEARWeekNum\", right_on=\"YEARWeekNum\")\n",
    "    return df2"
   ]
  },
  {
   "cell_type": "code",
   "execution_count": 20,
   "metadata": {},
   "outputs": [],
   "source": [
    "SalesSlicedf = OSalesLt.groupby([\"UPC\"]).apply(mergeYWN)"
   ]
  },
  {
   "cell_type": "code",
   "execution_count": 21,
   "metadata": {},
   "outputs": [
    {
     "data": {
      "text/plain": [
       "(38462, 7)"
      ]
     },
     "execution_count": 21,
     "metadata": {},
     "output_type": "execute_result"
    }
   ],
   "source": [
    "SalesSlicedf.shape #check that shape is correct, should be OSalesLt unique UPC * num weeks in YearWeekNumdf"
   ]
  },
  {
   "cell_type": "code",
   "execution_count": 22,
   "metadata": {},
   "outputs": [],
   "source": [
    "#fill in the missing rows\n",
    "SalesSlicedf.drop(columns = [\"UPC\",\"YEAR_x\", \"WeekNum_x\"], inplace = True) #drop the extra UPC columns that has null values\n",
    "SalesSlicedf.reset_index(inplace = True) #reset index so true UPC is acolumns\n",
    "SalesSlicedf.drop(columns = [\"level_1\"], inplace = True) #drop extra column\n",
    "\n",
    "#fillnas Sales with 0\n",
    "SalesSlicedf[\"Gross Sales\"].fillna(0, inplace = True)\n",
    "\n",
    "\n",
    "SalesSlicedf.rename(columns={\"YEAR_y\": \"YEAR\", \"WeekNum_y\": \"WeekNum\"}, inplace=True)"
   ]
  },
  {
   "cell_type": "code",
   "execution_count": 23,
   "metadata": {},
   "outputs": [],
   "source": [
    "#merge OCWeekly with all the YEARWeekNumdf\n",
    "OCWeeklyFull = OCWeekly.groupby([\"UPC\"]).apply(mergeYWN)\n",
    "\n",
    "#do the same reorg as SalesSlicedf\n",
    "OCWeeklyFull.drop(columns = [\"UPC\",\"YEAR_x\", \"WeekNum_x\"], inplace = True) #drop the extra UPC columns that has null values\n",
    "OCWeeklyFull.reset_index(inplace = True) #reset index so true UPC is acolumns\n",
    "OCWeeklyFull.drop(columns = [\"level_1\"], inplace = True) #drop extra column\n",
    "OCWeeklyFull[\"Spend\"].fillna(0, inplace = True)\n",
    "\n",
    "OCWeeklyFull.rename(columns={\"YEAR_y\": \"YEAR\", \"WeekNum_y\": \"WeekNum\"}, inplace=True)"
   ]
  },
  {
   "cell_type": "code",
   "execution_count": 24,
   "metadata": {},
   "outputs": [],
   "source": [
    "#merge campaign and sales data for week 18 to 52 \n",
    "Omerge = OCWeeklyFull.merge(SalesSlicedf, how =\"inner\", left_on = [\"UPC\", \"YEARWeekNum\"], right_on = [\"UPC\", \"YEARWeekNum\"])"
   ]
  },
  {
   "cell_type": "code",
   "execution_count": 25,
   "metadata": {},
   "outputs": [],
   "source": [
    "Omerge.drop(columns=[\"YEAR_x\", \"WeekNum_x\"], inplace=True)\n",
    "\n",
    "Omerge.rename(columns={\"YEAR_y\": \"YEAR\", \"WeekNum_y\": \"WeekNum\"}, inplace=True)"
   ]
  },
  {
   "cell_type": "markdown",
   "metadata": {},
   "source": [
    "Analysis"
   ]
  },
  {
   "cell_type": "code",
   "execution_count": 26,
   "metadata": {},
   "outputs": [
    {
     "data": {
      "text/plain": [
       "'\\n##Side-by-side Analysis##\\n#for side by side analysis between 2017 and 2018 campsign weeks. This approach was \\n#found unviable later because of the sparisty of sales in 2017\\n\\ndef sidetoside(df):\\n    #each df is by individual UPC\\n    df2017 = df[df[\"YEAR\"].isin([2017])].copy()\\n    df2017.rename(columns={\"Spend\": \"2017Spend\", \"Gross Sales\": \"2017 Sales\"}, inplace= True)\\n    df2018= df[df[\"YEAR\"].isin([2018])].copy()\\n    df2018.rename(columns={\"Spend\": \"2018Spend\", \"Gross Sales\": \"2018 Sales\"}, inplace= True)\\n    result = df2017.merge(df2018, how=\"inner\", left_on=\"WeekNum\", right_on=\"WeekNum\")\\n    return result\\n\\n\\nTS2S = Omerge.groupby([\"UPC\"]).apply(sidetoside)\\nTS2S.reset_index(inplace=True)\\n\\nTS2S.drop(columns=[\\'level_1\\', \\'UPC_x\\',\\'YEARWeekNum_x\\',\\'YEAR_x\\',\\'UPC_y\\', \\'YEARWeekNum_y\\',\\'YEAR_y\\'], inplace=True)\\nTS2S.to_csv(\"TS2S.csv\")\\nTS2StoOSales = TS2S.groupby([\"UPC\"], as_index=False)[\"2018 Sales\"].sum()\\n\\nTS2StoOSales.sort_values(by = [\"2018 Sales\"], ascending=False, inplace=True)\\n\\ntop20UPC = list(TS2StoOSales[\"UPC\"][:20])\\n\\nTS2Stop = TS2S[TS2S[\"UPC\"].isin(top20UPC)]\\n\\n\\n##output to csv\\n#TS2Stop.to_csv(\"TS2Stop.csv\")\\n\\n'"
      ]
     },
     "execution_count": 26,
     "metadata": {},
     "output_type": "execute_result"
    }
   ],
   "source": [
    "'''\n",
    "##Side-by-side Analysis##\n",
    "#for side by side analysis between 2017 and 2018 campsign weeks. This approach was \n",
    "#found unviable later because of the sparisty of sales in 2017\n",
    "\n",
    "def sidetoside(df):\n",
    "    #each df is by individual UPC\n",
    "    df2017 = df[df[\"YEAR\"].isin([2017])].copy()\n",
    "    df2017.rename(columns={\"Spend\": \"2017Spend\", \"Gross Sales\": \"2017 Sales\"}, inplace= True)\n",
    "    df2018= df[df[\"YEAR\"].isin([2018])].copy()\n",
    "    df2018.rename(columns={\"Spend\": \"2018Spend\", \"Gross Sales\": \"2018 Sales\"}, inplace= True)\n",
    "    result = df2017.merge(df2018, how=\"inner\", left_on=\"WeekNum\", right_on=\"WeekNum\")\n",
    "    return result\n",
    "\n",
    "\n",
    "TS2S = Omerge.groupby([\"UPC\"]).apply(sidetoside)\n",
    "TS2S.reset_index(inplace=True)\n",
    "\n",
    "TS2S.drop(columns=['level_1', 'UPC_x','YEARWeekNum_x','YEAR_x','UPC_y', 'YEARWeekNum_y','YEAR_y'], inplace=True)\n",
    "TS2S.to_csv(\"TS2S.csv\")\n",
    "TS2StoOSales = TS2S.groupby([\"UPC\"], as_index=False)[\"2018 Sales\"].sum()\n",
    "\n",
    "TS2StoOSales.sort_values(by = [\"2018 Sales\"], ascending=False, inplace=True)\n",
    "\n",
    "top20UPC = list(TS2StoOSales[\"UPC\"][:20])\n",
    "\n",
    "TS2Stop = TS2S[TS2S[\"UPC\"].isin(top20UPC)]\n",
    "\n",
    "\n",
    "##output to csv\n",
    "#TS2Stop.to_csv(\"TS2Stop.csv\")\n",
    "\n",
    "'''\n"
   ]
  },
  {
   "cell_type": "code",
   "execution_count": 27,
   "metadata": {},
   "outputs": [
    {
     "data": {
      "text/plain": [
       "'\\n##Iterate to Same-Year Analysis##\\nChecking delta Sales vs. campaign spend for the weeks that the campaign was on\\n\\ndf2018 = Omerge2018.groupby([\"UPC\", \"Spend>0\"], as_index=False).agg({\"WeekNum\":\"count\", \"Spend\": \"sum\", \"Gross Sales\": \"sum\"})\\ndf2018.rename(columns={\"WeekNum\": \"WeekNumCnt\", \"Spend\": \"totSpend\", \"Gross Sales\": \"toOSales\"}, inplace=True)\\n\\ndf2018[\"weeklySales\"]=df2018[\"toOSales\"]/df2018[\"WeekNumCnt\"]\\ndf2018[\"weeklySpend\"]=df2018[\"totSpend\"]/df2018[\"WeekNumCnt\"]\\n\\n#first check if there are any no spend that did not have any sales\\ndf2018[df2018[\"toOSales\"]==0]\\n\\ndf2018zeroSales = df2018[df2018[\"toOSales\"]==0].copy() #these will be removed from the table\\n\\ndf2018.drop(df2018[df2018[\"toOSales\"]==0].index, inplace=True) #drop the no sales UPCs\\n\\ncheckmiss=df2018.groupby([\"UPC\"])[\"Spend>0\"].count()<2\\n\\noneRowUPC = list(checkmiss[checkmiss].index)\\n\\ndf2018noZeroSales = df2018[df2018[\"UPC\"].isin(oneRowUPC)].copy() \\n# these only have weeks that have sales\\n\\ndf2018.drop(df2018[df2018[\"UPC\"].isin(oneRowUPC)].index, inplace=True) #drop the no sales UPCs\\ncheckmiss2=df2018.groupby([\"UPC\"])[\"Spend>0\"].count()<2\\ncheckmiss2[checkmiss2] #checked that all have been droped\\ndf2018.sort_values(by=[\"UPC\", \"Spend>0\"], inplace = True)\\n\\n# #split and merge\\ndf2018left = df2018[df2018[\"Spend>0\"]==0].copy()\\n\\ndf2018left.drop(columns=[\"Spend>0\", \"totSpend\", \"weeklySpend\"], inplace = True)\\n\\ndf2018left.rename(columns={\"WeekNumCnt\": \"noSpendWeekCnt\", \"toOSales\":\"noSpendtoOSales\", \\n                    \"weeklySales\": \"noSpendweeklySales\"}, inplace = True)\\n\\ndf2018right = df2018[df2018[\"Spend>0\"]==1].copy()\\n\\ndf2018right.rename(columns={\"WeekNumCnt\": \"SpendWeekCnt\", \"toOSales\":\"SpendtoOSales\", \\n                   \"weeklySales\": \"SpendweeklySales\"}, inplace = True)\\ndf2018right.drop(columns=[\"Spend>0\"], inplace=True)\\n\\ndf2018M = df2018left.merge(df2018right, how = \"outer\", left_on=[\"UPC\"], right_on =[\"UPC\"])\\n\\ndf2018M[\"delWeeklySales\"] = df2018M[\"SpendweeklySales\"]-df2018M[\"noSpendweeklySales\"]\\ndf2018M[\"weeklyROI\"] = df2018M[\"delWeeklySales\"]/df2018M[\"weeklySpend\"]\\n\\n#save this table\\n#df2018M.to_csv(\"df2018M.csv\")\\n\\n\\n'"
      ]
     },
     "execution_count": 27,
     "metadata": {},
     "output_type": "execute_result"
    }
   ],
   "source": [
    "'''\n",
    "##Iterate to Same-Year Analysis##\n",
    "Checking delta Sales vs. campaign spend for the weeks that the campaign was on\n",
    "\n",
    "df2018 = Omerge2018.groupby([\"UPC\", \"Spend>0\"], as_index=False).agg({\"WeekNum\":\"count\", \"Spend\": \"sum\", \"Gross Sales\": \"sum\"})\n",
    "df2018.rename(columns={\"WeekNum\": \"WeekNumCnt\", \"Spend\": \"totSpend\", \"Gross Sales\": \"toOSales\"}, inplace=True)\n",
    "\n",
    "df2018[\"weeklySales\"]=df2018[\"toOSales\"]/df2018[\"WeekNumCnt\"]\n",
    "df2018[\"weeklySpend\"]=df2018[\"totSpend\"]/df2018[\"WeekNumCnt\"]\n",
    "\n",
    "#first check if there are any no spend that did not have any sales\n",
    "df2018[df2018[\"toOSales\"]==0]\n",
    "\n",
    "df2018zeroSales = df2018[df2018[\"toOSales\"]==0].copy() #these will be removed from the table\n",
    "\n",
    "df2018.drop(df2018[df2018[\"toOSales\"]==0].index, inplace=True) #drop the no sales UPCs\n",
    "\n",
    "checkmiss=df2018.groupby([\"UPC\"])[\"Spend>0\"].count()<2\n",
    "\n",
    "oneRowUPC = list(checkmiss[checkmiss].index)\n",
    "\n",
    "df2018noZeroSales = df2018[df2018[\"UPC\"].isin(oneRowUPC)].copy() \n",
    "# these only have weeks that have sales\n",
    "\n",
    "df2018.drop(df2018[df2018[\"UPC\"].isin(oneRowUPC)].index, inplace=True) #drop the no sales UPCs\n",
    "checkmiss2=df2018.groupby([\"UPC\"])[\"Spend>0\"].count()<2\n",
    "checkmiss2[checkmiss2] #checked that all have been droped\n",
    "df2018.sort_values(by=[\"UPC\", \"Spend>0\"], inplace = True)\n",
    "\n",
    "# #split and merge\n",
    "df2018left = df2018[df2018[\"Spend>0\"]==0].copy()\n",
    "\n",
    "df2018left.drop(columns=[\"Spend>0\", \"totSpend\", \"weeklySpend\"], inplace = True)\n",
    "\n",
    "df2018left.rename(columns={\"WeekNumCnt\": \"noSpendWeekCnt\", \"toOSales\":\"noSpendtoOSales\", \n",
    "                    \"weeklySales\": \"noSpendweeklySales\"}, inplace = True)\n",
    "\n",
    "df2018right = df2018[df2018[\"Spend>0\"]==1].copy()\n",
    "\n",
    "df2018right.rename(columns={\"WeekNumCnt\": \"SpendWeekCnt\", \"toOSales\":\"SpendtoOSales\", \n",
    "                   \"weeklySales\": \"SpendweeklySales\"}, inplace = True)\n",
    "df2018right.drop(columns=[\"Spend>0\"], inplace=True)\n",
    "\n",
    "df2018M = df2018left.merge(df2018right, how = \"outer\", left_on=[\"UPC\"], right_on =[\"UPC\"])\n",
    "\n",
    "df2018M[\"delWeeklySales\"] = df2018M[\"SpendweeklySales\"]-df2018M[\"noSpendweeklySales\"]\n",
    "df2018M[\"weeklyROI\"] = df2018M[\"delWeeklySales\"]/df2018M[\"weeklySpend\"]\n",
    "\n",
    "#save this table\n",
    "#df2018M.to_csv(\"df2018M.csv\")\n",
    "\n",
    "\n",
    "'''"
   ]
  },
  {
   "cell_type": "markdown",
   "metadata": {},
   "source": [
    "Ridge Regression"
   ]
  },
  {
   "cell_type": "code",
   "execution_count": 28,
   "metadata": {},
   "outputs": [],
   "source": [
    "#use Omerge for machine learning, linear regression to find spend ROI\n",
    "from sklearn.linear_model import Ridge\n",
    "\n",
    "#crate a function to faciliate the fitting and graphing functions later\n",
    "def fitridge(df):\n",
    "    #each df is by a single UPC\n",
    "    xfields = [\"Spend\"]\n",
    "    yfields = [\"Gross Sales\"]\n",
    "    lr = Ridge(1e1).fit(df[xfields], df[yfields])\n",
    "    return lr.coef_[0][0]"
   ]
  },
  {
   "cell_type": "code",
   "execution_count": 29,
   "metadata": {},
   "outputs": [],
   "source": [
    "#find ROI by UPC\n",
    "SpendCoefbyUPC = Omerge.groupby([\"UPC\"]).apply(fitridge)\n",
    "\n",
    "CoefbyUPCdf = pd.DataFrame(SpendCoefbyUPC, columns=[\"SpendCoef\"])\n",
    "\n",
    "toOSales=Omerge.groupby([\"UPC\"])[\"Gross Sales\"].sum()\n",
    "\n",
    "#append total sales and brand name\n",
    "dftoOSales = pd.DataFrame({\"toOSalesWk18-52\":toOSales})\n",
    "\n",
    "infobyUPCdf=Omphalos_Sales.groupby([\"UPC\", \"BU\", \"Brand Name\", \"UPC Title\"], as_index= False)[\"Gross Sales\"].count().copy()\n",
    "\n",
    "infobyUPCdf.set_index([\"UPC\"], inplace=True)\n",
    "\n",
    "infobyUPCdf.drop(columns=[\"Gross Sales\"], inplace = True)\n",
    "\n",
    "#merge all of them together and sort by total Sales\n",
    "dfAll = (CoefbyUPCdf.join(dftoOSales, how=\"left\")).join(infobyUPCdf, how=\"left\")\n",
    "dfAll.sort_values(by=[\"toOSalesWk18-52\"], ascending = False, inplace=True)\n",
    "\n",
    "#write output to csv file \n",
    "dfAll.to_csv(\"dfAll04082019.csv\")\n",
    "\n"
   ]
  },
  {
   "cell_type": "code",
   "execution_count": 30,
   "metadata": {},
   "outputs": [],
   "source": [
    "#Omerge only has 2018 data but just make a copy\n",
    "#Omerge2018 = Omerge[Omerge[\"YEAR\"].isin([2018])].copy()\n"
   ]
  },
  {
   "cell_type": "code",
   "execution_count": 31,
   "metadata": {},
   "outputs": [],
   "source": [
    "#merge Omerge with Brand info\n",
    "OmergeBrand = Omerge.merge(infobyUPCdf, how = \"left\", left_on =[\"UPC\"], right_on = [\"UPC\"] )\n",
    "\n",
    "#group OmergeBrand by \n",
    "OmergeBrand2 = OmergeBrand.groupby([\"Brand Name\", \"WeekNum\"], as_index = False).agg({\"Spend\":\"sum\", \"Gross Sales\":\"sum\"})"
   ]
  },
  {
   "cell_type": "code",
   "execution_count": 32,
   "metadata": {},
   "outputs": [],
   "source": [
    "#find ROI by brand using ridge regression\n",
    "SpendCoefbyBrand = OmergeBrand2.groupby([\"Brand Name\"]).apply(fitridge)\n",
    "CoefbyBranddf = pd.DataFrame(SpendCoefbyBrand, columns=[\"SpendCoef\"])\n",
    "toOSalesBrand=OmergeBrand2.groupby([\"Brand Name\"])[\"Gross Sales\"].sum()\n",
    "\n",
    "#append total sales and brand name\n",
    "dftoOSalesBrand = pd.DataFrame({\"toOSalesWk18-52\":toOSalesBrand})\n",
    "#merge the ROI with the brand information\n",
    "dfAll = CoefbyBranddf.join(dftoOSalesBrand, how=\"left\")\n",
    "\n",
    "dfAll.sort_values(by=[\"toOSalesWk18-52\"], ascending=False, inplace = True)\n",
    "\n",
    "#output to csv\n",
    "#dfAll.to_csv(\"dfAllBrand04102019.csv\")"
   ]
  },
  {
   "cell_type": "code",
   "execution_count": 33,
   "metadata": {},
   "outputs": [],
   "source": [
    "#make excel table of ROI results\n",
    "dfAllBrand = dfAll\n",
    "dfAllUPC = pd.read_csv(\"dfAll04082019.csv\")\n",
    "dfAllBrand.reset_index(inplace=True)\n",
    "#put the data side to side\n",
    "dfAllUPCBrand = dfAllUPC.merge(dfAllBrand, how = \"left\", left_on =[\"Brand Name\"], right_on =[\"Brand Name\"]) \n",
    "\n",
    "dfAllUPCBrand.rename(columns={\"SpendCoef_x\":\"UPCSpendCoef\", \"toOSalesWk18-52_x\":\"UPCtoOSalesWk18-52\",\n",
    "                      \"SpendCoef_y\":\"BrandSpendCoef\", \"toOSalesWk18-52_y\":\"BrandtoOSalesWk18-52\"}, inplace = True)\n",
    "\n",
    "#output the appended table to csv\n",
    "dfAllUPCBrand.to_csv(\"dfAllUPCBrand04102019.csv\")"
   ]
  },
  {
   "cell_type": "code",
   "execution_count": 34,
   "metadata": {},
   "outputs": [
    {
     "data": {
      "text/html": [
       "        <script type=\"text/javascript\">\n",
       "        window.PlotlyConfig = {MathJaxConfig: 'local'};\n",
       "        if (window.MathJax) {MathJax.Hub.Config({SVG: {font: \"STIX-Web\"}});}\n",
       "        if (typeof require !== 'undefined') {\n",
       "        require.undef(\"plotly\");\n",
       "        requirejs.config({\n",
       "            paths: {\n",
       "                'plotly': ['https://cdn.plot.ly/plotly-latest.min']\n",
       "            }\n",
       "        });\n",
       "        require(['plotly'], function(Plotly) {\n",
       "            window._Plotly = Plotly;\n",
       "        });\n",
       "        }\n",
       "        </script>\n",
       "        "
      ]
     },
     "metadata": {},
     "output_type": "display_data"
    }
   ],
   "source": [
    "#charting spend vs. sales\n",
    "# one set of top sales UPC and Brands\n",
    "# one set of top spend UPC and Brands\n",
    "import plotly\n",
    "import plotly.graph_objs as go\n",
    "plotly.offline.init_notebook_mode(connected = True)\n",
    "plot = plotly.offline.plot\n",
    "from plotly.offline import iplot"
   ]
  },
  {
   "cell_type": "code",
   "execution_count": 35,
   "metadata": {},
   "outputs": [
    {
     "data": {
      "application/vnd.plotly.v1+json": {
       "config": {
        "linkText": "Export to plot.ly",
        "plotlyServerURL": "https://plot.ly",
        "showLink": true
       },
       "data": [
        {
         "base": 0,
         "name": "Product ROI",
         "type": "bar",
         "width": 0.3,
         "x": [
          "Laker Overnight Oats Unsweetened With Chia Seeds Oatmeal 1.76 Ounce Plastic Tub",
          "Laker Overnight Oats Cherry Almond Vanilla Cup 2.61 Ounce",
          "Tonic SODA COLA PLASTIC BOTTLE 1 CT 67.6 OZ",
          "WILD CHERRY Tonic SODA WILD CHERRY COLA CAN IN FRIDGE PCK BX 12 CT 144 OZ",
          "Tonic SODA COLA CAN IN BOX 12 CT 144 OZ",
          "Tonic SODA COLA CAN IN FRIDGE PCK BX 12 CT 144 OZ",
          "Tonic SODA COLA PLASTIC BOTTLE 6 CT 101.4 OZ",
          "Fountain Dew SODA DEW CAN IN FRIDGE PCK BX 12 CT 144 OZ",
          "Fountain Dew THROWBACK SODA CITRUS DEW CAN IN FRIDGE PCK BX 12 CT 144 OZ",
          "Fountain Dew CODE RED SODA CHERRY CITRUS DEW CAN IN FRIDGE PCK BX 12 CT 144 OZ",
          "MUG SODA ROOT BEER CAN IN FRIDGE PCK BX 12 CT 144 OZ",
          "Propel Powder, Kiwi Strawberry, 0.84 Oz, 10 Ct",
          "PROPEL GRAPE SPORTS DRINK MIX PACKET IN BOX 10 CT .84 OZ",
          "Propel, Lemon, Water Beverage Mix with Electrolytes and Vitamins (10 Packets)",
          "Propel Zero Water Beverage Mix, 500 ML , 10 count",
          "PROPEL ZERO KIWI STRAWBERRY FITNESS WATER PLSTC WRPD PLSTC BTL 6 CT 101.4 OZ",
          "PROPEL ZERO BERRY ENHANCED WATER PLSTC WRPD PLSTC BTL 6 CT 101.4 OZ",
          "PROPEL RASPBERRY LEMONADE SPORTS DRINK MIX PACKET IN BOX 10 CT .8 OZ",
          "PROPEL ZERO GRAPE ENHANCED WATER PLSTC WRPD PLSTC BTL 6 CT 101.4 OZ",
          "Laker CORN BRAN CRUNCH CORN BRAN CRUNCH TOASTED 1 CT 10.5 OZ",
          "GATORADE PERFORM LEMON LIME SPORTS DRINK MIX CANISTER 1 CT 18.4 OZ",
          "GATORADE PERFORM FROST GLACIER FREEZE SPORTS DRINK MIX CANISTER 1 CT 51 OZ",
          "Doritos Blaze 2 X 9.75 Oz",
          "DORITOS TORTILLA CHIP NACHO CHEESE BAG 9.75 OZ",
          "Laker INSTANT OATMEAL ORIGINAL 12 CT 11.8 OZ",
          "Laker Instant Oatmeal Breakfast Cereal, Blueberries and Cream, 10 Packets",
          "Laker INSTANT OATMEAL MAPLE & BROWN SUGAR 8 CT 11.5 OZ",
          "Laker DINOSAUR EGGS INSTANT OATMEAL BROWN SUGAR 8 CT 14.1 OZ",
          "Laker LOWER SUGAR INSTANT OATMEAL VARIETY 10 CT 11.5 OZ",
          "Laker Instant Laker Oatmeal, Weight Control Variety Pack, 1.5 Oz, 8 Ct",
          "Laker INSTANT OATMEAL PUMPKIN SPICE 8 CT 12.1 OZ",
          "Laker INSTANT OATMEAL RAISIN DATE WALNUT 10 CT 13 OZ",
          "Laker QUICK OATS 100\\% WHOLE GRAIN 1 CT 18 OZ",
          "Laker INSTANT OATMEAL STRAWBERRY & CREAM 10 CT 12.3 OZ",
          "Laker INSTANT OATMEAL APPLE AND CINNAMON 10 CT 15.1 OZ",
          "Laker INSTANT OATMEAL VARIETY 10 CT 15.1 OZ",
          "Laker Simple & Wholesome Date & Almond Multigrain Hot Cereal (5 - 1.58 Ounce) 7.9 Ounce 5 Count Paper Packets",
          "Laker INSTANT OATMEAL MAPLE & BROWN SUGAR 10 CT 15.1 OZ",
          "Laker LOWER SUGAR INSTANT OATMEAL MAPLE & BROWN SUGAR 10 CT 11.9 OZ",
          "Laker INSTANT OATMEAL PEACHES & CREAM 10 CT 12.3 OZ",
          "Laker Peanut Butter & Honey Instant Oatmeal (6 - 1.55 Ounce) 9.3 Ounces 6 Count Paper Packets",
          "Laker NATURAL GRANOLA GRANOLA MIX REGULAR HONEY RASNS & ALMNDS 1 CT 28 OZ",
          "Laker Sandwich Minis Peanut Butter Filled Biscuit Bites (5 - 1.23 Ounce) 6.1 Ounce 5 Count Plastic Bags",
          "Laker NATURAL GRANOLA GRANOLA MIX HONEY OAT ALMOND 1 CT 28 OZ",
          "Laker CHEWY PNT BUTTER CHOC CHIP CHEWY 8 CT 6.7 OZ",
          "Laker CHEWY 90 CALORIES OATMEAL RAISIN CHEWY 8 CT 6.7 OZ",
          "Laker CHEWY DIPPS CHOCOLATE CHOCOLATE CHIP CHEWY 20 CT 21.8 OZ",
          "Laker Chewy Bites Cinnamon Over 4oz 4.5oz",
          "Laker CHEWY BITES CHOCOLATE CHIP 1 CT 4.5 OZ",
          "Laker CHEWY SMORE CHEWY 8 CT 6.7 OZ",
          "Laker CHEWY CHOCOLATE CHIP CHEWY 8 CT 6.7 OZ",
          "Laker BIG CHEWY CHOCOLATE ICING CHOCOLATE CHIP CHEWY 5 CT 7.4 OZ",
          "Laker CHEWY CHOCOLATE CHIP 25% LESS SUGAR CHEWY 8 CT 6.7 OZ",
          "Laker Rice Cakes, Tomato Basil, 6.1 Oz",
          "Laker RICE CAKE PLAIN REGULAR 4.47 OZ",
          "SMARTFOOD RTE POPCORN WHITE CHEDDAR CHEESE INDIVDL BGS IN PG BG 7.5 OZ",
          "SMARTFOOD RTE POPCORN MOVIE THEATER BUTTER BAG 7 OZ",
          "SMARTFOOD RTE POPCORN WHITE CHEDDAR BAG 8.5 OZ",
          "SMARTFOOD DELIGHT RTE POPCORN REGULAR SEA SALT BAG 5 OZ",
          "SMARTFOOD RTE POPCORN PARMESAN GARLIC BAG 7 OZ",
          "SMARTFOOD DELIGHT RTE POPCORN ROSEMARY OLIVE OIL BAG 5 OZ",
          "SMARTFOOD RTE POPCORN WHITE CHEDDAR BAG 10.5 OZ",
          "SMARTFOOD RTE POPCORN SPICY JALAPENO RANCH BAG 7 OZ",
          "SMARTFOOD DELIGHT RTE POPCORN WHITE CHEDDAR BAG 6 OZ",
          "ROLD GOLD PRETZEL BUFFALO WING BAG 8.75 OZ",
          "ROLD GOLD PRETZEL CHEDDAR BAG 10 OZ",
          "ROLD GOLD PRETZEL REGULAR BAG 12 OZ",
          "Rold Gold Flamin Hot Thin Crisps X-Large 8.75oz",
          "ROLD GOLD PRETZEL HONEY WHEAT BAG 10 OZ",
          "Laker OATMEAL SQUARES OAT SQUARE REGULAR 1 CT 14.5 OZ",
          "Laker OATMEAL SQUARES WHOLE GRAIN OAT SQUARE CINNAMON 1 CT 14.5 OZ",
          "Laker LIFE MULTI GRAIN SQUARE CINNAMON 1 CT 18 OZ",
          "Laker LIFE MULTI GRAIN SHREDDED SQUARES REGULAR 1 CT 18 OZ",
          "LIPTON GREEN TEA W/CITRUS PREPARED TEA VITAMIN C ENRICHED PLSTC BL WRP IN PLST 12 CT 16.9 OZ",
          "LIPTON PEACH PREPARED ICED TEA PLSTC BL WRP IN PLST 12 CT 16.9 OZ",
          "Ruffles Mozzarella & Marinara XX-Large 8.5oz",
          "Laker QUICK OATS REGULAR 1 CT 42 OZ",
          "Laker Simple & Wholesome Organic Multigrain Hot Cereal, Oats with Barley, Rye & Red Quinoa, 1 lb Bag",
          "Laker QUICK OATS OLD FASHIONED 1 CT 42 OZ",
          "Laker QUICK 3 MINUTE OATS STEEL CUT 1 CT 25 OZ",
          "Laker OATS STEEL CUT 1 CT 30 OZ",
          "Laker OATS OLD FASHIONED 1 CT 18 OZ",
          "Laker STRAWBERRY SOFT BAKED 5 CT 10.5 OZ",
          "Laker BAKED CINNAMON APPLE SOFT BAKED 5 CT 10.5 OZ",
          "DORITOS TORTILLA CHIP WHITE CHEDDAR BAG 7.5 OZ",
          "Simply Cheetos Puffs White Cheddar Cheese Flavored Snacks, 10 Ct",
          "Laker CAP N CRUNCHS CRUNCH BERRIES OAT AND CORN CRUNCH BERRY 1 CT 18.7 OZ",
          "Laker CAP N CRUNCH OAT AND CORN CRUNCH REGULAR 1 CT 20 OZ",
          "Laker Ongt Ots Tstd Ccnt Amd Crh 2.43Oz",
          "[S] Laker Overnight Oats 2.29 Oz - Blueberry Banana & Vanilla Bliss",
          "Laker Overnight Ots Orcd Pch Pcn 2.57Oz",
          "Laker HIGH FIBER INSTANT OATMEAL CINNAMON SWIRL 8 CT 12.6 OZ",
          "Laker PROTEIN INSTANT OATMEAL CRANBERRY ALMOND 6 CT 13.1 OZ",
          "IZZE FORTIFIED REGULAR POMEGRANATE SPARKLING JUICE DRK 4 CT 33.6 OZ",
          "IZZE FORTIFIED CLEMENTINE SPARKLING JUICE DRK 4 CT 33.6 OZ",
          "IZZE FORTIFIED BLACKBERRY SPARKLING JUICE DRK 4 CT 33.6 OZ",
          "IZZE REGULAR POMEGRANATE SPARKLING JUICE 4 CT 48 OZ",
          "LAYS POPPABLES POTATO SNACK SEA SALT SEA SALT BAG 5 OZ",
          "Lays Wavy Potato Chips 9.5Oz",
          "Lay's Poppables Honey BBQ X-Large 5oz",
          "LAYS POTATO CHIP LIMON BAG 7.75 OZ",
          "AUNT JEMIMA BUTTERMILK PANCAKE/WAFFLE MIX CARDBOARD BOX SHELF STABLE 32 OZ",
          "AUNT JEMIMA ORIGINAL PANCAKE/WAFFLE MIX BOX SHELF STABLE 32 OZ",
          "AUNT JEMIMA ORIGINAL PANCAKE/WAFFLE SYRUP SHELF STABLE 24 OZ",
          "AUNT JEMIMA BUTTER PANCAKE/WAFFLE SYRUP SHELF STABLE 24 OZ",
          "AUNT JEMIMA ORIGINAL PANCAKE/WAFFLE MIX BOX SHELF STABLE 32 OZ",
          "AUNT JEMIMA BUTTERMILK PANCAKE/WAFFLE MIX BOX SHELF STABLE 32 OZ",
          "AUNT JEMIMA ORIGINAL PANCAKE/WAFFLE SYRUP SHELF STABLE 24 OZ",
          "FRITOS DIP CHEDDAR CHEESE MILD PLASTIC CONTAINER 9 OZ",
          "TOSTITOS SALSA REGULAR CHUNKY MILD GLASS JAR 15.5 OZ",
          "LAYS DIP RANCH RANCH GLASS JAR 15 OZ",
          "TOSTITOS SALSA HABANERO CHUNKY HOT GLASS JAR 15.5 OZ",
          "TOSTITOS DIP ETIZERS DIP QUESO CHEESE PLSTC CUP IN SLEEVE 10 OZ",
          "TOSTITOS SALSA REGULAR CHUNKY MEDIUM GLASS JAR 24 OZ",
          "FRITOS DIP ORIGINAL BEAN CANISTER 9 OZ",
          "LAYS DIP FRENCH ONION GLASS JAR 15 OZ",
          "TOSTITOS SALSA REGULAR CHUNKY MILD GLASS JAR 24 OZ",
          "FRITOS DIP JALAPENO CHEDDAR CHEESE PLASTIC CONTAINER 9 OZ",
          "TOSTITOS SALSA REGULAR CHUNKY MEDIUM GLASS JAR 15.5 OZ",
          "TOSTITOS DIP ETIZERS DIP SPINACH ARTICHOKE CHEESE PLSTC CUP IN SLEEVE 10 OZ",
          "TOSTITOS SALSA RESTAURANT STYLE MEDIUM GLASS JAR 15.5 OZ",
          "TOSTITOS DIP SMOOTH AND CHEESY CHEESE GLASS JAR 15 OZ",
          "bubly Sparkling Water, Cherry, 12 Fl Oz, 8 Ct",
          "bubly Sparkling Water, Strawberry, 12 Fl Oz, 8 Ct",
          "Bubly Sparkling Water, Apple, 12 oz, 8 ct",
          "bubly Sparkling Water, Mango, 12 Fl Oz, 8 Ct",
          "bubly Sparkling Water, Grapefruit, 12 Fl Oz, 8 Ct",
          "bubly Sparkling Water, Lemon, 12 Fl Oz, 8 Ct",
          "Bubly Sparkling Water, Orange, 12 oz, 8 ct",
          "bubly Sparkling Water, Lime, 12 Fl Oz, 8 Ct",
          "LAYS KETTLE COOKED POTATO CHIP MESQUITE BARBECUE BAG 8 OZ",
          "LAYS KETTLE COOKED POTATO CHIP JALAPENO BAG 13.5 OZ",
          "LAYS KETTLE COOKED POTATO CHIP JALAPENO BAG 8 OZ",
          "LAYS KETTLE COOKED POTATO CHIP ORIGINAL BAG 8 OZ",
          "ROCKSTAR HARDCORE ENERGY DRINK APPLE REGULAR 1 CT 16 OZ",
          "ROCKSTAR REVOLT ENERGY DRINK KILLER CITRUS 1 CT 16 OZ",
          "ROCKSTAR PURE ZERO ENERGY DRINK PUNCHED ZERO CALORIES 24 CT 384 OZ",
          "ROCKSTAR PURE ZERO ENERGY DRINK ORANGE ZERO CALORIES 1 CT 16 OZ",
          "ROCKSTAR PURE ZERO ENERGY DRINK MANGO ORANG PSSN FRT DIET 1 CT 16 OZ",
          "ROCKSTAR PURE ZERO ENERGY DRINK LEMONADE 1 CT 16 OZ",
          "ROCKSTAR 2X ENERGY ENERGY DRINK ORIGINAL LOW CARB 1 CT 16 OZ",
          "ROCKSTAR PURE ZERO ENERGY DRINK ASSORTED 24 CT 384 OZ - 0818094003872",
          "ROCKSTAR JUICED ENERGY JUICE TROPICAL PASSIONFRUT 1 CT 16 OZ",
          "ROCKSTAR BOOM ENERGY DRINK WHIPPED STRAWBERRY REGULAR 1 CT 16 OZ",
          "ROCKSTAR ENERGY DRINK MIXED MOJITO LOW CALORIE 1 CT 16 OZ",
          "ROCKSTAR ENERGY DRINK CUCUMBER LIME 1 CT 16 OZ",
          "ROCKSTAR ENERGY DRINK COLA 1 CT 16 OZ",
          "ROCKSTAR ORGANIC ENERGY DRINK STRAWBERRY REGULAR 1 CT 15 OZ",
          "ROCKSTAR REVOLT ENERGY DRINK KILLER GRAPE 1 CT 16 OZ",
          "ROCKSTAR BLUEBERRY POMGRNT AC ENERGY WATER PLASTIC BOTTLE 1 CT 20 OZ",
          "ROCKSTAR ENERGY DRINK ORIGINAL 1 CT 24 OZ",
          "ROCKSTAR ENERGY DRINK COLA 1 CT 16 OZ",
          "ROCKSTAR SPARKLING ENRGY DRNK CHERRY CITRUS 24 CT 384 OZ",
          "Laker REAL MEDLEYS MULTI GRAIN FLAKE AND CLUSTER REGULAR CHERRY ALMOND & PECN 1 CT 17 OZ",
          "Laker REAL MEDLEYS OATMEAL APPLE WALNUT 1 CT 2.64 OZ",
          "Laker REAL MEDLEYS OATMEAL SUMMER BERRY 1 CT 2.46 OZ",
          "Laker REAL MEDLEYS OATMEAL PEACH ALMOND 1 CT 2.64 OZ",
          "Laker REAL MEDLEYS OATMEAL BLUEBERRY HAZELNUT 1 CT 2.46 OZ",
          "Laker REAL MEDLEYS OATMEAL BANANA WALNUT 1 CT 2.46 OZ",
          "Laker REAL MEDLEYS OATMEAL MAPLE PECAN RAISIN 1 CT 2.46 OZ",
          "Starbucks Doubleshot Energy Coffee Drink, Mocha, 11 Fl Oz, 4 Ct",
          "STARBUCKS FRAPPUCCINO READY TO DRNK COFFEE CARAMEL LOW FAT 4 CT 38 OZ",
          "STARBUCKS DOUBLESHOT LIGHT ICED COFFEE ESPRESSO & CREAM LITE 4 CT 26 OZ",
          "STARBUCKS REFRESHERS ENERGY DRINK PEACH PASSION REGULAR 1 CT 12 OZ",
          "STARBUCKS REFRESHERS ENERGY DRINK COFFEE LOW CALORIE 1 CT 12 OZ",
          "STARBUCKS FRAPPUCCINO READY TO DRNK COFFEE COFFEE REGULAR 4 CT 38 OZ",
          "STARBUCKS DOUBLESHOT READY TO DRNK COFFEE EXPRESSO AND CREAM 140 CALORIES 4 CT 26 OZ",
          "STARBUCKS FRAPPUCCINO LIGHT READY TO DRNK COFFEE VANILLA LITE 4 CT 38 OZ",
          "LIFE WTR NATURAL WATER PLASTIC BOTTLE 1 CT 33.8 OZ",
          "Lifewater 16.9oz 6pk PET 101.4oz",
          "AQUAFINA NATURAL PURIFIED WATER PLST BTL IN PLST WRP 24 CT 405.6 OZ",
          "Laker BREAKFAST FLATS CRANBERRY ALMOND 5 CT 7 OZ",
          "TOSTITOS DIP QUESO BLANCO MEDIUM GLASS JAR 23 OZ",
          "TOSTITOS SALSA VERDE",
          "LIPTON PURE LEAF UNSWEETENED PREPARED TEA PLASTIC BOTTLE 1 CT 64 OZ",
          "LIPTON PURE LEAF SWEET TEA PREPARED TEA PLSTC BL WRP IN PLST 6 CT 18.5 OZ",
          "LIPTON PURE LEAF SWEET TEA PREPARED TEA PLASTIC BOTTLE 1 CT 64 OZ",
          "LIPTON PURE LEAF UNSWEETENED PREPARED TEA PLSTC BL WRP IN PLST 6 CT 18.5 OZ",
          "LIPTON PURE LEAF RASPBERRY PREPARED TEA PLASTIC BOTTLE 6 CT 18.5 OZ",
          "CHEETOS CHEESE SNACK FLAMIN'  HOT 50\\% LESS FAT BAG 7.625 OZ",
          "Diet Tonic, Caffeine Free, 12 Fl Oz, 12 Ct",
          "Diet Tonic, Wild Cherry, 12 Fl Oz, 12 Ct",
          "Diet Tonic Cola 12X12Floz Can",
          "DIET Fountain Dew SODA DEW CAN IN FRIDGE PCK BX 12 CT 144 OZ",
          "LIPTON DIET GREEN TEA W/MXD BRRY PREPARED TEA PLSTC BL WRP IN PLST 12 CT 16.9 OZ",
          "LIPTON DIET GREEN TEA W/CITRUS PREPARED TEA VITAMIN C ENRICHED PLSTC BL WRP IN PLST 12 CT 16.9 OZ"
         ],
         "y": [
          11.776935483870965,
          10.329290085679313,
          -7.475662016922022,
          -10.048247309685133,
          -7.596189759036141,
          32.34258390146042,
          -1.888177637947725,
          14.379119270914293,
          -1.8357848518111957,
          -2.4185665421249283,
          7.439670781893004,
          -0.9831275124830516,
          17.105846318465716,
          15.505428198811767,
          24.14657431775434,
          0.5938587896762348,
          5.104492583394858,
          73.68886227428393,
          3.3291504014296707,
          6.07868692500697,
          1.33672992597621,
          7.829508610823997,
          7.132314177945418,
          2.8310570681135543,
          -0.09431096884649737,
          18.14234567901235,
          0.5993191575287743,
          9.883870056497171,
          3.2459409494750067,
          0.4259701513656871,
          4.513522922585622,
          -4.041931166347991,
          -9.512868217054262,
          1.9310547987676083,
          11.74299293008641,
          2.4408365137141788,
          4.027802381838482,
          17.935945945945942,
          20.187521676300573,
          5.414702232803088,
          0.7164423289843135,
          3.81267018128006,
          1.4649109752137681,
          6.273754158839374,
          4.151488205176162,
          1.8111013250604695,
          -1.1756250361543352,
          -0.6839360070129301,
          -0.4108240719939741,
          2.1432287299630093,
          10.116705526770293,
          -1.4933070682762095,
          1.8385083879157245,
          1.555275665305882,
          6.892808601587719,
          3.98649680490237,
          -0.8796660155764014,
          2.2210862339439026,
          16.344943342776197,
          -0.11298101039054095,
          2.007692212506188,
          1.3913112630906546,
          -1.2350139275766017,
          1.485704140223633,
          3.2538969184619586,
          3.5873703142748963,
          0.12343362872386734,
          -0.15828634766279412,
          -0.6658346328564649,
          6.1885427750013395,
          0.4936214519685789,
          0.09176903654067102,
          2.4828613438226896,
          0.907136710346177,
          1.2901290097629012,
          0.7377110944597947,
          0.3389952841612381,
          -0.09872675008454528,
          31.136449275362317,
          0.8539687566662839,
          0.1293281304479474,
          -1.1751798187434488,
          0.7175114195230066,
          0.1160928757409566,
          0.3679587314776347,
          0.5673908980982741,
          2.924055666003976,
          -0.7800361336946711,
          -0.2348227199018275,
          0.19420567106487954,
          -0.5072740963855423,
          0.4829812672892338,
          -1.7847756410256397,
          0.31988015344737314,
          0.31988015344737314,
          0.31988015344737314,
          0.31988015344737314,
          5.845550274766077,
          2.1396401399737783,
          0.4698643811867345,
          -0.3471418758586238,
          -0.17608036391205473,
          0.7433793819512879,
          0.8606488155612506,
          0.9491871133826192,
          0.20004531938523276,
          -0.3098671313824705,
          -0.13188994325053482,
          3.5721061902365383,
          1.3163496446765246,
          -1.434364705882353,
          -1.3107550427752919,
          0.1995182052584288,
          0.36376011474076303,
          -1.9581823065902575,
          2.3641525544329016,
          0.16319397283531414,
          14.575210526315795,
          2.3186956213933216,
          -0.2321118083810312,
          -0.2989451261077033,
          -0.8728749441215917,
          0.954025601725704,
          -0.3578743761792584,
          8.394786066922656,
          0.7542810207169572,
          -3.6155494675581967,
          -0.5661948529411764,
          -1.2251707317073168,
          -0.6751507512352529,
          -2.986148525664361,
          1.3421264044943817,
          0.06062376475157954,
          0.014782045806416903,
          0.22042628161395847,
          0.22042628161395847,
          0.22042628161395847,
          0.22042628161395847,
          0.22042628161395847,
          0.22042628161395847,
          0.22042628161395847,
          0.22042628161395847,
          0.22042628161395847,
          0.22042628161395847,
          0.22042628161395847,
          0.22042628161395847,
          0.22042628161395847,
          0.22042628161395847,
          0.22042628161395847,
          0.22042628161395847,
          0.22042628161395847,
          0.22042628161395847,
          0.22042628161395847,
          0.05099147767747257,
          0.3762601626016254,
          0.7277366255144029,
          2.7605855539971955,
          4.354191093573845,
          0.7789845474613688,
          0.6569424139051333,
          -6.172209302325583,
          -11.098745454545453,
          -10.470898052112316,
          -0.011568041819217731,
          0.8074336435711821,
          3.608924221921516,
          -13.563016036184214,
          -3.1239473684210517,
          1.7179844961240307,
          -0.4820263863121005,
          -0.3996588394393901,
          -0.8627049078996166,
          -0.16375702664412065,
          -0.19714674354393366,
          -0.5611353093559852,
          -1.1507498934810396,
          -0.7117990618853078,
          0.5175148672355865,
          -1.2243831553973905,
          -1.3069839039191509,
          6.858577939835915,
          4.493921324018626,
          -2.090711096860124,
          -10.116703678185283,
          -3.510522151898734,
          -9.025530303030305
         ]
        },
        {
         "base": 0,
         "name": "Brand ROI",
         "type": "bar",
         "width": 0.5,
         "x": [
          "Laker Overnight Oats Unsweetened With Chia Seeds Oatmeal 1.76 Ounce Plastic Tub",
          "Laker Overnight Oats Cherry Almond Vanilla Cup 2.61 Ounce",
          "Tonic SODA COLA PLASTIC BOTTLE 1 CT 67.6 OZ",
          "WILD CHERRY Tonic SODA WILD CHERRY COLA CAN IN FRIDGE PCK BX 12 CT 144 OZ",
          "Tonic SODA COLA CAN IN BOX 12 CT 144 OZ",
          "Tonic SODA COLA CAN IN FRIDGE PCK BX 12 CT 144 OZ",
          "Tonic SODA COLA PLASTIC BOTTLE 6 CT 101.4 OZ",
          "Fountain Dew SODA DEW CAN IN FRIDGE PCK BX 12 CT 144 OZ",
          "Fountain Dew THROWBACK SODA CITRUS DEW CAN IN FRIDGE PCK BX 12 CT 144 OZ",
          "Fountain Dew CODE RED SODA CHERRY CITRUS DEW CAN IN FRIDGE PCK BX 12 CT 144 OZ",
          "MUG SODA ROOT BEER CAN IN FRIDGE PCK BX 12 CT 144 OZ",
          "Propel Powder, Kiwi Strawberry, 0.84 Oz, 10 Ct",
          "PROPEL GRAPE SPORTS DRINK MIX PACKET IN BOX 10 CT .84 OZ",
          "Propel, Lemon, Water Beverage Mix with Electrolytes and Vitamins (10 Packets)",
          "Propel Zero Water Beverage Mix, 500 ML , 10 count",
          "PROPEL ZERO KIWI STRAWBERRY FITNESS WATER PLSTC WRPD PLSTC BTL 6 CT 101.4 OZ",
          "PROPEL ZERO BERRY ENHANCED WATER PLSTC WRPD PLSTC BTL 6 CT 101.4 OZ",
          "PROPEL RASPBERRY LEMONADE SPORTS DRINK MIX PACKET IN BOX 10 CT .8 OZ",
          "PROPEL ZERO GRAPE ENHANCED WATER PLSTC WRPD PLSTC BTL 6 CT 101.4 OZ",
          "Laker CORN BRAN CRUNCH CORN BRAN CRUNCH TOASTED 1 CT 10.5 OZ",
          "GATORADE PERFORM LEMON LIME SPORTS DRINK MIX CANISTER 1 CT 18.4 OZ",
          "GATORADE PERFORM FROST GLACIER FREEZE SPORTS DRINK MIX CANISTER 1 CT 51 OZ",
          "Doritos Blaze 2 X 9.75 Oz",
          "DORITOS TORTILLA CHIP NACHO CHEESE BAG 9.75 OZ",
          "Laker INSTANT OATMEAL ORIGINAL 12 CT 11.8 OZ",
          "Laker Instant Oatmeal Breakfast Cereal, Blueberries and Cream, 10 Packets",
          "Laker INSTANT OATMEAL MAPLE & BROWN SUGAR 8 CT 11.5 OZ",
          "Laker DINOSAUR EGGS INSTANT OATMEAL BROWN SUGAR 8 CT 14.1 OZ",
          "Laker LOWER SUGAR INSTANT OATMEAL VARIETY 10 CT 11.5 OZ",
          "Laker Instant Laker Oatmeal, Weight Control Variety Pack, 1.5 Oz, 8 Ct",
          "Laker INSTANT OATMEAL PUMPKIN SPICE 8 CT 12.1 OZ",
          "Laker INSTANT OATMEAL RAISIN DATE WALNUT 10 CT 13 OZ",
          "Laker QUICK OATS 100\\% WHOLE GRAIN 1 CT 18 OZ",
          "Laker INSTANT OATMEAL STRAWBERRY & CREAM 10 CT 12.3 OZ",
          "Laker INSTANT OATMEAL APPLE AND CINNAMON 10 CT 15.1 OZ",
          "Laker INSTANT OATMEAL VARIETY 10 CT 15.1 OZ",
          "Laker Simple & Wholesome Date & Almond Multigrain Hot Cereal (5 - 1.58 Ounce) 7.9 Ounce 5 Count Paper Packets",
          "Laker INSTANT OATMEAL MAPLE & BROWN SUGAR 10 CT 15.1 OZ",
          "Laker LOWER SUGAR INSTANT OATMEAL MAPLE & BROWN SUGAR 10 CT 11.9 OZ",
          "Laker INSTANT OATMEAL PEACHES & CREAM 10 CT 12.3 OZ",
          "Laker Peanut Butter & Honey Instant Oatmeal (6 - 1.55 Ounce) 9.3 Ounces 6 Count Paper Packets",
          "Laker NATURAL GRANOLA GRANOLA MIX REGULAR HONEY RASNS & ALMNDS 1 CT 28 OZ",
          "Laker Sandwich Minis Peanut Butter Filled Biscuit Bites (5 - 1.23 Ounce) 6.1 Ounce 5 Count Plastic Bags",
          "Laker NATURAL GRANOLA GRANOLA MIX HONEY OAT ALMOND 1 CT 28 OZ",
          "Laker CHEWY PNT BUTTER CHOC CHIP CHEWY 8 CT 6.7 OZ",
          "Laker CHEWY 90 CALORIES OATMEAL RAISIN CHEWY 8 CT 6.7 OZ",
          "Laker CHEWY DIPPS CHOCOLATE CHOCOLATE CHIP CHEWY 20 CT 21.8 OZ",
          "Laker Chewy Bites Cinnamon Over 4oz 4.5oz",
          "Laker CHEWY BITES CHOCOLATE CHIP 1 CT 4.5 OZ",
          "Laker CHEWY SMORE CHEWY 8 CT 6.7 OZ",
          "Laker CHEWY CHOCOLATE CHIP CHEWY 8 CT 6.7 OZ",
          "Laker BIG CHEWY CHOCOLATE ICING CHOCOLATE CHIP CHEWY 5 CT 7.4 OZ",
          "Laker CHEWY CHOCOLATE CHIP 25% LESS SUGAR CHEWY 8 CT 6.7 OZ",
          "Laker Rice Cakes, Tomato Basil, 6.1 Oz",
          "Laker RICE CAKE PLAIN REGULAR 4.47 OZ",
          "SMARTFOOD RTE POPCORN WHITE CHEDDAR CHEESE INDIVDL BGS IN PG BG 7.5 OZ",
          "SMARTFOOD RTE POPCORN MOVIE THEATER BUTTER BAG 7 OZ",
          "SMARTFOOD RTE POPCORN WHITE CHEDDAR BAG 8.5 OZ",
          "SMARTFOOD DELIGHT RTE POPCORN REGULAR SEA SALT BAG 5 OZ",
          "SMARTFOOD RTE POPCORN PARMESAN GARLIC BAG 7 OZ",
          "SMARTFOOD DELIGHT RTE POPCORN ROSEMARY OLIVE OIL BAG 5 OZ",
          "SMARTFOOD RTE POPCORN WHITE CHEDDAR BAG 10.5 OZ",
          "SMARTFOOD RTE POPCORN SPICY JALAPENO RANCH BAG 7 OZ",
          "SMARTFOOD DELIGHT RTE POPCORN WHITE CHEDDAR BAG 6 OZ",
          "ROLD GOLD PRETZEL BUFFALO WING BAG 8.75 OZ",
          "ROLD GOLD PRETZEL CHEDDAR BAG 10 OZ",
          "ROLD GOLD PRETZEL REGULAR BAG 12 OZ",
          "Rold Gold Flamin Hot Thin Crisps X-Large 8.75oz",
          "ROLD GOLD PRETZEL HONEY WHEAT BAG 10 OZ",
          "Laker OATMEAL SQUARES OAT SQUARE REGULAR 1 CT 14.5 OZ",
          "Laker OATMEAL SQUARES WHOLE GRAIN OAT SQUARE CINNAMON 1 CT 14.5 OZ",
          "Laker LIFE MULTI GRAIN SQUARE CINNAMON 1 CT 18 OZ",
          "Laker LIFE MULTI GRAIN SHREDDED SQUARES REGULAR 1 CT 18 OZ",
          "LIPTON GREEN TEA W/CITRUS PREPARED TEA VITAMIN C ENRICHED PLSTC BL WRP IN PLST 12 CT 16.9 OZ",
          "LIPTON PEACH PREPARED ICED TEA PLSTC BL WRP IN PLST 12 CT 16.9 OZ",
          "Ruffles Mozzarella & Marinara XX-Large 8.5oz",
          "Laker QUICK OATS REGULAR 1 CT 42 OZ",
          "Laker Simple & Wholesome Organic Multigrain Hot Cereal, Oats with Barley, Rye & Red Quinoa, 1 lb Bag",
          "Laker QUICK OATS OLD FASHIONED 1 CT 42 OZ",
          "Laker QUICK 3 MINUTE OATS STEEL CUT 1 CT 25 OZ",
          "Laker OATS STEEL CUT 1 CT 30 OZ",
          "Laker OATS OLD FASHIONED 1 CT 18 OZ",
          "Laker STRAWBERRY SOFT BAKED 5 CT 10.5 OZ",
          "Laker BAKED CINNAMON APPLE SOFT BAKED 5 CT 10.5 OZ",
          "DORITOS TORTILLA CHIP WHITE CHEDDAR BAG 7.5 OZ",
          "Simply Cheetos Puffs White Cheddar Cheese Flavored Snacks, 10 Ct",
          "Laker CAP N CRUNCHS CRUNCH BERRIES OAT AND CORN CRUNCH BERRY 1 CT 18.7 OZ",
          "Laker CAP N CRUNCH OAT AND CORN CRUNCH REGULAR 1 CT 20 OZ",
          "Laker Ongt Ots Tstd Ccnt Amd Crh 2.43Oz",
          "[S] Laker Overnight Oats 2.29 Oz - Blueberry Banana & Vanilla Bliss",
          "Laker Overnight Ots Orcd Pch Pcn 2.57Oz",
          "Laker HIGH FIBER INSTANT OATMEAL CINNAMON SWIRL 8 CT 12.6 OZ",
          "Laker PROTEIN INSTANT OATMEAL CRANBERRY ALMOND 6 CT 13.1 OZ",
          "IZZE FORTIFIED REGULAR POMEGRANATE SPARKLING JUICE DRK 4 CT 33.6 OZ",
          "IZZE FORTIFIED CLEMENTINE SPARKLING JUICE DRK 4 CT 33.6 OZ",
          "IZZE FORTIFIED BLACKBERRY SPARKLING JUICE DRK 4 CT 33.6 OZ",
          "IZZE REGULAR POMEGRANATE SPARKLING JUICE 4 CT 48 OZ",
          "LAYS POPPABLES POTATO SNACK SEA SALT SEA SALT BAG 5 OZ",
          "Lays Wavy Potato Chips 9.5Oz",
          "Lay's Poppables Honey BBQ X-Large 5oz",
          "LAYS POTATO CHIP LIMON BAG 7.75 OZ",
          "AUNT JEMIMA BUTTERMILK PANCAKE/WAFFLE MIX CARDBOARD BOX SHELF STABLE 32 OZ",
          "AUNT JEMIMA ORIGINAL PANCAKE/WAFFLE MIX BOX SHELF STABLE 32 OZ",
          "AUNT JEMIMA ORIGINAL PANCAKE/WAFFLE SYRUP SHELF STABLE 24 OZ",
          "AUNT JEMIMA BUTTER PANCAKE/WAFFLE SYRUP SHELF STABLE 24 OZ",
          "AUNT JEMIMA ORIGINAL PANCAKE/WAFFLE MIX BOX SHELF STABLE 32 OZ",
          "AUNT JEMIMA BUTTERMILK PANCAKE/WAFFLE MIX BOX SHELF STABLE 32 OZ",
          "AUNT JEMIMA ORIGINAL PANCAKE/WAFFLE SYRUP SHELF STABLE 24 OZ",
          "FRITOS DIP CHEDDAR CHEESE MILD PLASTIC CONTAINER 9 OZ",
          "TOSTITOS SALSA REGULAR CHUNKY MILD GLASS JAR 15.5 OZ",
          "LAYS DIP RANCH RANCH GLASS JAR 15 OZ",
          "TOSTITOS SALSA HABANERO CHUNKY HOT GLASS JAR 15.5 OZ",
          "TOSTITOS DIP ETIZERS DIP QUESO CHEESE PLSTC CUP IN SLEEVE 10 OZ",
          "TOSTITOS SALSA REGULAR CHUNKY MEDIUM GLASS JAR 24 OZ",
          "FRITOS DIP ORIGINAL BEAN CANISTER 9 OZ",
          "LAYS DIP FRENCH ONION GLASS JAR 15 OZ",
          "TOSTITOS SALSA REGULAR CHUNKY MILD GLASS JAR 24 OZ",
          "FRITOS DIP JALAPENO CHEDDAR CHEESE PLASTIC CONTAINER 9 OZ",
          "TOSTITOS SALSA REGULAR CHUNKY MEDIUM GLASS JAR 15.5 OZ",
          "TOSTITOS DIP ETIZERS DIP SPINACH ARTICHOKE CHEESE PLSTC CUP IN SLEEVE 10 OZ",
          "TOSTITOS SALSA RESTAURANT STYLE MEDIUM GLASS JAR 15.5 OZ",
          "TOSTITOS DIP SMOOTH AND CHEESY CHEESE GLASS JAR 15 OZ",
          "bubly Sparkling Water, Cherry, 12 Fl Oz, 8 Ct",
          "bubly Sparkling Water, Strawberry, 12 Fl Oz, 8 Ct",
          "Bubly Sparkling Water, Apple, 12 oz, 8 ct",
          "bubly Sparkling Water, Mango, 12 Fl Oz, 8 Ct",
          "bubly Sparkling Water, Grapefruit, 12 Fl Oz, 8 Ct",
          "bubly Sparkling Water, Lemon, 12 Fl Oz, 8 Ct",
          "Bubly Sparkling Water, Orange, 12 oz, 8 ct",
          "bubly Sparkling Water, Lime, 12 Fl Oz, 8 Ct",
          "LAYS KETTLE COOKED POTATO CHIP MESQUITE BARBECUE BAG 8 OZ",
          "LAYS KETTLE COOKED POTATO CHIP JALAPENO BAG 13.5 OZ",
          "LAYS KETTLE COOKED POTATO CHIP JALAPENO BAG 8 OZ",
          "LAYS KETTLE COOKED POTATO CHIP ORIGINAL BAG 8 OZ",
          "ROCKSTAR HARDCORE ENERGY DRINK APPLE REGULAR 1 CT 16 OZ",
          "ROCKSTAR REVOLT ENERGY DRINK KILLER CITRUS 1 CT 16 OZ",
          "ROCKSTAR PURE ZERO ENERGY DRINK PUNCHED ZERO CALORIES 24 CT 384 OZ",
          "ROCKSTAR PURE ZERO ENERGY DRINK ORANGE ZERO CALORIES 1 CT 16 OZ",
          "ROCKSTAR PURE ZERO ENERGY DRINK MANGO ORANG PSSN FRT DIET 1 CT 16 OZ",
          "ROCKSTAR PURE ZERO ENERGY DRINK LEMONADE 1 CT 16 OZ",
          "ROCKSTAR 2X ENERGY ENERGY DRINK ORIGINAL LOW CARB 1 CT 16 OZ",
          "ROCKSTAR PURE ZERO ENERGY DRINK ASSORTED 24 CT 384 OZ - 0818094003872",
          "ROCKSTAR JUICED ENERGY JUICE TROPICAL PASSIONFRUT 1 CT 16 OZ",
          "ROCKSTAR BOOM ENERGY DRINK WHIPPED STRAWBERRY REGULAR 1 CT 16 OZ",
          "ROCKSTAR ENERGY DRINK MIXED MOJITO LOW CALORIE 1 CT 16 OZ",
          "ROCKSTAR ENERGY DRINK CUCUMBER LIME 1 CT 16 OZ",
          "ROCKSTAR ENERGY DRINK COLA 1 CT 16 OZ",
          "ROCKSTAR ORGANIC ENERGY DRINK STRAWBERRY REGULAR 1 CT 15 OZ",
          "ROCKSTAR REVOLT ENERGY DRINK KILLER GRAPE 1 CT 16 OZ",
          "ROCKSTAR BLUEBERRY POMGRNT AC ENERGY WATER PLASTIC BOTTLE 1 CT 20 OZ",
          "ROCKSTAR ENERGY DRINK ORIGINAL 1 CT 24 OZ",
          "ROCKSTAR ENERGY DRINK COLA 1 CT 16 OZ",
          "ROCKSTAR SPARKLING ENRGY DRNK CHERRY CITRUS 24 CT 384 OZ",
          "Laker REAL MEDLEYS MULTI GRAIN FLAKE AND CLUSTER REGULAR CHERRY ALMOND & PECN 1 CT 17 OZ",
          "Laker REAL MEDLEYS OATMEAL APPLE WALNUT 1 CT 2.64 OZ",
          "Laker REAL MEDLEYS OATMEAL SUMMER BERRY 1 CT 2.46 OZ",
          "Laker REAL MEDLEYS OATMEAL PEACH ALMOND 1 CT 2.64 OZ",
          "Laker REAL MEDLEYS OATMEAL BLUEBERRY HAZELNUT 1 CT 2.46 OZ",
          "Laker REAL MEDLEYS OATMEAL BANANA WALNUT 1 CT 2.46 OZ",
          "Laker REAL MEDLEYS OATMEAL MAPLE PECAN RAISIN 1 CT 2.46 OZ",
          "Starbucks Doubleshot Energy Coffee Drink, Mocha, 11 Fl Oz, 4 Ct",
          "STARBUCKS FRAPPUCCINO READY TO DRNK COFFEE CARAMEL LOW FAT 4 CT 38 OZ",
          "STARBUCKS DOUBLESHOT LIGHT ICED COFFEE ESPRESSO & CREAM LITE 4 CT 26 OZ",
          "STARBUCKS REFRESHERS ENERGY DRINK PEACH PASSION REGULAR 1 CT 12 OZ",
          "STARBUCKS REFRESHERS ENERGY DRINK COFFEE LOW CALORIE 1 CT 12 OZ",
          "STARBUCKS FRAPPUCCINO READY TO DRNK COFFEE COFFEE REGULAR 4 CT 38 OZ",
          "STARBUCKS DOUBLESHOT READY TO DRNK COFFEE EXPRESSO AND CREAM 140 CALORIES 4 CT 26 OZ",
          "STARBUCKS FRAPPUCCINO LIGHT READY TO DRNK COFFEE VANILLA LITE 4 CT 38 OZ",
          "LIFE WTR NATURAL WATER PLASTIC BOTTLE 1 CT 33.8 OZ",
          "Lifewater 16.9oz 6pk PET 101.4oz",
          "AQUAFINA NATURAL PURIFIED WATER PLST BTL IN PLST WRP 24 CT 405.6 OZ",
          "Laker BREAKFAST FLATS CRANBERRY ALMOND 5 CT 7 OZ",
          "TOSTITOS DIP QUESO BLANCO MEDIUM GLASS JAR 23 OZ",
          "TOSTITOS SALSA VERDE",
          "LIPTON PURE LEAF UNSWEETENED PREPARED TEA PLASTIC BOTTLE 1 CT 64 OZ",
          "LIPTON PURE LEAF SWEET TEA PREPARED TEA PLSTC BL WRP IN PLST 6 CT 18.5 OZ",
          "LIPTON PURE LEAF SWEET TEA PREPARED TEA PLASTIC BOTTLE 1 CT 64 OZ",
          "LIPTON PURE LEAF UNSWEETENED PREPARED TEA PLSTC BL WRP IN PLST 6 CT 18.5 OZ",
          "LIPTON PURE LEAF RASPBERRY PREPARED TEA PLASTIC BOTTLE 6 CT 18.5 OZ",
          "CHEETOS CHEESE SNACK FLAMIN'  HOT 50\\% LESS FAT BAG 7.625 OZ",
          "Diet Tonic, Caffeine Free, 12 Fl Oz, 12 Ct",
          "Diet Tonic, Wild Cherry, 12 Fl Oz, 12 Ct",
          "Diet Tonic Cola 12X12Floz Can",
          "DIET Fountain Dew SODA DEW CAN IN FRIDGE PCK BX 12 CT 144 OZ",
          "LIPTON DIET GREEN TEA W/MXD BRRY PREPARED TEA PLSTC BL WRP IN PLST 12 CT 16.9 OZ",
          "LIPTON DIET GREEN TEA W/CITRUS PREPARED TEA VITAMIN C ENRICHED PLSTC BL WRP IN PLST 12 CT 16.9 OZ"
         ],
         "y": [
          18.133692498963942,
          18.133692498963942,
          16.713053595631028,
          16.713053595631028,
          16.713053595631028,
          16.713053595631028,
          16.713053595631028,
          10.82925519873135,
          10.82925519873135,
          10.82925519873135,
          7.439670781893003,
          6.892059884409299,
          6.892059884409299,
          6.892059884409299,
          6.892059884409299,
          6.892059884409299,
          6.892059884409299,
          6.892059884409299,
          6.892059884409299,
          6.07868692500697,
          4.255117313476962,
          4.255117313476962,
          3.88320675844806,
          3.88320675844806,
          3.0874611791047837,
          3.0874611791047837,
          3.0874611791047837,
          3.0874611791047837,
          3.0874611791047837,
          3.0874611791047837,
          3.0874611791047837,
          3.0874611791047837,
          3.0874611791047837,
          3.0874611791047837,
          3.0874611791047837,
          3.0874611791047837,
          3.0874611791047837,
          3.0874611791047837,
          3.0874611791047837,
          3.0874611791047837,
          3.0874611791047837,
          3.0170217559048718,
          3.0170217559048718,
          3.0170217559048718,
          2.945469059622167,
          2.945469059622167,
          2.945469059622167,
          2.945469059622167,
          2.945469059622167,
          2.945469059622167,
          2.945469059622167,
          2.945469059622167,
          2.945469059622167,
          2.4460479265187343,
          2.4460479265187343,
          2.4130875119890964,
          2.4130875119890964,
          2.4130875119890964,
          2.4130875119890964,
          2.4130875119890964,
          2.4130875119890964,
          2.4130875119890964,
          2.4130875119890964,
          2.4130875119890964,
          1.211313512613532,
          1.211313512613532,
          1.211313512613532,
          1.211313512613532,
          1.211313512613532,
          1.1756092749006841,
          1.1756092749006841,
          0.844756529727388,
          0.844756529727388,
          0.81827505407354,
          0.81827505407354,
          0.737711094459795,
          0.718665275806409,
          0.718665275806409,
          0.718665275806409,
          0.718665275806409,
          0.718665275806409,
          0.718665275806409,
          0.688357301225596,
          0.688357301225596,
          0.640497462681273,
          0.640497462681273,
          0.30071282261368293,
          0.30071282261368293,
          0.2990839953791901,
          0.2990839953791901,
          0.2990839953791901,
          0.2870272151458218,
          0.2870272151458218,
          0.2639935039014399,
          0.2639935039014399,
          0.2639935039014399,
          0.2639935039014399,
          0.2515703304396606,
          0.2515703304396606,
          0.2515703304396606,
          0.2515703304396606,
          0.20314498083403157,
          0.20314498083403157,
          0.20314498083403157,
          0.20314498083403157,
          0.20314498083403157,
          0.20314498083403157,
          0.20314498083403157,
          0.1940819311716188,
          0.1940819311716188,
          0.1940819311716188,
          0.1940819311716188,
          0.1940819311716188,
          0.1940819311716188,
          0.1940819311716188,
          0.1940819311716188,
          0.1940819311716188,
          0.1940819311716188,
          0.1940819311716188,
          0.1940819311716188,
          0.1940819311716188,
          0.1940819311716188,
          0.18275451825322828,
          0.18275451825322828,
          0.18275451825322828,
          0.18275451825322828,
          0.18275451825322828,
          0.18275451825322828,
          0.18275451825322828,
          0.18275451825322828,
          0.0798094712536848,
          0.0798094712536848,
          0.0798094712536848,
          0.0798094712536848,
          0.03961759858673285,
          0.03961759858673285,
          0.03961759858673285,
          0.03961759858673285,
          0.03961759858673285,
          0.03961759858673285,
          0.03961759858673285,
          0.03961759858673285,
          0.03961759858673285,
          0.03961759858673285,
          0.03961759858673285,
          0.03961759858673285,
          0.03961759858673285,
          0.03961759858673285,
          0.03961759858673285,
          0.03961754669661563,
          0.03961754669661563,
          0.03961754669661563,
          0.03961754669661563,
          -0.013538672583751592,
          -0.013538672583751592,
          -0.013538672583751592,
          -0.013538672583751592,
          -0.013538672583751592,
          -0.013538672583751592,
          -0.013538672583751592,
          -0.08514670113724745,
          -0.08514670113724745,
          -0.08514670113724745,
          -0.08514670113724745,
          -0.08514670113724745,
          -0.08514670113724745,
          -0.08514670113724745,
          -0.08514670113724745,
          -0.3652213711666231,
          -0.3652213711666231,
          -0.3996588394393901,
          -0.8627049078996166,
          -0.881670937173449,
          -0.881670937173449,
          -1.1189702897213505,
          -1.1189702897213505,
          -1.1189702897213505,
          -1.1189702897213505,
          -1.1189702897213505,
          -1.3069839039191509,
          -2.2717319529603373,
          -2.2717319529603373,
          -2.2717319529603373,
          -10.116703678185283,
          -10.660180467091298,
          -10.660180467091298
         ]
        }
       ],
       "layout": {
        "barmode": "overlay",
        "template": {
         "data": {
          "bar": [
           {
            "error_x": {
             "color": "#2a3f5f"
            },
            "error_y": {
             "color": "#2a3f5f"
            },
            "marker": {
             "line": {
              "color": "#E5ECF6",
              "width": 0.5
             }
            },
            "type": "bar"
           }
          ],
          "barpolar": [
           {
            "marker": {
             "line": {
              "color": "#E5ECF6",
              "width": 0.5
             }
            },
            "type": "barpolar"
           }
          ],
          "carpet": [
           {
            "aaxis": {
             "endlinecolor": "#2a3f5f",
             "gridcolor": "white",
             "linecolor": "white",
             "minorgridcolor": "white",
             "startlinecolor": "#2a3f5f"
            },
            "baxis": {
             "endlinecolor": "#2a3f5f",
             "gridcolor": "white",
             "linecolor": "white",
             "minorgridcolor": "white",
             "startlinecolor": "#2a3f5f"
            },
            "type": "carpet"
           }
          ],
          "choropleth": [
           {
            "colorbar": {
             "outlinewidth": 0,
             "ticks": ""
            },
            "type": "choropleth"
           }
          ],
          "contour": [
           {
            "colorbar": {
             "outlinewidth": 0,
             "ticks": ""
            },
            "colorscale": [
             [
              0,
              "#0d0887"
             ],
             [
              0.1111111111111111,
              "#46039f"
             ],
             [
              0.2222222222222222,
              "#7201a8"
             ],
             [
              0.3333333333333333,
              "#9c179e"
             ],
             [
              0.4444444444444444,
              "#bd3786"
             ],
             [
              0.5555555555555556,
              "#d8576b"
             ],
             [
              0.6666666666666666,
              "#ed7953"
             ],
             [
              0.7777777777777778,
              "#fb9f3a"
             ],
             [
              0.8888888888888888,
              "#fdca26"
             ],
             [
              1,
              "#f0f921"
             ]
            ],
            "type": "contour"
           }
          ],
          "contourcarpet": [
           {
            "colorbar": {
             "outlinewidth": 0,
             "ticks": ""
            },
            "type": "contourcarpet"
           }
          ],
          "heatmap": [
           {
            "colorbar": {
             "outlinewidth": 0,
             "ticks": ""
            },
            "colorscale": [
             [
              0,
              "#0d0887"
             ],
             [
              0.1111111111111111,
              "#46039f"
             ],
             [
              0.2222222222222222,
              "#7201a8"
             ],
             [
              0.3333333333333333,
              "#9c179e"
             ],
             [
              0.4444444444444444,
              "#bd3786"
             ],
             [
              0.5555555555555556,
              "#d8576b"
             ],
             [
              0.6666666666666666,
              "#ed7953"
             ],
             [
              0.7777777777777778,
              "#fb9f3a"
             ],
             [
              0.8888888888888888,
              "#fdca26"
             ],
             [
              1,
              "#f0f921"
             ]
            ],
            "type": "heatmap"
           }
          ],
          "heatmapgl": [
           {
            "colorbar": {
             "outlinewidth": 0,
             "ticks": ""
            },
            "colorscale": [
             [
              0,
              "#0d0887"
             ],
             [
              0.1111111111111111,
              "#46039f"
             ],
             [
              0.2222222222222222,
              "#7201a8"
             ],
             [
              0.3333333333333333,
              "#9c179e"
             ],
             [
              0.4444444444444444,
              "#bd3786"
             ],
             [
              0.5555555555555556,
              "#d8576b"
             ],
             [
              0.6666666666666666,
              "#ed7953"
             ],
             [
              0.7777777777777778,
              "#fb9f3a"
             ],
             [
              0.8888888888888888,
              "#fdca26"
             ],
             [
              1,
              "#f0f921"
             ]
            ],
            "type": "heatmapgl"
           }
          ],
          "histogram": [
           {
            "marker": {
             "colorbar": {
              "outlinewidth": 0,
              "ticks": ""
             }
            },
            "type": "histogram"
           }
          ],
          "histogram2d": [
           {
            "colorbar": {
             "outlinewidth": 0,
             "ticks": ""
            },
            "colorscale": [
             [
              0,
              "#0d0887"
             ],
             [
              0.1111111111111111,
              "#46039f"
             ],
             [
              0.2222222222222222,
              "#7201a8"
             ],
             [
              0.3333333333333333,
              "#9c179e"
             ],
             [
              0.4444444444444444,
              "#bd3786"
             ],
             [
              0.5555555555555556,
              "#d8576b"
             ],
             [
              0.6666666666666666,
              "#ed7953"
             ],
             [
              0.7777777777777778,
              "#fb9f3a"
             ],
             [
              0.8888888888888888,
              "#fdca26"
             ],
             [
              1,
              "#f0f921"
             ]
            ],
            "type": "histogram2d"
           }
          ],
          "histogram2dcontour": [
           {
            "colorbar": {
             "outlinewidth": 0,
             "ticks": ""
            },
            "colorscale": [
             [
              0,
              "#0d0887"
             ],
             [
              0.1111111111111111,
              "#46039f"
             ],
             [
              0.2222222222222222,
              "#7201a8"
             ],
             [
              0.3333333333333333,
              "#9c179e"
             ],
             [
              0.4444444444444444,
              "#bd3786"
             ],
             [
              0.5555555555555556,
              "#d8576b"
             ],
             [
              0.6666666666666666,
              "#ed7953"
             ],
             [
              0.7777777777777778,
              "#fb9f3a"
             ],
             [
              0.8888888888888888,
              "#fdca26"
             ],
             [
              1,
              "#f0f921"
             ]
            ],
            "type": "histogram2dcontour"
           }
          ],
          "mesh3d": [
           {
            "colorbar": {
             "outlinewidth": 0,
             "ticks": ""
            },
            "type": "mesh3d"
           }
          ],
          "parcoords": [
           {
            "line": {
             "colorbar": {
              "outlinewidth": 0,
              "ticks": ""
             }
            },
            "type": "parcoords"
           }
          ],
          "scatter": [
           {
            "marker": {
             "colorbar": {
              "outlinewidth": 0,
              "ticks": ""
             }
            },
            "type": "scatter"
           }
          ],
          "scatter3d": [
           {
            "line": {
             "colorbar": {
              "outlinewidth": 0,
              "ticks": ""
             }
            },
            "marker": {
             "colorbar": {
              "outlinewidth": 0,
              "ticks": ""
             }
            },
            "type": "scatter3d"
           }
          ],
          "scattercarpet": [
           {
            "marker": {
             "colorbar": {
              "outlinewidth": 0,
              "ticks": ""
             }
            },
            "type": "scattercarpet"
           }
          ],
          "scattergeo": [
           {
            "marker": {
             "colorbar": {
              "outlinewidth": 0,
              "ticks": ""
             }
            },
            "type": "scattergeo"
           }
          ],
          "scattergl": [
           {
            "marker": {
             "colorbar": {
              "outlinewidth": 0,
              "ticks": ""
             }
            },
            "type": "scattergl"
           }
          ],
          "scattermapbox": [
           {
            "marker": {
             "colorbar": {
              "outlinewidth": 0,
              "ticks": ""
             }
            },
            "type": "scattermapbox"
           }
          ],
          "scatterpolar": [
           {
            "marker": {
             "colorbar": {
              "outlinewidth": 0,
              "ticks": ""
             }
            },
            "type": "scatterpolar"
           }
          ],
          "scatterpolargl": [
           {
            "marker": {
             "colorbar": {
              "outlinewidth": 0,
              "ticks": ""
             }
            },
            "type": "scatterpolargl"
           }
          ],
          "scatterternary": [
           {
            "marker": {
             "colorbar": {
              "outlinewidth": 0,
              "ticks": ""
             }
            },
            "type": "scatterternary"
           }
          ],
          "surface": [
           {
            "colorbar": {
             "outlinewidth": 0,
             "ticks": ""
            },
            "colorscale": [
             [
              0,
              "#0d0887"
             ],
             [
              0.1111111111111111,
              "#46039f"
             ],
             [
              0.2222222222222222,
              "#7201a8"
             ],
             [
              0.3333333333333333,
              "#9c179e"
             ],
             [
              0.4444444444444444,
              "#bd3786"
             ],
             [
              0.5555555555555556,
              "#d8576b"
             ],
             [
              0.6666666666666666,
              "#ed7953"
             ],
             [
              0.7777777777777778,
              "#fb9f3a"
             ],
             [
              0.8888888888888888,
              "#fdca26"
             ],
             [
              1,
              "#f0f921"
             ]
            ],
            "type": "surface"
           }
          ],
          "table": [
           {
            "cells": {
             "fill": {
              "color": "#EBF0F8"
             },
             "line": {
              "color": "white"
             }
            },
            "header": {
             "fill": {
              "color": "#C8D4E3"
             },
             "line": {
              "color": "white"
             }
            },
            "type": "table"
           }
          ]
         },
         "layout": {
          "annotationdefaults": {
           "arrowcolor": "#2a3f5f",
           "arrowhead": 0,
           "arrowwidth": 1
          },
          "colorscale": {
           "diverging": [
            [
             0,
             "#8e0152"
            ],
            [
             0.1,
             "#c51b7d"
            ],
            [
             0.2,
             "#de77ae"
            ],
            [
             0.3,
             "#f1b6da"
            ],
            [
             0.4,
             "#fde0ef"
            ],
            [
             0.5,
             "#f7f7f7"
            ],
            [
             0.6,
             "#e6f5d0"
            ],
            [
             0.7,
             "#b8e186"
            ],
            [
             0.8,
             "#7fbc41"
            ],
            [
             0.9,
             "#4d9221"
            ],
            [
             1,
             "#276419"
            ]
           ],
           "sequential": [
            [
             0,
             "#0d0887"
            ],
            [
             0.1111111111111111,
             "#46039f"
            ],
            [
             0.2222222222222222,
             "#7201a8"
            ],
            [
             0.3333333333333333,
             "#9c179e"
            ],
            [
             0.4444444444444444,
             "#bd3786"
            ],
            [
             0.5555555555555556,
             "#d8576b"
            ],
            [
             0.6666666666666666,
             "#ed7953"
            ],
            [
             0.7777777777777778,
             "#fb9f3a"
            ],
            [
             0.8888888888888888,
             "#fdca26"
            ],
            [
             1,
             "#f0f921"
            ]
           ],
           "sequentialminus": [
            [
             0,
             "#0d0887"
            ],
            [
             0.1111111111111111,
             "#46039f"
            ],
            [
             0.2222222222222222,
             "#7201a8"
            ],
            [
             0.3333333333333333,
             "#9c179e"
            ],
            [
             0.4444444444444444,
             "#bd3786"
            ],
            [
             0.5555555555555556,
             "#d8576b"
            ],
            [
             0.6666666666666666,
             "#ed7953"
            ],
            [
             0.7777777777777778,
             "#fb9f3a"
            ],
            [
             0.8888888888888888,
             "#fdca26"
            ],
            [
             1,
             "#f0f921"
            ]
           ]
          },
          "colorway": [
           "#636efa",
           "#EF553B",
           "#00cc96",
           "#ab63fa",
           "#FFA15A",
           "#19d3f3",
           "#FF6692",
           "#B6E880",
           "#FF97FF",
           "#FECB52"
          ],
          "font": {
           "color": "#2a3f5f"
          },
          "geo": {
           "bgcolor": "white",
           "lakecolor": "white",
           "landcolor": "#E5ECF6",
           "showlakes": true,
           "showland": true,
           "subunitcolor": "white"
          },
          "hoverlabel": {
           "align": "left"
          },
          "hovermode": "closest",
          "mapbox": {
           "style": "light"
          },
          "paper_bgcolor": "white",
          "plot_bgcolor": "#E5ECF6",
          "polar": {
           "angularaxis": {
            "gridcolor": "white",
            "linecolor": "white",
            "ticks": ""
           },
           "bgcolor": "#E5ECF6",
           "radialaxis": {
            "gridcolor": "white",
            "linecolor": "white",
            "ticks": ""
           }
          },
          "scene": {
           "xaxis": {
            "backgroundcolor": "#E5ECF6",
            "gridcolor": "white",
            "gridwidth": 2,
            "linecolor": "white",
            "showbackground": true,
            "ticks": "",
            "zerolinecolor": "white"
           },
           "yaxis": {
            "backgroundcolor": "#E5ECF6",
            "gridcolor": "white",
            "gridwidth": 2,
            "linecolor": "white",
            "showbackground": true,
            "ticks": "",
            "zerolinecolor": "white"
           },
           "zaxis": {
            "backgroundcolor": "#E5ECF6",
            "gridcolor": "white",
            "gridwidth": 2,
            "linecolor": "white",
            "showbackground": true,
            "ticks": "",
            "zerolinecolor": "white"
           }
          },
          "shapedefaults": {
           "line": {
            "color": "#2a3f5f"
           }
          },
          "ternary": {
           "aaxis": {
            "gridcolor": "white",
            "linecolor": "white",
            "ticks": ""
           },
           "baxis": {
            "gridcolor": "white",
            "linecolor": "white",
            "ticks": ""
           },
           "bgcolor": "#E5ECF6",
           "caxis": {
            "gridcolor": "white",
            "linecolor": "white",
            "ticks": ""
           }
          },
          "title": {
           "x": 0.05
          },
          "xaxis": {
           "automargin": true,
           "gridcolor": "white",
           "linecolor": "white",
           "ticks": "",
           "zerolinecolor": "white",
           "zerolinewidth": 2
          },
          "yaxis": {
           "automargin": true,
           "gridcolor": "white",
           "linecolor": "white",
           "ticks": "",
           "zerolinecolor": "white",
           "zerolinewidth": 2
          }
         }
        },
        "title": {
         "text": "ROI between Product vs. Brand"
        }
       }
      },
      "text/html": [
       "<div>\n",
       "        \n",
       "        \n",
       "            <div id=\"12406028-0969-49c4-a9b0-12f68f8e0215\" class=\"plotly-graph-div\" style=\"height:525px; width:100%;\"></div>\n",
       "            <script type=\"text/javascript\">\n",
       "                require([\"plotly\"], function(Plotly) {\n",
       "                    window.PLOTLYENV=window.PLOTLYENV || {};\n",
       "                    window.PLOTLYENV.BASE_URL='https://plot.ly';\n",
       "                    \n",
       "                if (document.getElementById(\"12406028-0969-49c4-a9b0-12f68f8e0215\")) {\n",
       "                    Plotly.newPlot(\n",
       "                        '12406028-0969-49c4-a9b0-12f68f8e0215',\n",
       "                        [{\"base\": 0, \"name\": \"Product ROI\", \"type\": \"bar\", \"width\": 0.3, \"x\": [\"Laker Overnight Oats Unsweetened With Chia Seeds Oatmeal 1.76 Ounce Plastic Tub\", \"Laker Overnight Oats Cherry Almond Vanilla Cup 2.61 Ounce\", \"Tonic SODA COLA PLASTIC BOTTLE 1 CT 67.6 OZ\", \"WILD CHERRY Tonic SODA WILD CHERRY COLA CAN IN FRIDGE PCK BX 12 CT 144 OZ\", \"Tonic SODA COLA CAN IN BOX 12 CT 144 OZ\", \"Tonic SODA COLA CAN IN FRIDGE PCK BX 12 CT 144 OZ\", \"Tonic SODA COLA PLASTIC BOTTLE 6 CT 101.4 OZ\", \"Fountain Dew SODA DEW CAN IN FRIDGE PCK BX 12 CT 144 OZ\", \"Fountain Dew THROWBACK SODA CITRUS DEW CAN IN FRIDGE PCK BX 12 CT 144 OZ\", \"Fountain Dew CODE RED SODA CHERRY CITRUS DEW CAN IN FRIDGE PCK BX 12 CT 144 OZ\", \"MUG SODA ROOT BEER CAN IN FRIDGE PCK BX 12 CT 144 OZ\", \"Propel Powder, Kiwi Strawberry, 0.84 Oz, 10 Ct\", \"PROPEL GRAPE SPORTS DRINK MIX PACKET IN BOX 10 CT .84 OZ\", \"Propel, Lemon, Water Beverage Mix with Electrolytes and Vitamins (10 Packets)\", \"Propel Zero Water Beverage Mix, 500 ML , 10 count\", \"PROPEL ZERO KIWI STRAWBERRY FITNESS WATER PLSTC WRPD PLSTC BTL 6 CT 101.4 OZ\", \"PROPEL ZERO BERRY ENHANCED WATER PLSTC WRPD PLSTC BTL 6 CT 101.4 OZ\", \"PROPEL RASPBERRY LEMONADE SPORTS DRINK MIX PACKET IN BOX 10 CT .8 OZ\", \"PROPEL ZERO GRAPE ENHANCED WATER PLSTC WRPD PLSTC BTL 6 CT 101.4 OZ\", \"Laker CORN BRAN CRUNCH CORN BRAN CRUNCH TOASTED 1 CT 10.5 OZ\", \"GATORADE PERFORM LEMON LIME SPORTS DRINK MIX CANISTER 1 CT 18.4 OZ\", \"GATORADE PERFORM FROST GLACIER FREEZE SPORTS DRINK MIX CANISTER 1 CT 51 OZ\", \"Doritos Blaze 2 X 9.75 Oz\", \"DORITOS TORTILLA CHIP NACHO CHEESE BAG 9.75 OZ\", \"Laker INSTANT OATMEAL ORIGINAL 12 CT 11.8 OZ\", \"Laker Instant Oatmeal Breakfast Cereal, Blueberries and Cream, 10 Packets\", \"Laker INSTANT OATMEAL MAPLE & BROWN SUGAR 8 CT 11.5 OZ\", \"Laker DINOSAUR EGGS INSTANT OATMEAL BROWN SUGAR 8 CT 14.1 OZ\", \"Laker LOWER SUGAR INSTANT OATMEAL VARIETY 10 CT 11.5 OZ\", \"Laker Instant Laker Oatmeal, Weight Control Variety Pack, 1.5 Oz, 8 Ct\", \"Laker INSTANT OATMEAL PUMPKIN SPICE 8 CT 12.1 OZ\", \"Laker INSTANT OATMEAL RAISIN DATE WALNUT 10 CT 13 OZ\", \"Laker QUICK OATS 100\\\\% WHOLE GRAIN 1 CT 18 OZ\", \"Laker INSTANT OATMEAL STRAWBERRY & CREAM 10 CT 12.3 OZ\", \"Laker INSTANT OATMEAL APPLE AND CINNAMON 10 CT 15.1 OZ\", \"Laker INSTANT OATMEAL VARIETY 10 CT 15.1 OZ\", \"Laker Simple & Wholesome Date & Almond Multigrain Hot Cereal (5 - 1.58 Ounce) 7.9 Ounce 5 Count Paper Packets\", \"Laker INSTANT OATMEAL MAPLE & BROWN SUGAR 10 CT 15.1 OZ\", \"Laker LOWER SUGAR INSTANT OATMEAL MAPLE & BROWN SUGAR 10 CT 11.9 OZ\", \"Laker INSTANT OATMEAL PEACHES & CREAM 10 CT 12.3 OZ\", \"Laker Peanut Butter & Honey Instant Oatmeal (6 - 1.55 Ounce) 9.3 Ounces 6 Count Paper Packets\", \"Laker NATURAL GRANOLA GRANOLA MIX REGULAR HONEY RASNS & ALMNDS 1 CT 28 OZ\", \"Laker Sandwich Minis Peanut Butter Filled Biscuit Bites (5 - 1.23 Ounce) 6.1 Ounce 5 Count Plastic Bags\", \"Laker NATURAL GRANOLA GRANOLA MIX HONEY OAT ALMOND 1 CT 28 OZ\", \"Laker CHEWY PNT BUTTER CHOC CHIP CHEWY 8 CT 6.7 OZ\", \"Laker CHEWY 90 CALORIES OATMEAL RAISIN CHEWY 8 CT 6.7 OZ\", \"Laker CHEWY DIPPS CHOCOLATE CHOCOLATE CHIP CHEWY 20 CT 21.8 OZ\", \"Laker Chewy Bites Cinnamon Over 4oz 4.5oz\", \"Laker CHEWY BITES CHOCOLATE CHIP 1 CT 4.5 OZ\", \"Laker CHEWY SMORE CHEWY 8 CT 6.7 OZ\", \"Laker CHEWY CHOCOLATE CHIP CHEWY 8 CT 6.7 OZ\", \"Laker BIG CHEWY CHOCOLATE ICING CHOCOLATE CHIP CHEWY 5 CT 7.4 OZ\", \"Laker CHEWY CHOCOLATE CHIP 25% LESS SUGAR CHEWY 8 CT 6.7 OZ\", \"Laker Rice Cakes, Tomato Basil, 6.1 Oz\", \"Laker RICE CAKE PLAIN REGULAR 4.47 OZ\", \"SMARTFOOD RTE POPCORN WHITE CHEDDAR CHEESE INDIVDL BGS IN PG BG 7.5 OZ\", \"SMARTFOOD RTE POPCORN MOVIE THEATER BUTTER BAG 7 OZ\", \"SMARTFOOD RTE POPCORN WHITE CHEDDAR BAG 8.5 OZ\", \"SMARTFOOD DELIGHT RTE POPCORN REGULAR SEA SALT BAG 5 OZ\", \"SMARTFOOD RTE POPCORN PARMESAN GARLIC BAG 7 OZ\", \"SMARTFOOD DELIGHT RTE POPCORN ROSEMARY OLIVE OIL BAG 5 OZ\", \"SMARTFOOD RTE POPCORN WHITE CHEDDAR BAG 10.5 OZ\", \"SMARTFOOD RTE POPCORN SPICY JALAPENO RANCH BAG 7 OZ\", \"SMARTFOOD DELIGHT RTE POPCORN WHITE CHEDDAR BAG 6 OZ\", \"ROLD GOLD PRETZEL BUFFALO WING BAG 8.75 OZ\", \"ROLD GOLD PRETZEL CHEDDAR BAG 10 OZ\", \"ROLD GOLD PRETZEL REGULAR BAG 12 OZ\", \"Rold Gold Flamin Hot Thin Crisps X-Large 8.75oz\", \"ROLD GOLD PRETZEL HONEY WHEAT BAG 10 OZ\", \"Laker OATMEAL SQUARES OAT SQUARE REGULAR 1 CT 14.5 OZ\", \"Laker OATMEAL SQUARES WHOLE GRAIN OAT SQUARE CINNAMON 1 CT 14.5 OZ\", \"Laker LIFE MULTI GRAIN SQUARE CINNAMON 1 CT 18 OZ\", \"Laker LIFE MULTI GRAIN SHREDDED SQUARES REGULAR 1 CT 18 OZ\", \"LIPTON GREEN TEA W/CITRUS PREPARED TEA VITAMIN C ENRICHED PLSTC BL WRP IN PLST 12 CT 16.9 OZ\", \"LIPTON PEACH PREPARED ICED TEA PLSTC BL WRP IN PLST 12 CT 16.9 OZ\", \"Ruffles Mozzarella & Marinara XX-Large 8.5oz\", \"Laker QUICK OATS REGULAR 1 CT 42 OZ\", \"Laker Simple & Wholesome Organic Multigrain Hot Cereal, Oats with Barley, Rye & Red Quinoa, 1 lb Bag\", \"Laker QUICK OATS OLD FASHIONED 1 CT 42 OZ\", \"Laker QUICK 3 MINUTE OATS STEEL CUT 1 CT 25 OZ\", \"Laker OATS STEEL CUT 1 CT 30 OZ\", \"Laker OATS OLD FASHIONED 1 CT 18 OZ\", \"Laker STRAWBERRY SOFT BAKED 5 CT 10.5 OZ\", \"Laker BAKED CINNAMON APPLE SOFT BAKED 5 CT 10.5 OZ\", \"DORITOS TORTILLA CHIP WHITE CHEDDAR BAG 7.5 OZ\", \"Simply Cheetos Puffs White Cheddar Cheese Flavored Snacks, 10 Ct\", \"Laker CAP N CRUNCHS CRUNCH BERRIES OAT AND CORN CRUNCH BERRY 1 CT 18.7 OZ\", \"Laker CAP N CRUNCH OAT AND CORN CRUNCH REGULAR 1 CT 20 OZ\", \"Laker Ongt Ots Tstd Ccnt Amd Crh 2.43Oz\", \"[S] Laker Overnight Oats 2.29 Oz - Blueberry Banana & Vanilla Bliss\", \"Laker Overnight Ots Orcd Pch Pcn 2.57Oz\", \"Laker HIGH FIBER INSTANT OATMEAL CINNAMON SWIRL 8 CT 12.6 OZ\", \"Laker PROTEIN INSTANT OATMEAL CRANBERRY ALMOND 6 CT 13.1 OZ\", \"IZZE FORTIFIED REGULAR POMEGRANATE SPARKLING JUICE DRK 4 CT 33.6 OZ\", \"IZZE FORTIFIED CLEMENTINE SPARKLING JUICE DRK 4 CT 33.6 OZ\", \"IZZE FORTIFIED BLACKBERRY SPARKLING JUICE DRK 4 CT 33.6 OZ\", \"IZZE REGULAR POMEGRANATE SPARKLING JUICE 4 CT 48 OZ\", \"LAYS POPPABLES POTATO SNACK SEA SALT SEA SALT BAG 5 OZ\", \"Lays Wavy Potato Chips 9.5Oz\", \"Lay's Poppables Honey BBQ X-Large 5oz\", \"LAYS POTATO CHIP LIMON BAG 7.75 OZ\", \"AUNT JEMIMA BUTTERMILK PANCAKE/WAFFLE MIX CARDBOARD BOX SHELF STABLE 32 OZ\", \"AUNT JEMIMA ORIGINAL PANCAKE/WAFFLE MIX BOX SHELF STABLE 32 OZ\", \"AUNT JEMIMA ORIGINAL PANCAKE/WAFFLE SYRUP SHELF STABLE 24 OZ\", \"AUNT JEMIMA BUTTER PANCAKE/WAFFLE SYRUP SHELF STABLE 24 OZ\", \"AUNT JEMIMA ORIGINAL PANCAKE/WAFFLE MIX BOX SHELF STABLE 32 OZ\", \"AUNT JEMIMA BUTTERMILK PANCAKE/WAFFLE MIX BOX SHELF STABLE 32 OZ\", \"AUNT JEMIMA ORIGINAL PANCAKE/WAFFLE SYRUP SHELF STABLE 24 OZ\", \"FRITOS DIP CHEDDAR CHEESE MILD PLASTIC CONTAINER 9 OZ\", \"TOSTITOS SALSA REGULAR CHUNKY MILD GLASS JAR 15.5 OZ\", \"LAYS DIP RANCH RANCH GLASS JAR 15 OZ\", \"TOSTITOS SALSA HABANERO CHUNKY HOT GLASS JAR 15.5 OZ\", \"TOSTITOS DIP ETIZERS DIP QUESO CHEESE PLSTC CUP IN SLEEVE 10 OZ\", \"TOSTITOS SALSA REGULAR CHUNKY MEDIUM GLASS JAR 24 OZ\", \"FRITOS DIP ORIGINAL BEAN CANISTER 9 OZ\", \"LAYS DIP FRENCH ONION GLASS JAR 15 OZ\", \"TOSTITOS SALSA REGULAR CHUNKY MILD GLASS JAR 24 OZ\", \"FRITOS DIP JALAPENO CHEDDAR CHEESE PLASTIC CONTAINER 9 OZ\", \"TOSTITOS SALSA REGULAR CHUNKY MEDIUM GLASS JAR 15.5 OZ\", \"TOSTITOS DIP ETIZERS DIP SPINACH ARTICHOKE CHEESE PLSTC CUP IN SLEEVE 10 OZ\", \"TOSTITOS SALSA RESTAURANT STYLE MEDIUM GLASS JAR 15.5 OZ\", \"TOSTITOS DIP SMOOTH AND CHEESY CHEESE GLASS JAR 15 OZ\", \"bubly Sparkling Water, Cherry, 12 Fl Oz, 8 Ct\", \"bubly Sparkling Water, Strawberry, 12 Fl Oz, 8 Ct\", \"Bubly Sparkling Water, Apple, 12 oz, 8 ct\", \"bubly Sparkling Water, Mango, 12 Fl Oz, 8 Ct\", \"bubly Sparkling Water, Grapefruit, 12 Fl Oz, 8 Ct\", \"bubly Sparkling Water, Lemon, 12 Fl Oz, 8 Ct\", \"Bubly Sparkling Water, Orange, 12 oz, 8 ct\", \"bubly Sparkling Water, Lime, 12 Fl Oz, 8 Ct\", \"LAYS KETTLE COOKED POTATO CHIP MESQUITE BARBECUE BAG 8 OZ\", \"LAYS KETTLE COOKED POTATO CHIP JALAPENO BAG 13.5 OZ\", \"LAYS KETTLE COOKED POTATO CHIP JALAPENO BAG 8 OZ\", \"LAYS KETTLE COOKED POTATO CHIP ORIGINAL BAG 8 OZ\", \"ROCKSTAR HARDCORE ENERGY DRINK APPLE REGULAR 1 CT 16 OZ\", \"ROCKSTAR REVOLT ENERGY DRINK KILLER CITRUS 1 CT 16 OZ\", \"ROCKSTAR PURE ZERO ENERGY DRINK PUNCHED ZERO CALORIES 24 CT 384 OZ\", \"ROCKSTAR PURE ZERO ENERGY DRINK ORANGE ZERO CALORIES 1 CT 16 OZ\", \"ROCKSTAR PURE ZERO ENERGY DRINK MANGO ORANG PSSN FRT DIET 1 CT 16 OZ\", \"ROCKSTAR PURE ZERO ENERGY DRINK LEMONADE 1 CT 16 OZ\", \"ROCKSTAR 2X ENERGY ENERGY DRINK ORIGINAL LOW CARB 1 CT 16 OZ\", \"ROCKSTAR PURE ZERO ENERGY DRINK ASSORTED 24 CT 384 OZ - 0818094003872\", \"ROCKSTAR JUICED ENERGY JUICE TROPICAL PASSIONFRUT 1 CT 16 OZ\", \"ROCKSTAR BOOM ENERGY DRINK WHIPPED STRAWBERRY REGULAR 1 CT 16 OZ\", \"ROCKSTAR ENERGY DRINK MIXED MOJITO LOW CALORIE 1 CT 16 OZ\", \"ROCKSTAR ENERGY DRINK CUCUMBER LIME 1 CT 16 OZ\", \"ROCKSTAR ENERGY DRINK COLA 1 CT 16 OZ\", \"ROCKSTAR ORGANIC ENERGY DRINK STRAWBERRY REGULAR 1 CT 15 OZ\", \"ROCKSTAR REVOLT ENERGY DRINK KILLER GRAPE 1 CT 16 OZ\", \"ROCKSTAR BLUEBERRY POMGRNT AC ENERGY WATER PLASTIC BOTTLE 1 CT 20 OZ\", \"ROCKSTAR ENERGY DRINK ORIGINAL 1 CT 24 OZ\", \"ROCKSTAR ENERGY DRINK COLA 1 CT 16 OZ\", \"ROCKSTAR SPARKLING ENRGY DRNK CHERRY CITRUS 24 CT 384 OZ\", \"Laker REAL MEDLEYS MULTI GRAIN FLAKE AND CLUSTER REGULAR CHERRY ALMOND & PECN 1 CT 17 OZ\", \"Laker REAL MEDLEYS OATMEAL APPLE WALNUT 1 CT 2.64 OZ\", \"Laker REAL MEDLEYS OATMEAL SUMMER BERRY 1 CT 2.46 OZ\", \"Laker REAL MEDLEYS OATMEAL PEACH ALMOND 1 CT 2.64 OZ\", \"Laker REAL MEDLEYS OATMEAL BLUEBERRY HAZELNUT 1 CT 2.46 OZ\", \"Laker REAL MEDLEYS OATMEAL BANANA WALNUT 1 CT 2.46 OZ\", \"Laker REAL MEDLEYS OATMEAL MAPLE PECAN RAISIN 1 CT 2.46 OZ\", \"Starbucks Doubleshot Energy Coffee Drink, Mocha, 11 Fl Oz, 4 Ct\", \"STARBUCKS FRAPPUCCINO READY TO DRNK COFFEE CARAMEL LOW FAT 4 CT 38 OZ\", \"STARBUCKS DOUBLESHOT LIGHT ICED COFFEE ESPRESSO & CREAM LITE 4 CT 26 OZ\", \"STARBUCKS REFRESHERS ENERGY DRINK PEACH PASSION REGULAR 1 CT 12 OZ\", \"STARBUCKS REFRESHERS ENERGY DRINK COFFEE LOW CALORIE 1 CT 12 OZ\", \"STARBUCKS FRAPPUCCINO READY TO DRNK COFFEE COFFEE REGULAR 4 CT 38 OZ\", \"STARBUCKS DOUBLESHOT READY TO DRNK COFFEE EXPRESSO AND CREAM 140 CALORIES 4 CT 26 OZ\", \"STARBUCKS FRAPPUCCINO LIGHT READY TO DRNK COFFEE VANILLA LITE 4 CT 38 OZ\", \"LIFE WTR NATURAL WATER PLASTIC BOTTLE 1 CT 33.8 OZ\", \"Lifewater 16.9oz 6pk PET 101.4oz\", \"AQUAFINA NATURAL PURIFIED WATER PLST BTL IN PLST WRP 24 CT 405.6 OZ\", \"Laker BREAKFAST FLATS CRANBERRY ALMOND 5 CT 7 OZ\", \"TOSTITOS DIP QUESO BLANCO MEDIUM GLASS JAR 23 OZ\", \"TOSTITOS SALSA VERDE\", \"LIPTON PURE LEAF UNSWEETENED PREPARED TEA PLASTIC BOTTLE 1 CT 64 OZ\", \"LIPTON PURE LEAF SWEET TEA PREPARED TEA PLSTC BL WRP IN PLST 6 CT 18.5 OZ\", \"LIPTON PURE LEAF SWEET TEA PREPARED TEA PLASTIC BOTTLE 1 CT 64 OZ\", \"LIPTON PURE LEAF UNSWEETENED PREPARED TEA PLSTC BL WRP IN PLST 6 CT 18.5 OZ\", \"LIPTON PURE LEAF RASPBERRY PREPARED TEA PLASTIC BOTTLE 6 CT 18.5 OZ\", \"CHEETOS CHEESE SNACK FLAMIN'  HOT 50\\\\% LESS FAT BAG 7.625 OZ\", \"Diet Tonic, Caffeine Free, 12 Fl Oz, 12 Ct\", \"Diet Tonic, Wild Cherry, 12 Fl Oz, 12 Ct\", \"Diet Tonic Cola 12X12Floz Can\", \"DIET Fountain Dew SODA DEW CAN IN FRIDGE PCK BX 12 CT 144 OZ\", \"LIPTON DIET GREEN TEA W/MXD BRRY PREPARED TEA PLSTC BL WRP IN PLST 12 CT 16.9 OZ\", \"LIPTON DIET GREEN TEA W/CITRUS PREPARED TEA VITAMIN C ENRICHED PLSTC BL WRP IN PLST 12 CT 16.9 OZ\"], \"y\": [11.776935483870965, 10.329290085679313, -7.475662016922022, -10.048247309685133, -7.596189759036141, 32.34258390146042, -1.888177637947725, 14.379119270914293, -1.8357848518111957, -2.4185665421249283, 7.439670781893004, -0.9831275124830516, 17.105846318465716, 15.505428198811767, 24.14657431775434, 0.5938587896762348, 5.104492583394858, 73.68886227428393, 3.3291504014296707, 6.07868692500697, 1.33672992597621, 7.829508610823997, 7.132314177945418, 2.8310570681135543, -0.09431096884649737, 18.14234567901235, 0.5993191575287743, 9.883870056497171, 3.2459409494750067, 0.4259701513656871, 4.513522922585622, -4.041931166347991, -9.512868217054262, 1.9310547987676083, 11.74299293008641, 2.4408365137141788, 4.027802381838482, 17.935945945945942, 20.187521676300573, 5.414702232803088, 0.7164423289843135, 3.81267018128006, 1.4649109752137681, 6.273754158839374, 4.151488205176162, 1.8111013250604695, -1.1756250361543352, -0.6839360070129301, -0.4108240719939741, 2.1432287299630093, 10.116705526770293, -1.4933070682762095, 1.8385083879157245, 1.555275665305882, 6.892808601587719, 3.98649680490237, -0.8796660155764014, 2.2210862339439026, 16.344943342776197, -0.11298101039054095, 2.007692212506188, 1.3913112630906546, -1.2350139275766017, 1.485704140223633, 3.2538969184619586, 3.5873703142748963, 0.12343362872386734, -0.15828634766279412, -0.6658346328564649, 6.1885427750013395, 0.4936214519685789, 0.09176903654067102, 2.4828613438226896, 0.907136710346177, 1.2901290097629012, 0.7377110944597947, 0.3389952841612381, -0.09872675008454528, 31.136449275362317, 0.8539687566662839, 0.1293281304479474, -1.1751798187434488, 0.7175114195230066, 0.1160928757409566, 0.3679587314776347, 0.5673908980982741, 2.924055666003976, -0.7800361336946711, -0.2348227199018275, 0.19420567106487954, -0.5072740963855423, 0.4829812672892338, -1.7847756410256397, 0.31988015344737314, 0.31988015344737314, 0.31988015344737314, 0.31988015344737314, 5.845550274766077, 2.1396401399737783, 0.4698643811867345, -0.3471418758586238, -0.17608036391205473, 0.7433793819512879, 0.8606488155612506, 0.9491871133826192, 0.20004531938523276, -0.3098671313824705, -0.13188994325053482, 3.5721061902365383, 1.3163496446765246, -1.434364705882353, -1.3107550427752919, 0.1995182052584288, 0.36376011474076303, -1.9581823065902575, 2.3641525544329016, 0.16319397283531414, 14.575210526315795, 2.3186956213933216, -0.2321118083810312, -0.2989451261077033, -0.8728749441215917, 0.954025601725704, -0.3578743761792584, 8.394786066922656, 0.7542810207169572, -3.6155494675581967, -0.5661948529411764, -1.2251707317073168, -0.6751507512352529, -2.986148525664361, 1.3421264044943817, 0.06062376475157954, 0.014782045806416903, 0.22042628161395847, 0.22042628161395847, 0.22042628161395847, 0.22042628161395847, 0.22042628161395847, 0.22042628161395847, 0.22042628161395847, 0.22042628161395847, 0.22042628161395847, 0.22042628161395847, 0.22042628161395847, 0.22042628161395847, 0.22042628161395847, 0.22042628161395847, 0.22042628161395847, 0.22042628161395847, 0.22042628161395847, 0.22042628161395847, 0.22042628161395847, 0.05099147767747257, 0.3762601626016254, 0.7277366255144029, 2.7605855539971955, 4.354191093573845, 0.7789845474613688, 0.6569424139051333, -6.172209302325583, -11.098745454545453, -10.470898052112316, -0.011568041819217731, 0.8074336435711821, 3.608924221921516, -13.563016036184214, -3.1239473684210517, 1.7179844961240307, -0.4820263863121005, -0.3996588394393901, -0.8627049078996166, -0.16375702664412065, -0.19714674354393366, -0.5611353093559852, -1.1507498934810396, -0.7117990618853078, 0.5175148672355865, -1.2243831553973905, -1.3069839039191509, 6.858577939835915, 4.493921324018626, -2.090711096860124, -10.116703678185283, -3.510522151898734, -9.025530303030305]}, {\"base\": 0, \"name\": \"Brand ROI\", \"type\": \"bar\", \"width\": 0.5, \"x\": [\"Laker Overnight Oats Unsweetened With Chia Seeds Oatmeal 1.76 Ounce Plastic Tub\", \"Laker Overnight Oats Cherry Almond Vanilla Cup 2.61 Ounce\", \"Tonic SODA COLA PLASTIC BOTTLE 1 CT 67.6 OZ\", \"WILD CHERRY Tonic SODA WILD CHERRY COLA CAN IN FRIDGE PCK BX 12 CT 144 OZ\", \"Tonic SODA COLA CAN IN BOX 12 CT 144 OZ\", \"Tonic SODA COLA CAN IN FRIDGE PCK BX 12 CT 144 OZ\", \"Tonic SODA COLA PLASTIC BOTTLE 6 CT 101.4 OZ\", \"Fountain Dew SODA DEW CAN IN FRIDGE PCK BX 12 CT 144 OZ\", \"Fountain Dew THROWBACK SODA CITRUS DEW CAN IN FRIDGE PCK BX 12 CT 144 OZ\", \"Fountain Dew CODE RED SODA CHERRY CITRUS DEW CAN IN FRIDGE PCK BX 12 CT 144 OZ\", \"MUG SODA ROOT BEER CAN IN FRIDGE PCK BX 12 CT 144 OZ\", \"Propel Powder, Kiwi Strawberry, 0.84 Oz, 10 Ct\", \"PROPEL GRAPE SPORTS DRINK MIX PACKET IN BOX 10 CT .84 OZ\", \"Propel, Lemon, Water Beverage Mix with Electrolytes and Vitamins (10 Packets)\", \"Propel Zero Water Beverage Mix, 500 ML , 10 count\", \"PROPEL ZERO KIWI STRAWBERRY FITNESS WATER PLSTC WRPD PLSTC BTL 6 CT 101.4 OZ\", \"PROPEL ZERO BERRY ENHANCED WATER PLSTC WRPD PLSTC BTL 6 CT 101.4 OZ\", \"PROPEL RASPBERRY LEMONADE SPORTS DRINK MIX PACKET IN BOX 10 CT .8 OZ\", \"PROPEL ZERO GRAPE ENHANCED WATER PLSTC WRPD PLSTC BTL 6 CT 101.4 OZ\", \"Laker CORN BRAN CRUNCH CORN BRAN CRUNCH TOASTED 1 CT 10.5 OZ\", \"GATORADE PERFORM LEMON LIME SPORTS DRINK MIX CANISTER 1 CT 18.4 OZ\", \"GATORADE PERFORM FROST GLACIER FREEZE SPORTS DRINK MIX CANISTER 1 CT 51 OZ\", \"Doritos Blaze 2 X 9.75 Oz\", \"DORITOS TORTILLA CHIP NACHO CHEESE BAG 9.75 OZ\", \"Laker INSTANT OATMEAL ORIGINAL 12 CT 11.8 OZ\", \"Laker Instant Oatmeal Breakfast Cereal, Blueberries and Cream, 10 Packets\", \"Laker INSTANT OATMEAL MAPLE & BROWN SUGAR 8 CT 11.5 OZ\", \"Laker DINOSAUR EGGS INSTANT OATMEAL BROWN SUGAR 8 CT 14.1 OZ\", \"Laker LOWER SUGAR INSTANT OATMEAL VARIETY 10 CT 11.5 OZ\", \"Laker Instant Laker Oatmeal, Weight Control Variety Pack, 1.5 Oz, 8 Ct\", \"Laker INSTANT OATMEAL PUMPKIN SPICE 8 CT 12.1 OZ\", \"Laker INSTANT OATMEAL RAISIN DATE WALNUT 10 CT 13 OZ\", \"Laker QUICK OATS 100\\\\% WHOLE GRAIN 1 CT 18 OZ\", \"Laker INSTANT OATMEAL STRAWBERRY & CREAM 10 CT 12.3 OZ\", \"Laker INSTANT OATMEAL APPLE AND CINNAMON 10 CT 15.1 OZ\", \"Laker INSTANT OATMEAL VARIETY 10 CT 15.1 OZ\", \"Laker Simple & Wholesome Date & Almond Multigrain Hot Cereal (5 - 1.58 Ounce) 7.9 Ounce 5 Count Paper Packets\", \"Laker INSTANT OATMEAL MAPLE & BROWN SUGAR 10 CT 15.1 OZ\", \"Laker LOWER SUGAR INSTANT OATMEAL MAPLE & BROWN SUGAR 10 CT 11.9 OZ\", \"Laker INSTANT OATMEAL PEACHES & CREAM 10 CT 12.3 OZ\", \"Laker Peanut Butter & Honey Instant Oatmeal (6 - 1.55 Ounce) 9.3 Ounces 6 Count Paper Packets\", \"Laker NATURAL GRANOLA GRANOLA MIX REGULAR HONEY RASNS & ALMNDS 1 CT 28 OZ\", \"Laker Sandwich Minis Peanut Butter Filled Biscuit Bites (5 - 1.23 Ounce) 6.1 Ounce 5 Count Plastic Bags\", \"Laker NATURAL GRANOLA GRANOLA MIX HONEY OAT ALMOND 1 CT 28 OZ\", \"Laker CHEWY PNT BUTTER CHOC CHIP CHEWY 8 CT 6.7 OZ\", \"Laker CHEWY 90 CALORIES OATMEAL RAISIN CHEWY 8 CT 6.7 OZ\", \"Laker CHEWY DIPPS CHOCOLATE CHOCOLATE CHIP CHEWY 20 CT 21.8 OZ\", \"Laker Chewy Bites Cinnamon Over 4oz 4.5oz\", \"Laker CHEWY BITES CHOCOLATE CHIP 1 CT 4.5 OZ\", \"Laker CHEWY SMORE CHEWY 8 CT 6.7 OZ\", \"Laker CHEWY CHOCOLATE CHIP CHEWY 8 CT 6.7 OZ\", \"Laker BIG CHEWY CHOCOLATE ICING CHOCOLATE CHIP CHEWY 5 CT 7.4 OZ\", \"Laker CHEWY CHOCOLATE CHIP 25% LESS SUGAR CHEWY 8 CT 6.7 OZ\", \"Laker Rice Cakes, Tomato Basil, 6.1 Oz\", \"Laker RICE CAKE PLAIN REGULAR 4.47 OZ\", \"SMARTFOOD RTE POPCORN WHITE CHEDDAR CHEESE INDIVDL BGS IN PG BG 7.5 OZ\", \"SMARTFOOD RTE POPCORN MOVIE THEATER BUTTER BAG 7 OZ\", \"SMARTFOOD RTE POPCORN WHITE CHEDDAR BAG 8.5 OZ\", \"SMARTFOOD DELIGHT RTE POPCORN REGULAR SEA SALT BAG 5 OZ\", \"SMARTFOOD RTE POPCORN PARMESAN GARLIC BAG 7 OZ\", \"SMARTFOOD DELIGHT RTE POPCORN ROSEMARY OLIVE OIL BAG 5 OZ\", \"SMARTFOOD RTE POPCORN WHITE CHEDDAR BAG 10.5 OZ\", \"SMARTFOOD RTE POPCORN SPICY JALAPENO RANCH BAG 7 OZ\", \"SMARTFOOD DELIGHT RTE POPCORN WHITE CHEDDAR BAG 6 OZ\", \"ROLD GOLD PRETZEL BUFFALO WING BAG 8.75 OZ\", \"ROLD GOLD PRETZEL CHEDDAR BAG 10 OZ\", \"ROLD GOLD PRETZEL REGULAR BAG 12 OZ\", \"Rold Gold Flamin Hot Thin Crisps X-Large 8.75oz\", \"ROLD GOLD PRETZEL HONEY WHEAT BAG 10 OZ\", \"Laker OATMEAL SQUARES OAT SQUARE REGULAR 1 CT 14.5 OZ\", \"Laker OATMEAL SQUARES WHOLE GRAIN OAT SQUARE CINNAMON 1 CT 14.5 OZ\", \"Laker LIFE MULTI GRAIN SQUARE CINNAMON 1 CT 18 OZ\", \"Laker LIFE MULTI GRAIN SHREDDED SQUARES REGULAR 1 CT 18 OZ\", \"LIPTON GREEN TEA W/CITRUS PREPARED TEA VITAMIN C ENRICHED PLSTC BL WRP IN PLST 12 CT 16.9 OZ\", \"LIPTON PEACH PREPARED ICED TEA PLSTC BL WRP IN PLST 12 CT 16.9 OZ\", \"Ruffles Mozzarella & Marinara XX-Large 8.5oz\", \"Laker QUICK OATS REGULAR 1 CT 42 OZ\", \"Laker Simple & Wholesome Organic Multigrain Hot Cereal, Oats with Barley, Rye & Red Quinoa, 1 lb Bag\", \"Laker QUICK OATS OLD FASHIONED 1 CT 42 OZ\", \"Laker QUICK 3 MINUTE OATS STEEL CUT 1 CT 25 OZ\", \"Laker OATS STEEL CUT 1 CT 30 OZ\", \"Laker OATS OLD FASHIONED 1 CT 18 OZ\", \"Laker STRAWBERRY SOFT BAKED 5 CT 10.5 OZ\", \"Laker BAKED CINNAMON APPLE SOFT BAKED 5 CT 10.5 OZ\", \"DORITOS TORTILLA CHIP WHITE CHEDDAR BAG 7.5 OZ\", \"Simply Cheetos Puffs White Cheddar Cheese Flavored Snacks, 10 Ct\", \"Laker CAP N CRUNCHS CRUNCH BERRIES OAT AND CORN CRUNCH BERRY 1 CT 18.7 OZ\", \"Laker CAP N CRUNCH OAT AND CORN CRUNCH REGULAR 1 CT 20 OZ\", \"Laker Ongt Ots Tstd Ccnt Amd Crh 2.43Oz\", \"[S] Laker Overnight Oats 2.29 Oz - Blueberry Banana & Vanilla Bliss\", \"Laker Overnight Ots Orcd Pch Pcn 2.57Oz\", \"Laker HIGH FIBER INSTANT OATMEAL CINNAMON SWIRL 8 CT 12.6 OZ\", \"Laker PROTEIN INSTANT OATMEAL CRANBERRY ALMOND 6 CT 13.1 OZ\", \"IZZE FORTIFIED REGULAR POMEGRANATE SPARKLING JUICE DRK 4 CT 33.6 OZ\", \"IZZE FORTIFIED CLEMENTINE SPARKLING JUICE DRK 4 CT 33.6 OZ\", \"IZZE FORTIFIED BLACKBERRY SPARKLING JUICE DRK 4 CT 33.6 OZ\", \"IZZE REGULAR POMEGRANATE SPARKLING JUICE 4 CT 48 OZ\", \"LAYS POPPABLES POTATO SNACK SEA SALT SEA SALT BAG 5 OZ\", \"Lays Wavy Potato Chips 9.5Oz\", \"Lay's Poppables Honey BBQ X-Large 5oz\", \"LAYS POTATO CHIP LIMON BAG 7.75 OZ\", \"AUNT JEMIMA BUTTERMILK PANCAKE/WAFFLE MIX CARDBOARD BOX SHELF STABLE 32 OZ\", \"AUNT JEMIMA ORIGINAL PANCAKE/WAFFLE MIX BOX SHELF STABLE 32 OZ\", \"AUNT JEMIMA ORIGINAL PANCAKE/WAFFLE SYRUP SHELF STABLE 24 OZ\", \"AUNT JEMIMA BUTTER PANCAKE/WAFFLE SYRUP SHELF STABLE 24 OZ\", \"AUNT JEMIMA ORIGINAL PANCAKE/WAFFLE MIX BOX SHELF STABLE 32 OZ\", \"AUNT JEMIMA BUTTERMILK PANCAKE/WAFFLE MIX BOX SHELF STABLE 32 OZ\", \"AUNT JEMIMA ORIGINAL PANCAKE/WAFFLE SYRUP SHELF STABLE 24 OZ\", \"FRITOS DIP CHEDDAR CHEESE MILD PLASTIC CONTAINER 9 OZ\", \"TOSTITOS SALSA REGULAR CHUNKY MILD GLASS JAR 15.5 OZ\", \"LAYS DIP RANCH RANCH GLASS JAR 15 OZ\", \"TOSTITOS SALSA HABANERO CHUNKY HOT GLASS JAR 15.5 OZ\", \"TOSTITOS DIP ETIZERS DIP QUESO CHEESE PLSTC CUP IN SLEEVE 10 OZ\", \"TOSTITOS SALSA REGULAR CHUNKY MEDIUM GLASS JAR 24 OZ\", \"FRITOS DIP ORIGINAL BEAN CANISTER 9 OZ\", \"LAYS DIP FRENCH ONION GLASS JAR 15 OZ\", \"TOSTITOS SALSA REGULAR CHUNKY MILD GLASS JAR 24 OZ\", \"FRITOS DIP JALAPENO CHEDDAR CHEESE PLASTIC CONTAINER 9 OZ\", \"TOSTITOS SALSA REGULAR CHUNKY MEDIUM GLASS JAR 15.5 OZ\", \"TOSTITOS DIP ETIZERS DIP SPINACH ARTICHOKE CHEESE PLSTC CUP IN SLEEVE 10 OZ\", \"TOSTITOS SALSA RESTAURANT STYLE MEDIUM GLASS JAR 15.5 OZ\", \"TOSTITOS DIP SMOOTH AND CHEESY CHEESE GLASS JAR 15 OZ\", \"bubly Sparkling Water, Cherry, 12 Fl Oz, 8 Ct\", \"bubly Sparkling Water, Strawberry, 12 Fl Oz, 8 Ct\", \"Bubly Sparkling Water, Apple, 12 oz, 8 ct\", \"bubly Sparkling Water, Mango, 12 Fl Oz, 8 Ct\", \"bubly Sparkling Water, Grapefruit, 12 Fl Oz, 8 Ct\", \"bubly Sparkling Water, Lemon, 12 Fl Oz, 8 Ct\", \"Bubly Sparkling Water, Orange, 12 oz, 8 ct\", \"bubly Sparkling Water, Lime, 12 Fl Oz, 8 Ct\", \"LAYS KETTLE COOKED POTATO CHIP MESQUITE BARBECUE BAG 8 OZ\", \"LAYS KETTLE COOKED POTATO CHIP JALAPENO BAG 13.5 OZ\", \"LAYS KETTLE COOKED POTATO CHIP JALAPENO BAG 8 OZ\", \"LAYS KETTLE COOKED POTATO CHIP ORIGINAL BAG 8 OZ\", \"ROCKSTAR HARDCORE ENERGY DRINK APPLE REGULAR 1 CT 16 OZ\", \"ROCKSTAR REVOLT ENERGY DRINK KILLER CITRUS 1 CT 16 OZ\", \"ROCKSTAR PURE ZERO ENERGY DRINK PUNCHED ZERO CALORIES 24 CT 384 OZ\", \"ROCKSTAR PURE ZERO ENERGY DRINK ORANGE ZERO CALORIES 1 CT 16 OZ\", \"ROCKSTAR PURE ZERO ENERGY DRINK MANGO ORANG PSSN FRT DIET 1 CT 16 OZ\", \"ROCKSTAR PURE ZERO ENERGY DRINK LEMONADE 1 CT 16 OZ\", \"ROCKSTAR 2X ENERGY ENERGY DRINK ORIGINAL LOW CARB 1 CT 16 OZ\", \"ROCKSTAR PURE ZERO ENERGY DRINK ASSORTED 24 CT 384 OZ - 0818094003872\", \"ROCKSTAR JUICED ENERGY JUICE TROPICAL PASSIONFRUT 1 CT 16 OZ\", \"ROCKSTAR BOOM ENERGY DRINK WHIPPED STRAWBERRY REGULAR 1 CT 16 OZ\", \"ROCKSTAR ENERGY DRINK MIXED MOJITO LOW CALORIE 1 CT 16 OZ\", \"ROCKSTAR ENERGY DRINK CUCUMBER LIME 1 CT 16 OZ\", \"ROCKSTAR ENERGY DRINK COLA 1 CT 16 OZ\", \"ROCKSTAR ORGANIC ENERGY DRINK STRAWBERRY REGULAR 1 CT 15 OZ\", \"ROCKSTAR REVOLT ENERGY DRINK KILLER GRAPE 1 CT 16 OZ\", \"ROCKSTAR BLUEBERRY POMGRNT AC ENERGY WATER PLASTIC BOTTLE 1 CT 20 OZ\", \"ROCKSTAR ENERGY DRINK ORIGINAL 1 CT 24 OZ\", \"ROCKSTAR ENERGY DRINK COLA 1 CT 16 OZ\", \"ROCKSTAR SPARKLING ENRGY DRNK CHERRY CITRUS 24 CT 384 OZ\", \"Laker REAL MEDLEYS MULTI GRAIN FLAKE AND CLUSTER REGULAR CHERRY ALMOND & PECN 1 CT 17 OZ\", \"Laker REAL MEDLEYS OATMEAL APPLE WALNUT 1 CT 2.64 OZ\", \"Laker REAL MEDLEYS OATMEAL SUMMER BERRY 1 CT 2.46 OZ\", \"Laker REAL MEDLEYS OATMEAL PEACH ALMOND 1 CT 2.64 OZ\", \"Laker REAL MEDLEYS OATMEAL BLUEBERRY HAZELNUT 1 CT 2.46 OZ\", \"Laker REAL MEDLEYS OATMEAL BANANA WALNUT 1 CT 2.46 OZ\", \"Laker REAL MEDLEYS OATMEAL MAPLE PECAN RAISIN 1 CT 2.46 OZ\", \"Starbucks Doubleshot Energy Coffee Drink, Mocha, 11 Fl Oz, 4 Ct\", \"STARBUCKS FRAPPUCCINO READY TO DRNK COFFEE CARAMEL LOW FAT 4 CT 38 OZ\", \"STARBUCKS DOUBLESHOT LIGHT ICED COFFEE ESPRESSO & CREAM LITE 4 CT 26 OZ\", \"STARBUCKS REFRESHERS ENERGY DRINK PEACH PASSION REGULAR 1 CT 12 OZ\", \"STARBUCKS REFRESHERS ENERGY DRINK COFFEE LOW CALORIE 1 CT 12 OZ\", \"STARBUCKS FRAPPUCCINO READY TO DRNK COFFEE COFFEE REGULAR 4 CT 38 OZ\", \"STARBUCKS DOUBLESHOT READY TO DRNK COFFEE EXPRESSO AND CREAM 140 CALORIES 4 CT 26 OZ\", \"STARBUCKS FRAPPUCCINO LIGHT READY TO DRNK COFFEE VANILLA LITE 4 CT 38 OZ\", \"LIFE WTR NATURAL WATER PLASTIC BOTTLE 1 CT 33.8 OZ\", \"Lifewater 16.9oz 6pk PET 101.4oz\", \"AQUAFINA NATURAL PURIFIED WATER PLST BTL IN PLST WRP 24 CT 405.6 OZ\", \"Laker BREAKFAST FLATS CRANBERRY ALMOND 5 CT 7 OZ\", \"TOSTITOS DIP QUESO BLANCO MEDIUM GLASS JAR 23 OZ\", \"TOSTITOS SALSA VERDE\", \"LIPTON PURE LEAF UNSWEETENED PREPARED TEA PLASTIC BOTTLE 1 CT 64 OZ\", \"LIPTON PURE LEAF SWEET TEA PREPARED TEA PLSTC BL WRP IN PLST 6 CT 18.5 OZ\", \"LIPTON PURE LEAF SWEET TEA PREPARED TEA PLASTIC BOTTLE 1 CT 64 OZ\", \"LIPTON PURE LEAF UNSWEETENED PREPARED TEA PLSTC BL WRP IN PLST 6 CT 18.5 OZ\", \"LIPTON PURE LEAF RASPBERRY PREPARED TEA PLASTIC BOTTLE 6 CT 18.5 OZ\", \"CHEETOS CHEESE SNACK FLAMIN'  HOT 50\\\\% LESS FAT BAG 7.625 OZ\", \"Diet Tonic, Caffeine Free, 12 Fl Oz, 12 Ct\", \"Diet Tonic, Wild Cherry, 12 Fl Oz, 12 Ct\", \"Diet Tonic Cola 12X12Floz Can\", \"DIET Fountain Dew SODA DEW CAN IN FRIDGE PCK BX 12 CT 144 OZ\", \"LIPTON DIET GREEN TEA W/MXD BRRY PREPARED TEA PLSTC BL WRP IN PLST 12 CT 16.9 OZ\", \"LIPTON DIET GREEN TEA W/CITRUS PREPARED TEA VITAMIN C ENRICHED PLSTC BL WRP IN PLST 12 CT 16.9 OZ\"], \"y\": [18.133692498963942, 18.133692498963942, 16.713053595631028, 16.713053595631028, 16.713053595631028, 16.713053595631028, 16.713053595631028, 10.82925519873135, 10.82925519873135, 10.82925519873135, 7.439670781893003, 6.892059884409299, 6.892059884409299, 6.892059884409299, 6.892059884409299, 6.892059884409299, 6.892059884409299, 6.892059884409299, 6.892059884409299, 6.07868692500697, 4.255117313476962, 4.255117313476962, 3.88320675844806, 3.88320675844806, 3.0874611791047837, 3.0874611791047837, 3.0874611791047837, 3.0874611791047837, 3.0874611791047837, 3.0874611791047837, 3.0874611791047837, 3.0874611791047837, 3.0874611791047837, 3.0874611791047837, 3.0874611791047837, 3.0874611791047837, 3.0874611791047837, 3.0874611791047837, 3.0874611791047837, 3.0874611791047837, 3.0874611791047837, 3.0170217559048718, 3.0170217559048718, 3.0170217559048718, 2.945469059622167, 2.945469059622167, 2.945469059622167, 2.945469059622167, 2.945469059622167, 2.945469059622167, 2.945469059622167, 2.945469059622167, 2.945469059622167, 2.4460479265187343, 2.4460479265187343, 2.4130875119890964, 2.4130875119890964, 2.4130875119890964, 2.4130875119890964, 2.4130875119890964, 2.4130875119890964, 2.4130875119890964, 2.4130875119890964, 2.4130875119890964, 1.211313512613532, 1.211313512613532, 1.211313512613532, 1.211313512613532, 1.211313512613532, 1.1756092749006841, 1.1756092749006841, 0.844756529727388, 0.844756529727388, 0.81827505407354, 0.81827505407354, 0.737711094459795, 0.718665275806409, 0.718665275806409, 0.718665275806409, 0.718665275806409, 0.718665275806409, 0.718665275806409, 0.688357301225596, 0.688357301225596, 0.640497462681273, 0.640497462681273, 0.30071282261368293, 0.30071282261368293, 0.2990839953791901, 0.2990839953791901, 0.2990839953791901, 0.2870272151458218, 0.2870272151458218, 0.2639935039014399, 0.2639935039014399, 0.2639935039014399, 0.2639935039014399, 0.2515703304396606, 0.2515703304396606, 0.2515703304396606, 0.2515703304396606, 0.20314498083403157, 0.20314498083403157, 0.20314498083403157, 0.20314498083403157, 0.20314498083403157, 0.20314498083403157, 0.20314498083403157, 0.1940819311716188, 0.1940819311716188, 0.1940819311716188, 0.1940819311716188, 0.1940819311716188, 0.1940819311716188, 0.1940819311716188, 0.1940819311716188, 0.1940819311716188, 0.1940819311716188, 0.1940819311716188, 0.1940819311716188, 0.1940819311716188, 0.1940819311716188, 0.18275451825322828, 0.18275451825322828, 0.18275451825322828, 0.18275451825322828, 0.18275451825322828, 0.18275451825322828, 0.18275451825322828, 0.18275451825322828, 0.0798094712536848, 0.0798094712536848, 0.0798094712536848, 0.0798094712536848, 0.03961759858673285, 0.03961759858673285, 0.03961759858673285, 0.03961759858673285, 0.03961759858673285, 0.03961759858673285, 0.03961759858673285, 0.03961759858673285, 0.03961759858673285, 0.03961759858673285, 0.03961759858673285, 0.03961759858673285, 0.03961759858673285, 0.03961759858673285, 0.03961759858673285, 0.03961754669661563, 0.03961754669661563, 0.03961754669661563, 0.03961754669661563, -0.013538672583751592, -0.013538672583751592, -0.013538672583751592, -0.013538672583751592, -0.013538672583751592, -0.013538672583751592, -0.013538672583751592, -0.08514670113724745, -0.08514670113724745, -0.08514670113724745, -0.08514670113724745, -0.08514670113724745, -0.08514670113724745, -0.08514670113724745, -0.08514670113724745, -0.3652213711666231, -0.3652213711666231, -0.3996588394393901, -0.8627049078996166, -0.881670937173449, -0.881670937173449, -1.1189702897213505, -1.1189702897213505, -1.1189702897213505, -1.1189702897213505, -1.1189702897213505, -1.3069839039191509, -2.2717319529603373, -2.2717319529603373, -2.2717319529603373, -10.116703678185283, -10.660180467091298, -10.660180467091298]}],\n",
       "                        {\"barmode\": \"overlay\", \"template\": {\"data\": {\"bar\": [{\"error_x\": {\"color\": \"#2a3f5f\"}, \"error_y\": {\"color\": \"#2a3f5f\"}, \"marker\": {\"line\": {\"color\": \"#E5ECF6\", \"width\": 0.5}}, \"type\": \"bar\"}], \"barpolar\": [{\"marker\": {\"line\": {\"color\": \"#E5ECF6\", \"width\": 0.5}}, \"type\": \"barpolar\"}], \"carpet\": [{\"aaxis\": {\"endlinecolor\": \"#2a3f5f\", \"gridcolor\": \"white\", \"linecolor\": \"white\", \"minorgridcolor\": \"white\", \"startlinecolor\": \"#2a3f5f\"}, \"baxis\": {\"endlinecolor\": \"#2a3f5f\", \"gridcolor\": \"white\", \"linecolor\": \"white\", \"minorgridcolor\": \"white\", \"startlinecolor\": \"#2a3f5f\"}, \"type\": \"carpet\"}], \"choropleth\": [{\"colorbar\": {\"outlinewidth\": 0, \"ticks\": \"\"}, \"type\": \"choropleth\"}], \"contour\": [{\"colorbar\": {\"outlinewidth\": 0, \"ticks\": \"\"}, \"colorscale\": [[0.0, \"#0d0887\"], [0.1111111111111111, \"#46039f\"], [0.2222222222222222, \"#7201a8\"], [0.3333333333333333, \"#9c179e\"], [0.4444444444444444, \"#bd3786\"], [0.5555555555555556, \"#d8576b\"], [0.6666666666666666, \"#ed7953\"], [0.7777777777777778, \"#fb9f3a\"], [0.8888888888888888, \"#fdca26\"], [1.0, \"#f0f921\"]], \"type\": \"contour\"}], \"contourcarpet\": [{\"colorbar\": {\"outlinewidth\": 0, \"ticks\": \"\"}, \"type\": \"contourcarpet\"}], \"heatmap\": [{\"colorbar\": {\"outlinewidth\": 0, \"ticks\": \"\"}, \"colorscale\": [[0.0, \"#0d0887\"], [0.1111111111111111, \"#46039f\"], [0.2222222222222222, \"#7201a8\"], [0.3333333333333333, \"#9c179e\"], [0.4444444444444444, \"#bd3786\"], [0.5555555555555556, \"#d8576b\"], [0.6666666666666666, \"#ed7953\"], [0.7777777777777778, \"#fb9f3a\"], [0.8888888888888888, \"#fdca26\"], [1.0, \"#f0f921\"]], \"type\": \"heatmap\"}], \"heatmapgl\": [{\"colorbar\": {\"outlinewidth\": 0, \"ticks\": \"\"}, \"colorscale\": [[0.0, \"#0d0887\"], [0.1111111111111111, \"#46039f\"], [0.2222222222222222, \"#7201a8\"], [0.3333333333333333, \"#9c179e\"], [0.4444444444444444, \"#bd3786\"], [0.5555555555555556, \"#d8576b\"], [0.6666666666666666, \"#ed7953\"], [0.7777777777777778, \"#fb9f3a\"], [0.8888888888888888, \"#fdca26\"], [1.0, \"#f0f921\"]], \"type\": \"heatmapgl\"}], \"histogram\": [{\"marker\": {\"colorbar\": {\"outlinewidth\": 0, \"ticks\": \"\"}}, \"type\": \"histogram\"}], \"histogram2d\": [{\"colorbar\": {\"outlinewidth\": 0, \"ticks\": \"\"}, \"colorscale\": [[0.0, \"#0d0887\"], [0.1111111111111111, \"#46039f\"], [0.2222222222222222, \"#7201a8\"], [0.3333333333333333, \"#9c179e\"], [0.4444444444444444, \"#bd3786\"], [0.5555555555555556, \"#d8576b\"], [0.6666666666666666, \"#ed7953\"], [0.7777777777777778, \"#fb9f3a\"], [0.8888888888888888, \"#fdca26\"], [1.0, \"#f0f921\"]], \"type\": \"histogram2d\"}], \"histogram2dcontour\": [{\"colorbar\": {\"outlinewidth\": 0, \"ticks\": \"\"}, \"colorscale\": [[0.0, \"#0d0887\"], [0.1111111111111111, \"#46039f\"], [0.2222222222222222, \"#7201a8\"], [0.3333333333333333, \"#9c179e\"], [0.4444444444444444, \"#bd3786\"], [0.5555555555555556, \"#d8576b\"], [0.6666666666666666, \"#ed7953\"], [0.7777777777777778, \"#fb9f3a\"], [0.8888888888888888, \"#fdca26\"], [1.0, \"#f0f921\"]], \"type\": \"histogram2dcontour\"}], \"mesh3d\": [{\"colorbar\": {\"outlinewidth\": 0, \"ticks\": \"\"}, \"type\": \"mesh3d\"}], \"parcoords\": [{\"line\": {\"colorbar\": {\"outlinewidth\": 0, \"ticks\": \"\"}}, \"type\": \"parcoords\"}], \"scatter\": [{\"marker\": {\"colorbar\": {\"outlinewidth\": 0, \"ticks\": \"\"}}, \"type\": \"scatter\"}], \"scatter3d\": [{\"line\": {\"colorbar\": {\"outlinewidth\": 0, \"ticks\": \"\"}}, \"marker\": {\"colorbar\": {\"outlinewidth\": 0, \"ticks\": \"\"}}, \"type\": \"scatter3d\"}], \"scattercarpet\": [{\"marker\": {\"colorbar\": {\"outlinewidth\": 0, \"ticks\": \"\"}}, \"type\": \"scattercarpet\"}], \"scattergeo\": [{\"marker\": {\"colorbar\": {\"outlinewidth\": 0, \"ticks\": \"\"}}, \"type\": \"scattergeo\"}], \"scattergl\": [{\"marker\": {\"colorbar\": {\"outlinewidth\": 0, \"ticks\": \"\"}}, \"type\": \"scattergl\"}], \"scattermapbox\": [{\"marker\": {\"colorbar\": {\"outlinewidth\": 0, \"ticks\": \"\"}}, \"type\": \"scattermapbox\"}], \"scatterpolar\": [{\"marker\": {\"colorbar\": {\"outlinewidth\": 0, \"ticks\": \"\"}}, \"type\": \"scatterpolar\"}], \"scatterpolargl\": [{\"marker\": {\"colorbar\": {\"outlinewidth\": 0, \"ticks\": \"\"}}, \"type\": \"scatterpolargl\"}], \"scatterternary\": [{\"marker\": {\"colorbar\": {\"outlinewidth\": 0, \"ticks\": \"\"}}, \"type\": \"scatterternary\"}], \"surface\": [{\"colorbar\": {\"outlinewidth\": 0, \"ticks\": \"\"}, \"colorscale\": [[0.0, \"#0d0887\"], [0.1111111111111111, \"#46039f\"], [0.2222222222222222, \"#7201a8\"], [0.3333333333333333, \"#9c179e\"], [0.4444444444444444, \"#bd3786\"], [0.5555555555555556, \"#d8576b\"], [0.6666666666666666, \"#ed7953\"], [0.7777777777777778, \"#fb9f3a\"], [0.8888888888888888, \"#fdca26\"], [1.0, \"#f0f921\"]], \"type\": \"surface\"}], \"table\": [{\"cells\": {\"fill\": {\"color\": \"#EBF0F8\"}, \"line\": {\"color\": \"white\"}}, \"header\": {\"fill\": {\"color\": \"#C8D4E3\"}, \"line\": {\"color\": \"white\"}}, \"type\": \"table\"}]}, \"layout\": {\"annotationdefaults\": {\"arrowcolor\": \"#2a3f5f\", \"arrowhead\": 0, \"arrowwidth\": 1}, \"colorscale\": {\"diverging\": [[0, \"#8e0152\"], [0.1, \"#c51b7d\"], [0.2, \"#de77ae\"], [0.3, \"#f1b6da\"], [0.4, \"#fde0ef\"], [0.5, \"#f7f7f7\"], [0.6, \"#e6f5d0\"], [0.7, \"#b8e186\"], [0.8, \"#7fbc41\"], [0.9, \"#4d9221\"], [1, \"#276419\"]], \"sequential\": [[0.0, \"#0d0887\"], [0.1111111111111111, \"#46039f\"], [0.2222222222222222, \"#7201a8\"], [0.3333333333333333, \"#9c179e\"], [0.4444444444444444, \"#bd3786\"], [0.5555555555555556, \"#d8576b\"], [0.6666666666666666, \"#ed7953\"], [0.7777777777777778, \"#fb9f3a\"], [0.8888888888888888, \"#fdca26\"], [1.0, \"#f0f921\"]], \"sequentialminus\": [[0.0, \"#0d0887\"], [0.1111111111111111, \"#46039f\"], [0.2222222222222222, \"#7201a8\"], [0.3333333333333333, \"#9c179e\"], [0.4444444444444444, \"#bd3786\"], [0.5555555555555556, \"#d8576b\"], [0.6666666666666666, \"#ed7953\"], [0.7777777777777778, \"#fb9f3a\"], [0.8888888888888888, \"#fdca26\"], [1.0, \"#f0f921\"]]}, \"colorway\": [\"#636efa\", \"#EF553B\", \"#00cc96\", \"#ab63fa\", \"#FFA15A\", \"#19d3f3\", \"#FF6692\", \"#B6E880\", \"#FF97FF\", \"#FECB52\"], \"font\": {\"color\": \"#2a3f5f\"}, \"geo\": {\"bgcolor\": \"white\", \"lakecolor\": \"white\", \"landcolor\": \"#E5ECF6\", \"showlakes\": true, \"showland\": true, \"subunitcolor\": \"white\"}, \"hoverlabel\": {\"align\": \"left\"}, \"hovermode\": \"closest\", \"mapbox\": {\"style\": \"light\"}, \"paper_bgcolor\": \"white\", \"plot_bgcolor\": \"#E5ECF6\", \"polar\": {\"angularaxis\": {\"gridcolor\": \"white\", \"linecolor\": \"white\", \"ticks\": \"\"}, \"bgcolor\": \"#E5ECF6\", \"radialaxis\": {\"gridcolor\": \"white\", \"linecolor\": \"white\", \"ticks\": \"\"}}, \"scene\": {\"xaxis\": {\"backgroundcolor\": \"#E5ECF6\", \"gridcolor\": \"white\", \"gridwidth\": 2, \"linecolor\": \"white\", \"showbackground\": true, \"ticks\": \"\", \"zerolinecolor\": \"white\"}, \"yaxis\": {\"backgroundcolor\": \"#E5ECF6\", \"gridcolor\": \"white\", \"gridwidth\": 2, \"linecolor\": \"white\", \"showbackground\": true, \"ticks\": \"\", \"zerolinecolor\": \"white\"}, \"zaxis\": {\"backgroundcolor\": \"#E5ECF6\", \"gridcolor\": \"white\", \"gridwidth\": 2, \"linecolor\": \"white\", \"showbackground\": true, \"ticks\": \"\", \"zerolinecolor\": \"white\"}}, \"shapedefaults\": {\"line\": {\"color\": \"#2a3f5f\"}}, \"ternary\": {\"aaxis\": {\"gridcolor\": \"white\", \"linecolor\": \"white\", \"ticks\": \"\"}, \"baxis\": {\"gridcolor\": \"white\", \"linecolor\": \"white\", \"ticks\": \"\"}, \"bgcolor\": \"#E5ECF6\", \"caxis\": {\"gridcolor\": \"white\", \"linecolor\": \"white\", \"ticks\": \"\"}}, \"title\": {\"x\": 0.05}, \"xaxis\": {\"automargin\": true, \"gridcolor\": \"white\", \"linecolor\": \"white\", \"ticks\": \"\", \"zerolinecolor\": \"white\", \"zerolinewidth\": 2}, \"yaxis\": {\"automargin\": true, \"gridcolor\": \"white\", \"linecolor\": \"white\", \"ticks\": \"\", \"zerolinecolor\": \"white\", \"zerolinewidth\": 2}}}, \"title\": {\"text\": \"ROI between Product vs. Brand\"}},\n",
       "                        {\"showLink\": true, \"linkText\": \"Export to plot.ly\", \"plotlyServerURL\": \"https://plot.ly\", \"responsive\": true}\n",
       "                    ).then(function(){\n",
       "                            \n",
       "var gd = document.getElementById('12406028-0969-49c4-a9b0-12f68f8e0215');\n",
       "var x = new MutationObserver(function (mutations, observer) {{\n",
       "        var display = window.getComputedStyle(gd).display;\n",
       "        if (!display || display === 'none') {{\n",
       "            console.log([gd, 'removed!']);\n",
       "            Plotly.purge(gd);\n",
       "            observer.disconnect();\n",
       "        }}\n",
       "}});\n",
       "\n",
       "// Listen for the removal of the full notebook cells\n",
       "var notebookContainer = gd.closest('#notebook-container');\n",
       "if (notebookContainer) {{\n",
       "    x.observe(notebookContainer, {childList: true});\n",
       "}}\n",
       "\n",
       "// Listen for the clearing of the current output cell\n",
       "var outputEl = gd.closest('.output');\n",
       "if (outputEl) {{\n",
       "    x.observe(outputEl, {childList: true});\n",
       "}}\n",
       "\n",
       "                        })\n",
       "                };\n",
       "                });\n",
       "            </script>\n",
       "        </div>"
      ]
     },
     "metadata": {},
     "output_type": "display_data"
    }
   ],
   "source": [
    "dfAllUPCBrand.sort_values(by= \"BrandSpendCoef\", inplace = True, ascending = False)\n",
    "data = [\n",
    "    go.Bar(\n",
    "        x=dfAllUPCBrand['UPC Title'].astype(\"category\"), # assign x as the dataframe column 'UPC'\n",
    "        y=dfAllUPCBrand['UPCSpendCoef'], #ROI at the product level\n",
    "        name='Product ROI',\n",
    "        base = 0,\n",
    "        width = 0.3\n",
    "    ),\n",
    "    go.Bar(\n",
    "        x=dfAllUPCBrand['UPC Title'].astype(\"category\"),# assign x as the dataframe column 'UPC'\n",
    "        y=dfAllUPCBrand['BrandSpendCoef'],\n",
    "        name='Brand ROI',\n",
    "        base = 0,\n",
    "        width = 0.5\n",
    "    )\n",
    "\n",
    "]\n",
    "\n",
    "layout = go.Layout(\n",
    "    barmode='overlay',\n",
    "    title='ROI between Product vs. Brand'\n",
    ")\n",
    "\n",
    "fig = go.Figure(data=data, layout=layout)\n",
    "\n",
    "\n",
    "iplot(fig, show_link=True)\n"
   ]
  },
  {
   "cell_type": "code",
   "execution_count": 36,
   "metadata": {},
   "outputs": [],
   "source": [
    "def plotSpendSale(df, title):\n",
    "    trace1 = go.Scatter(\n",
    "    x=dfviz[\"WeekNum\"],\n",
    "    y=dfviz[\"Spend\"],\n",
    "    name='Spend')\n",
    "    \n",
    "    trace2 = go.Scatter(\n",
    "    x=dfviz[\"WeekNum\"],\n",
    "    y=dfviz[\"Gross Sales\"],\n",
    "    name='Sales',\n",
    "    yaxis = \"y2\")\n",
    "\n",
    "    data = [trace1, trace2]\n",
    "    \n",
    "    layout = go.Layout(\n",
    "    #barmode='group',\n",
    "    title=title,\n",
    "    width=800,\n",
    "    yaxis=dict(\n",
    "        title='Spend',\n",
    "        titlefont=dict(\n",
    "            color='#1f77b4'\n",
    "        ),\n",
    "        tickfont=dict(\n",
    "            color='#1f77b4'\n",
    "        )\n",
    "    ),\n",
    "        \n",
    "    yaxis2=dict(\n",
    "        title='Sales',\n",
    "        titlefont=dict(\n",
    "            color='rgb(148, 103, 189)'\n",
    "        ),\n",
    "        tickfont=dict(\n",
    "            color='rgb(148, 103, 189)'\n",
    "        ),\n",
    "        \n",
    "        overlaying='y',\n",
    "        side='right',\n",
    "        \n",
    "        )\n",
    "    )    \n",
    "\n",
    "    fig = go.Figure(data=data, layout=layout)\n",
    "    plot = plotly.offline.plot\n",
    "    title2 = title.replace(\" \", \"_\").replace(\":\", \"_\")\n",
    "    plot(fig, filename=title2+\".html\")"
   ]
  },
  {
   "cell_type": "code",
   "execution_count": 37,
   "metadata": {},
   "outputs": [],
   "source": [
    "top6UPC = OmergeBrand.groupby('UPC')['Gross Sales'].sum().sort_values(ascending=False).index[:6]\n",
    "\n",
    "#make the charts and save in directory\n",
    "for UPC in top6UPC:\n",
    "    dfviz = OmergeBrand.loc[OmergeBrand['UPC'] == UPC]\n",
    "    dfviz = dfviz.sort_values(\"WeekNum\")\n",
    "    brand = dfviz[\"Brand Name\"].values[0]\n",
    "    title = 'UPC:'+str(UPC) +\" brand:\"+brand\n",
    "    \n",
    "    plotSpendSale(df=dfviz, title=title)\n",
    "\n",
    "\n",
    "top6Brand = dfAllBrand.sort_values(by=[\"toOSalesWk18-52\"], ascending=False)[\"Brand Name\"][:6]\n",
    "\n",
    "for brand in top6Brand:\n",
    "    dfviz = OmergeBrand2.loc[OmergeBrand2['Brand Name'] == brand]\n",
    "    dfviz = dfviz.sort_values(\"WeekNum\")\n",
    "    title = \"brand:\"+brand\n",
    "    \n",
    "    plotSpendSale(df=dfviz, title=title)\n"
   ]
  },
  {
   "cell_type": "code",
   "execution_count": 38,
   "metadata": {},
   "outputs": [],
   "source": [
    "#makecharts for UPCs that were allocated top spend\n",
    "top6spendUPC = OmergeBrand.groupby('UPC')['Spend'].sum().sort_values(ascending=False).index[:6]\n",
    "\n",
    "for UPC in top6UPC:\n",
    "    dfviz = OmergeBrand.loc[OmergeBrand['UPC'] == UPC]\n",
    "    dfviz = dfviz.sort_values(\"WeekNum\")\n",
    "    brand = dfviz[\"Brand Name\"].values[0]\n",
    "    title = 'SpendUPC:'+str(UPC) +\" brand:\"+brand\n",
    "    \n",
    "    plotSpendSale(df=dfviz, title=title)\n",
    "\n",
    "top6spendbrand = OmergeBrand2.sort_values(by=[\"Spend\"], ascending=False)[\"Brand Name\"][:6]\n",
    "\n",
    "for brand in top6Brand:\n",
    "    dfviz = OmergeBrand2.loc[OmergeBrand2['Brand Name'] == brand]\n",
    "    dfviz = dfviz.sort_values(\"WeekNum\")\n",
    "    title = \"Spendbrand:\"+brand\n",
    "    \n",
    "    plotSpendSale(df=dfviz, title=title)"
   ]
  },
  {
   "cell_type": "code",
   "execution_count": null,
   "metadata": {},
   "outputs": [],
   "source": []
  }
 ],
 "metadata": {
  "kernelspec": {
   "display_name": "Python 3",
   "language": "python",
   "name": "python3"
  },
  "language_info": {
   "codemirror_mode": {
    "name": "ipython",
    "version": 3
   },
   "file_extension": ".py",
   "mimetype": "text/x-python",
   "name": "python",
   "nbconvert_exporter": "python",
   "pygments_lexer": "ipython3",
   "version": "3.6.5"
  }
 },
 "nbformat": 4,
 "nbformat_minor": 2
}
